{
  "nbformat": 4,
  "nbformat_minor": 0,
  "metadata": {
    "colab": {
      "name": "CMPE 258 : Assignment 3 Teepika R M.ipynb",
      "provenance": [],
      "toc_visible": true
    },
    "kernelspec": {
      "name": "python3",
      "display_name": "Python 3"
    },
    "language_info": {
      "name": "python"
    },
    "widgets": {
      "application/vnd.jupyter.widget-state+json": {
        "dcca9407483c4b6897a82271fe7ad3d5": {
          "model_module": "@jupyter-widgets/controls",
          "model_name": "HBoxModel",
          "state": {
            "_view_name": "HBoxView",
            "_dom_classes": [],
            "_model_name": "HBoxModel",
            "_view_module": "@jupyter-widgets/controls",
            "_model_module_version": "1.5.0",
            "_view_count": null,
            "_view_module_version": "1.5.0",
            "box_style": "",
            "layout": "IPY_MODEL_572256928f4443a6b5c03e699ca77c0e",
            "_model_module": "@jupyter-widgets/controls",
            "children": [
              "IPY_MODEL_89904490fe5f454fb7e1f1d34b57ad6c",
              "IPY_MODEL_d87a2a758906484da69fb6ae6041cb3a"
            ]
          }
        },
        "572256928f4443a6b5c03e699ca77c0e": {
          "model_module": "@jupyter-widgets/base",
          "model_name": "LayoutModel",
          "state": {
            "_view_name": "LayoutView",
            "grid_template_rows": null,
            "right": null,
            "justify_content": null,
            "_view_module": "@jupyter-widgets/base",
            "overflow": null,
            "_model_module_version": "1.2.0",
            "_view_count": null,
            "flex_flow": "row wrap",
            "width": "100%",
            "min_width": null,
            "border": null,
            "align_items": null,
            "bottom": null,
            "_model_module": "@jupyter-widgets/base",
            "top": null,
            "grid_column": null,
            "overflow_y": null,
            "overflow_x": null,
            "grid_auto_flow": null,
            "grid_area": null,
            "grid_template_columns": null,
            "flex": null,
            "_model_name": "LayoutModel",
            "justify_items": null,
            "grid_row": null,
            "max_height": null,
            "align_content": null,
            "visibility": null,
            "align_self": null,
            "height": null,
            "min_height": null,
            "padding": null,
            "grid_auto_rows": null,
            "grid_gap": null,
            "max_width": null,
            "order": null,
            "_view_module_version": "1.2.0",
            "grid_template_areas": null,
            "object_position": null,
            "object_fit": null,
            "grid_auto_columns": null,
            "margin": null,
            "display": "inline-flex",
            "left": null
          }
        },
        "89904490fe5f454fb7e1f1d34b57ad6c": {
          "model_module": "@jupyter-widgets/controls",
          "model_name": "FloatProgressModel",
          "state": {
            "_view_name": "ProgressView",
            "style": "IPY_MODEL_78d025ea6fad4669b496240e1841d382",
            "_dom_classes": [],
            "description": "Validation sanity check:   0%",
            "_model_name": "FloatProgressModel",
            "bar_style": "danger",
            "max": 2,
            "_view_module": "@jupyter-widgets/controls",
            "_model_module_version": "1.5.0",
            "value": 0,
            "_view_count": null,
            "_view_module_version": "1.5.0",
            "orientation": "horizontal",
            "min": 0,
            "description_tooltip": null,
            "_model_module": "@jupyter-widgets/controls",
            "layout": "IPY_MODEL_c1e32719e7dd477cbb8446ad98f0188e"
          }
        },
        "d87a2a758906484da69fb6ae6041cb3a": {
          "model_module": "@jupyter-widgets/controls",
          "model_name": "HTMLModel",
          "state": {
            "_view_name": "HTMLView",
            "style": "IPY_MODEL_94808fbdef27428b8753958bcdc396ca",
            "_dom_classes": [],
            "description": "",
            "_model_name": "HTMLModel",
            "placeholder": "​",
            "_view_module": "@jupyter-widgets/controls",
            "_model_module_version": "1.5.0",
            "value": " 0/2 [02:45&lt;?, ?it/s]",
            "_view_count": null,
            "_view_module_version": "1.5.0",
            "description_tooltip": null,
            "_model_module": "@jupyter-widgets/controls",
            "layout": "IPY_MODEL_4900c3f2e26947bdb1ead90a27772c1c"
          }
        },
        "78d025ea6fad4669b496240e1841d382": {
          "model_module": "@jupyter-widgets/controls",
          "model_name": "ProgressStyleModel",
          "state": {
            "_view_name": "StyleView",
            "_model_name": "ProgressStyleModel",
            "description_width": "initial",
            "_view_module": "@jupyter-widgets/base",
            "_model_module_version": "1.5.0",
            "_view_count": null,
            "_view_module_version": "1.2.0",
            "bar_color": null,
            "_model_module": "@jupyter-widgets/controls"
          }
        },
        "c1e32719e7dd477cbb8446ad98f0188e": {
          "model_module": "@jupyter-widgets/base",
          "model_name": "LayoutModel",
          "state": {
            "_view_name": "LayoutView",
            "grid_template_rows": null,
            "right": null,
            "justify_content": null,
            "_view_module": "@jupyter-widgets/base",
            "overflow": null,
            "_model_module_version": "1.2.0",
            "_view_count": null,
            "flex_flow": null,
            "width": null,
            "min_width": null,
            "border": null,
            "align_items": null,
            "bottom": null,
            "_model_module": "@jupyter-widgets/base",
            "top": null,
            "grid_column": null,
            "overflow_y": null,
            "overflow_x": null,
            "grid_auto_flow": null,
            "grid_area": null,
            "grid_template_columns": null,
            "flex": "2",
            "_model_name": "LayoutModel",
            "justify_items": null,
            "grid_row": null,
            "max_height": null,
            "align_content": null,
            "visibility": null,
            "align_self": null,
            "height": null,
            "min_height": null,
            "padding": null,
            "grid_auto_rows": null,
            "grid_gap": null,
            "max_width": null,
            "order": null,
            "_view_module_version": "1.2.0",
            "grid_template_areas": null,
            "object_position": null,
            "object_fit": null,
            "grid_auto_columns": null,
            "margin": null,
            "display": null,
            "left": null
          }
        },
        "94808fbdef27428b8753958bcdc396ca": {
          "model_module": "@jupyter-widgets/controls",
          "model_name": "DescriptionStyleModel",
          "state": {
            "_view_name": "StyleView",
            "_model_name": "DescriptionStyleModel",
            "description_width": "",
            "_view_module": "@jupyter-widgets/base",
            "_model_module_version": "1.5.0",
            "_view_count": null,
            "_view_module_version": "1.2.0",
            "_model_module": "@jupyter-widgets/controls"
          }
        },
        "4900c3f2e26947bdb1ead90a27772c1c": {
          "model_module": "@jupyter-widgets/base",
          "model_name": "LayoutModel",
          "state": {
            "_view_name": "LayoutView",
            "grid_template_rows": null,
            "right": null,
            "justify_content": null,
            "_view_module": "@jupyter-widgets/base",
            "overflow": null,
            "_model_module_version": "1.2.0",
            "_view_count": null,
            "flex_flow": null,
            "width": null,
            "min_width": null,
            "border": null,
            "align_items": null,
            "bottom": null,
            "_model_module": "@jupyter-widgets/base",
            "top": null,
            "grid_column": null,
            "overflow_y": null,
            "overflow_x": null,
            "grid_auto_flow": null,
            "grid_area": null,
            "grid_template_columns": null,
            "flex": null,
            "_model_name": "LayoutModel",
            "justify_items": null,
            "grid_row": null,
            "max_height": null,
            "align_content": null,
            "visibility": null,
            "align_self": null,
            "height": null,
            "min_height": null,
            "padding": null,
            "grid_auto_rows": null,
            "grid_gap": null,
            "max_width": null,
            "order": null,
            "_view_module_version": "1.2.0",
            "grid_template_areas": null,
            "object_position": null,
            "object_fit": null,
            "grid_auto_columns": null,
            "margin": null,
            "display": null,
            "left": null
          }
        },
        "990ac6c8d573487bad2e713204c2a214": {
          "model_module": "@jupyter-widgets/controls",
          "model_name": "HBoxModel",
          "state": {
            "_view_name": "HBoxView",
            "_dom_classes": [],
            "_model_name": "HBoxModel",
            "_view_module": "@jupyter-widgets/controls",
            "_model_module_version": "1.5.0",
            "_view_count": null,
            "_view_module_version": "1.5.0",
            "box_style": "",
            "layout": "IPY_MODEL_c6986a17e59e4f51a88bf3b315bc9a7a",
            "_model_module": "@jupyter-widgets/controls",
            "children": [
              "IPY_MODEL_e17029483e5c425da8711f06800da173",
              "IPY_MODEL_a3b72a4814c54e2095120056c8a6abdb"
            ]
          }
        },
        "c6986a17e59e4f51a88bf3b315bc9a7a": {
          "model_module": "@jupyter-widgets/base",
          "model_name": "LayoutModel",
          "state": {
            "_view_name": "LayoutView",
            "grid_template_rows": null,
            "right": null,
            "justify_content": null,
            "_view_module": "@jupyter-widgets/base",
            "overflow": null,
            "_model_module_version": "1.2.0",
            "_view_count": null,
            "flex_flow": "row wrap",
            "width": "100%",
            "min_width": null,
            "border": null,
            "align_items": null,
            "bottom": null,
            "_model_module": "@jupyter-widgets/base",
            "top": null,
            "grid_column": null,
            "overflow_y": null,
            "overflow_x": null,
            "grid_auto_flow": null,
            "grid_area": null,
            "grid_template_columns": null,
            "flex": null,
            "_model_name": "LayoutModel",
            "justify_items": null,
            "grid_row": null,
            "max_height": null,
            "align_content": null,
            "visibility": null,
            "align_self": null,
            "height": null,
            "min_height": null,
            "padding": null,
            "grid_auto_rows": null,
            "grid_gap": null,
            "max_width": null,
            "order": null,
            "_view_module_version": "1.2.0",
            "grid_template_areas": null,
            "object_position": null,
            "object_fit": null,
            "grid_auto_columns": null,
            "margin": null,
            "display": "inline-flex",
            "left": null
          }
        },
        "e17029483e5c425da8711f06800da173": {
          "model_module": "@jupyter-widgets/controls",
          "model_name": "FloatProgressModel",
          "state": {
            "_view_name": "ProgressView",
            "style": "IPY_MODEL_99d09087bced497fb59c20591c01eae5",
            "_dom_classes": [],
            "description": "Epoch 13: 100%",
            "_model_name": "FloatProgressModel",
            "bar_style": "success",
            "max": 100,
            "_view_module": "@jupyter-widgets/controls",
            "_model_module_version": "1.5.0",
            "value": 100,
            "_view_count": null,
            "_view_module_version": "1.5.0",
            "orientation": "horizontal",
            "min": 0,
            "description_tooltip": null,
            "_model_module": "@jupyter-widgets/controls",
            "layout": "IPY_MODEL_788f573819104ae5a2868477179dbfb4"
          }
        },
        "a3b72a4814c54e2095120056c8a6abdb": {
          "model_module": "@jupyter-widgets/controls",
          "model_name": "HTMLModel",
          "state": {
            "_view_name": "HTMLView",
            "style": "IPY_MODEL_97453c6573f5478597354b6533180b4d",
            "_dom_classes": [],
            "description": "",
            "_model_name": "HTMLModel",
            "placeholder": "​",
            "_view_module": "@jupyter-widgets/controls",
            "_model_module_version": "1.5.0",
            "value": " 100/100 [00:00&lt;00:00, 195.36it/s, loss=0.343, v_num=1]",
            "_view_count": null,
            "_view_module_version": "1.5.0",
            "description_tooltip": null,
            "_model_module": "@jupyter-widgets/controls",
            "layout": "IPY_MODEL_ecb0e5bb00f24a1e8d7beb3a5cc34d95"
          }
        },
        "99d09087bced497fb59c20591c01eae5": {
          "model_module": "@jupyter-widgets/controls",
          "model_name": "ProgressStyleModel",
          "state": {
            "_view_name": "StyleView",
            "_model_name": "ProgressStyleModel",
            "description_width": "initial",
            "_view_module": "@jupyter-widgets/base",
            "_model_module_version": "1.5.0",
            "_view_count": null,
            "_view_module_version": "1.2.0",
            "bar_color": null,
            "_model_module": "@jupyter-widgets/controls"
          }
        },
        "788f573819104ae5a2868477179dbfb4": {
          "model_module": "@jupyter-widgets/base",
          "model_name": "LayoutModel",
          "state": {
            "_view_name": "LayoutView",
            "grid_template_rows": null,
            "right": null,
            "justify_content": null,
            "_view_module": "@jupyter-widgets/base",
            "overflow": null,
            "_model_module_version": "1.2.0",
            "_view_count": null,
            "flex_flow": null,
            "width": null,
            "min_width": null,
            "border": null,
            "align_items": null,
            "bottom": null,
            "_model_module": "@jupyter-widgets/base",
            "top": null,
            "grid_column": null,
            "overflow_y": null,
            "overflow_x": null,
            "grid_auto_flow": null,
            "grid_area": null,
            "grid_template_columns": null,
            "flex": "2",
            "_model_name": "LayoutModel",
            "justify_items": null,
            "grid_row": null,
            "max_height": null,
            "align_content": null,
            "visibility": null,
            "align_self": null,
            "height": null,
            "min_height": null,
            "padding": null,
            "grid_auto_rows": null,
            "grid_gap": null,
            "max_width": null,
            "order": null,
            "_view_module_version": "1.2.0",
            "grid_template_areas": null,
            "object_position": null,
            "object_fit": null,
            "grid_auto_columns": null,
            "margin": null,
            "display": null,
            "left": null
          }
        },
        "97453c6573f5478597354b6533180b4d": {
          "model_module": "@jupyter-widgets/controls",
          "model_name": "DescriptionStyleModel",
          "state": {
            "_view_name": "StyleView",
            "_model_name": "DescriptionStyleModel",
            "description_width": "",
            "_view_module": "@jupyter-widgets/base",
            "_model_module_version": "1.5.0",
            "_view_count": null,
            "_view_module_version": "1.2.0",
            "_model_module": "@jupyter-widgets/controls"
          }
        },
        "ecb0e5bb00f24a1e8d7beb3a5cc34d95": {
          "model_module": "@jupyter-widgets/base",
          "model_name": "LayoutModel",
          "state": {
            "_view_name": "LayoutView",
            "grid_template_rows": null,
            "right": null,
            "justify_content": null,
            "_view_module": "@jupyter-widgets/base",
            "overflow": null,
            "_model_module_version": "1.2.0",
            "_view_count": null,
            "flex_flow": null,
            "width": null,
            "min_width": null,
            "border": null,
            "align_items": null,
            "bottom": null,
            "_model_module": "@jupyter-widgets/base",
            "top": null,
            "grid_column": null,
            "overflow_y": null,
            "overflow_x": null,
            "grid_auto_flow": null,
            "grid_area": null,
            "grid_template_columns": null,
            "flex": null,
            "_model_name": "LayoutModel",
            "justify_items": null,
            "grid_row": null,
            "max_height": null,
            "align_content": null,
            "visibility": null,
            "align_self": null,
            "height": null,
            "min_height": null,
            "padding": null,
            "grid_auto_rows": null,
            "grid_gap": null,
            "max_width": null,
            "order": null,
            "_view_module_version": "1.2.0",
            "grid_template_areas": null,
            "object_position": null,
            "object_fit": null,
            "grid_auto_columns": null,
            "margin": null,
            "display": null,
            "left": null
          }
        },
        "42f2e7072bdd4199a86b114e632c2e81": {
          "model_module": "@jupyter-widgets/controls",
          "model_name": "HBoxModel",
          "state": {
            "_view_name": "HBoxView",
            "_dom_classes": [],
            "_model_name": "HBoxModel",
            "_view_module": "@jupyter-widgets/controls",
            "_model_module_version": "1.5.0",
            "_view_count": null,
            "_view_module_version": "1.5.0",
            "box_style": "",
            "layout": "IPY_MODEL_00bec4bfa7af45508e4ffeaf6ab72f6e",
            "_model_module": "@jupyter-widgets/controls",
            "children": [
              "IPY_MODEL_784254fb9cbc4f569756848a9cfc464e",
              "IPY_MODEL_a13f985370834dc7a8c07603794087fc"
            ]
          }
        },
        "00bec4bfa7af45508e4ffeaf6ab72f6e": {
          "model_module": "@jupyter-widgets/base",
          "model_name": "LayoutModel",
          "state": {
            "_view_name": "LayoutView",
            "grid_template_rows": null,
            "right": null,
            "justify_content": null,
            "_view_module": "@jupyter-widgets/base",
            "overflow": null,
            "_model_module_version": "1.2.0",
            "_view_count": null,
            "flex_flow": "row wrap",
            "width": "100%",
            "min_width": null,
            "border": null,
            "align_items": null,
            "bottom": null,
            "_model_module": "@jupyter-widgets/base",
            "top": null,
            "grid_column": null,
            "overflow_y": null,
            "overflow_x": null,
            "grid_auto_flow": null,
            "grid_area": null,
            "grid_template_columns": null,
            "flex": null,
            "_model_name": "LayoutModel",
            "justify_items": null,
            "grid_row": null,
            "max_height": null,
            "align_content": null,
            "visibility": null,
            "align_self": null,
            "height": null,
            "min_height": null,
            "padding": null,
            "grid_auto_rows": null,
            "grid_gap": null,
            "max_width": null,
            "order": null,
            "_view_module_version": "1.2.0",
            "grid_template_areas": null,
            "object_position": null,
            "object_fit": null,
            "grid_auto_columns": null,
            "margin": null,
            "display": "inline-flex",
            "left": null
          }
        },
        "784254fb9cbc4f569756848a9cfc464e": {
          "model_module": "@jupyter-widgets/controls",
          "model_name": "FloatProgressModel",
          "state": {
            "_view_name": "ProgressView",
            "style": "IPY_MODEL_b6b82bc43bad488aa0eaecd788cf57ec",
            "_dom_classes": [],
            "description": "Validating: 100%",
            "_model_name": "FloatProgressModel",
            "bar_style": "info",
            "max": 10,
            "_view_module": "@jupyter-widgets/controls",
            "_model_module_version": "1.5.0",
            "value": 10,
            "_view_count": null,
            "_view_module_version": "1.5.0",
            "orientation": "horizontal",
            "min": 0,
            "description_tooltip": null,
            "_model_module": "@jupyter-widgets/controls",
            "layout": "IPY_MODEL_b173e818c1164c09a2e8653b78f7f9b1"
          }
        },
        "a13f985370834dc7a8c07603794087fc": {
          "model_module": "@jupyter-widgets/controls",
          "model_name": "HTMLModel",
          "state": {
            "_view_name": "HTMLView",
            "style": "IPY_MODEL_3c733ec2262c4eb385c810a93fbce409",
            "_dom_classes": [],
            "description": "",
            "_model_name": "HTMLModel",
            "placeholder": "​",
            "_view_module": "@jupyter-widgets/controls",
            "_model_module_version": "1.5.0",
            "value": " 10/10 [00:00&lt;00:00, 437.68it/s]",
            "_view_count": null,
            "_view_module_version": "1.5.0",
            "description_tooltip": null,
            "_model_module": "@jupyter-widgets/controls",
            "layout": "IPY_MODEL_c1ee9c2104a8412199282444f39a30b3"
          }
        },
        "b6b82bc43bad488aa0eaecd788cf57ec": {
          "model_module": "@jupyter-widgets/controls",
          "model_name": "ProgressStyleModel",
          "state": {
            "_view_name": "StyleView",
            "_model_name": "ProgressStyleModel",
            "description_width": "initial",
            "_view_module": "@jupyter-widgets/base",
            "_model_module_version": "1.5.0",
            "_view_count": null,
            "_view_module_version": "1.2.0",
            "bar_color": null,
            "_model_module": "@jupyter-widgets/controls"
          }
        },
        "b173e818c1164c09a2e8653b78f7f9b1": {
          "model_module": "@jupyter-widgets/base",
          "model_name": "LayoutModel",
          "state": {
            "_view_name": "LayoutView",
            "grid_template_rows": null,
            "right": null,
            "justify_content": null,
            "_view_module": "@jupyter-widgets/base",
            "overflow": null,
            "_model_module_version": "1.2.0",
            "_view_count": null,
            "flex_flow": null,
            "width": null,
            "min_width": null,
            "border": null,
            "align_items": null,
            "bottom": null,
            "_model_module": "@jupyter-widgets/base",
            "top": null,
            "grid_column": null,
            "overflow_y": null,
            "overflow_x": null,
            "grid_auto_flow": null,
            "grid_area": null,
            "grid_template_columns": null,
            "flex": "2",
            "_model_name": "LayoutModel",
            "justify_items": null,
            "grid_row": null,
            "max_height": null,
            "align_content": null,
            "visibility": null,
            "align_self": null,
            "height": null,
            "min_height": null,
            "padding": null,
            "grid_auto_rows": null,
            "grid_gap": null,
            "max_width": null,
            "order": null,
            "_view_module_version": "1.2.0",
            "grid_template_areas": null,
            "object_position": null,
            "object_fit": null,
            "grid_auto_columns": null,
            "margin": null,
            "display": null,
            "left": null
          }
        },
        "3c733ec2262c4eb385c810a93fbce409": {
          "model_module": "@jupyter-widgets/controls",
          "model_name": "DescriptionStyleModel",
          "state": {
            "_view_name": "StyleView",
            "_model_name": "DescriptionStyleModel",
            "description_width": "",
            "_view_module": "@jupyter-widgets/base",
            "_model_module_version": "1.5.0",
            "_view_count": null,
            "_view_module_version": "1.2.0",
            "_model_module": "@jupyter-widgets/controls"
          }
        },
        "c1ee9c2104a8412199282444f39a30b3": {
          "model_module": "@jupyter-widgets/base",
          "model_name": "LayoutModel",
          "state": {
            "_view_name": "LayoutView",
            "grid_template_rows": null,
            "right": null,
            "justify_content": null,
            "_view_module": "@jupyter-widgets/base",
            "overflow": null,
            "_model_module_version": "1.2.0",
            "_view_count": null,
            "flex_flow": null,
            "width": null,
            "min_width": null,
            "border": null,
            "align_items": null,
            "bottom": null,
            "_model_module": "@jupyter-widgets/base",
            "top": null,
            "grid_column": null,
            "overflow_y": null,
            "overflow_x": null,
            "grid_auto_flow": null,
            "grid_area": null,
            "grid_template_columns": null,
            "flex": null,
            "_model_name": "LayoutModel",
            "justify_items": null,
            "grid_row": null,
            "max_height": null,
            "align_content": null,
            "visibility": null,
            "align_self": null,
            "height": null,
            "min_height": null,
            "padding": null,
            "grid_auto_rows": null,
            "grid_gap": null,
            "max_width": null,
            "order": null,
            "_view_module_version": "1.2.0",
            "grid_template_areas": null,
            "object_position": null,
            "object_fit": null,
            "grid_auto_columns": null,
            "margin": null,
            "display": null,
            "left": null
          }
        },
        "5002e6f8b55c4ae4b6a57e3de28b8950": {
          "model_module": "@jupyter-widgets/controls",
          "model_name": "HBoxModel",
          "state": {
            "_view_name": "HBoxView",
            "_dom_classes": [],
            "_model_name": "HBoxModel",
            "_view_module": "@jupyter-widgets/controls",
            "_model_module_version": "1.5.0",
            "_view_count": null,
            "_view_module_version": "1.5.0",
            "box_style": "",
            "layout": "IPY_MODEL_cea6b211c1a94e5fac98a60df6a4ac0b",
            "_model_module": "@jupyter-widgets/controls",
            "children": [
              "IPY_MODEL_d970658a5e6b44cdae25e95a418afebf",
              "IPY_MODEL_43581ef9431b41efa950d474d81ae01c"
            ]
          }
        },
        "cea6b211c1a94e5fac98a60df6a4ac0b": {
          "model_module": "@jupyter-widgets/base",
          "model_name": "LayoutModel",
          "state": {
            "_view_name": "LayoutView",
            "grid_template_rows": null,
            "right": null,
            "justify_content": null,
            "_view_module": "@jupyter-widgets/base",
            "overflow": null,
            "_model_module_version": "1.2.0",
            "_view_count": null,
            "flex_flow": "row wrap",
            "width": "100%",
            "min_width": null,
            "border": null,
            "align_items": null,
            "bottom": null,
            "_model_module": "@jupyter-widgets/base",
            "top": null,
            "grid_column": null,
            "overflow_y": null,
            "overflow_x": null,
            "grid_auto_flow": null,
            "grid_area": null,
            "grid_template_columns": null,
            "flex": null,
            "_model_name": "LayoutModel",
            "justify_items": null,
            "grid_row": null,
            "max_height": null,
            "align_content": null,
            "visibility": null,
            "align_self": null,
            "height": null,
            "min_height": null,
            "padding": null,
            "grid_auto_rows": null,
            "grid_gap": null,
            "max_width": null,
            "order": null,
            "_view_module_version": "1.2.0",
            "grid_template_areas": null,
            "object_position": null,
            "object_fit": null,
            "grid_auto_columns": null,
            "margin": null,
            "display": "inline-flex",
            "left": null
          }
        },
        "d970658a5e6b44cdae25e95a418afebf": {
          "model_module": "@jupyter-widgets/controls",
          "model_name": "FloatProgressModel",
          "state": {
            "_view_name": "ProgressView",
            "style": "IPY_MODEL_0dbb87a13ac548d780a88c6242839988",
            "_dom_classes": [],
            "description": "Validating: 100%",
            "_model_name": "FloatProgressModel",
            "bar_style": "info",
            "max": 10,
            "_view_module": "@jupyter-widgets/controls",
            "_model_module_version": "1.5.0",
            "value": 10,
            "_view_count": null,
            "_view_module_version": "1.5.0",
            "orientation": "horizontal",
            "min": 0,
            "description_tooltip": null,
            "_model_module": "@jupyter-widgets/controls",
            "layout": "IPY_MODEL_ffec15b111124710be30cb7277a4090b"
          }
        },
        "43581ef9431b41efa950d474d81ae01c": {
          "model_module": "@jupyter-widgets/controls",
          "model_name": "HTMLModel",
          "state": {
            "_view_name": "HTMLView",
            "style": "IPY_MODEL_9100d94ee47d4e9387a2137147010867",
            "_dom_classes": [],
            "description": "",
            "_model_name": "HTMLModel",
            "placeholder": "​",
            "_view_module": "@jupyter-widgets/controls",
            "_model_module_version": "1.5.0",
            "value": " 10/10 [00:00&lt;00:00, 441.51it/s]",
            "_view_count": null,
            "_view_module_version": "1.5.0",
            "description_tooltip": null,
            "_model_module": "@jupyter-widgets/controls",
            "layout": "IPY_MODEL_2a04f004cffa412a992b51d74e618f09"
          }
        },
        "0dbb87a13ac548d780a88c6242839988": {
          "model_module": "@jupyter-widgets/controls",
          "model_name": "ProgressStyleModel",
          "state": {
            "_view_name": "StyleView",
            "_model_name": "ProgressStyleModel",
            "description_width": "initial",
            "_view_module": "@jupyter-widgets/base",
            "_model_module_version": "1.5.0",
            "_view_count": null,
            "_view_module_version": "1.2.0",
            "bar_color": null,
            "_model_module": "@jupyter-widgets/controls"
          }
        },
        "ffec15b111124710be30cb7277a4090b": {
          "model_module": "@jupyter-widgets/base",
          "model_name": "LayoutModel",
          "state": {
            "_view_name": "LayoutView",
            "grid_template_rows": null,
            "right": null,
            "justify_content": null,
            "_view_module": "@jupyter-widgets/base",
            "overflow": null,
            "_model_module_version": "1.2.0",
            "_view_count": null,
            "flex_flow": null,
            "width": null,
            "min_width": null,
            "border": null,
            "align_items": null,
            "bottom": null,
            "_model_module": "@jupyter-widgets/base",
            "top": null,
            "grid_column": null,
            "overflow_y": null,
            "overflow_x": null,
            "grid_auto_flow": null,
            "grid_area": null,
            "grid_template_columns": null,
            "flex": "2",
            "_model_name": "LayoutModel",
            "justify_items": null,
            "grid_row": null,
            "max_height": null,
            "align_content": null,
            "visibility": null,
            "align_self": null,
            "height": null,
            "min_height": null,
            "padding": null,
            "grid_auto_rows": null,
            "grid_gap": null,
            "max_width": null,
            "order": null,
            "_view_module_version": "1.2.0",
            "grid_template_areas": null,
            "object_position": null,
            "object_fit": null,
            "grid_auto_columns": null,
            "margin": null,
            "display": null,
            "left": null
          }
        },
        "9100d94ee47d4e9387a2137147010867": {
          "model_module": "@jupyter-widgets/controls",
          "model_name": "DescriptionStyleModel",
          "state": {
            "_view_name": "StyleView",
            "_model_name": "DescriptionStyleModel",
            "description_width": "",
            "_view_module": "@jupyter-widgets/base",
            "_model_module_version": "1.5.0",
            "_view_count": null,
            "_view_module_version": "1.2.0",
            "_model_module": "@jupyter-widgets/controls"
          }
        },
        "2a04f004cffa412a992b51d74e618f09": {
          "model_module": "@jupyter-widgets/base",
          "model_name": "LayoutModel",
          "state": {
            "_view_name": "LayoutView",
            "grid_template_rows": null,
            "right": null,
            "justify_content": null,
            "_view_module": "@jupyter-widgets/base",
            "overflow": null,
            "_model_module_version": "1.2.0",
            "_view_count": null,
            "flex_flow": null,
            "width": null,
            "min_width": null,
            "border": null,
            "align_items": null,
            "bottom": null,
            "_model_module": "@jupyter-widgets/base",
            "top": null,
            "grid_column": null,
            "overflow_y": null,
            "overflow_x": null,
            "grid_auto_flow": null,
            "grid_area": null,
            "grid_template_columns": null,
            "flex": null,
            "_model_name": "LayoutModel",
            "justify_items": null,
            "grid_row": null,
            "max_height": null,
            "align_content": null,
            "visibility": null,
            "align_self": null,
            "height": null,
            "min_height": null,
            "padding": null,
            "grid_auto_rows": null,
            "grid_gap": null,
            "max_width": null,
            "order": null,
            "_view_module_version": "1.2.0",
            "grid_template_areas": null,
            "object_position": null,
            "object_fit": null,
            "grid_auto_columns": null,
            "margin": null,
            "display": null,
            "left": null
          }
        },
        "3705afdc20554aa7868b1ee0e60c0a04": {
          "model_module": "@jupyter-widgets/controls",
          "model_name": "HBoxModel",
          "state": {
            "_view_name": "HBoxView",
            "_dom_classes": [],
            "_model_name": "HBoxModel",
            "_view_module": "@jupyter-widgets/controls",
            "_model_module_version": "1.5.0",
            "_view_count": null,
            "_view_module_version": "1.5.0",
            "box_style": "",
            "layout": "IPY_MODEL_429c2bc626f540b2908639574374caa4",
            "_model_module": "@jupyter-widgets/controls",
            "children": [
              "IPY_MODEL_3b0902845e4d4fb69a39a0c34272cc3c",
              "IPY_MODEL_d7f1e2eb24ed4ed88d43741f7fcf1e34"
            ]
          }
        },
        "429c2bc626f540b2908639574374caa4": {
          "model_module": "@jupyter-widgets/base",
          "model_name": "LayoutModel",
          "state": {
            "_view_name": "LayoutView",
            "grid_template_rows": null,
            "right": null,
            "justify_content": null,
            "_view_module": "@jupyter-widgets/base",
            "overflow": null,
            "_model_module_version": "1.2.0",
            "_view_count": null,
            "flex_flow": "row wrap",
            "width": "100%",
            "min_width": null,
            "border": null,
            "align_items": null,
            "bottom": null,
            "_model_module": "@jupyter-widgets/base",
            "top": null,
            "grid_column": null,
            "overflow_y": null,
            "overflow_x": null,
            "grid_auto_flow": null,
            "grid_area": null,
            "grid_template_columns": null,
            "flex": null,
            "_model_name": "LayoutModel",
            "justify_items": null,
            "grid_row": null,
            "max_height": null,
            "align_content": null,
            "visibility": null,
            "align_self": null,
            "height": null,
            "min_height": null,
            "padding": null,
            "grid_auto_rows": null,
            "grid_gap": null,
            "max_width": null,
            "order": null,
            "_view_module_version": "1.2.0",
            "grid_template_areas": null,
            "object_position": null,
            "object_fit": null,
            "grid_auto_columns": null,
            "margin": null,
            "display": "inline-flex",
            "left": null
          }
        },
        "3b0902845e4d4fb69a39a0c34272cc3c": {
          "model_module": "@jupyter-widgets/controls",
          "model_name": "FloatProgressModel",
          "state": {
            "_view_name": "ProgressView",
            "style": "IPY_MODEL_fc935f2f0ff744a88e64628e8ca5d60f",
            "_dom_classes": [],
            "description": "Validating: 100%",
            "_model_name": "FloatProgressModel",
            "bar_style": "info",
            "max": 10,
            "_view_module": "@jupyter-widgets/controls",
            "_model_module_version": "1.5.0",
            "value": 10,
            "_view_count": null,
            "_view_module_version": "1.5.0",
            "orientation": "horizontal",
            "min": 0,
            "description_tooltip": null,
            "_model_module": "@jupyter-widgets/controls",
            "layout": "IPY_MODEL_92128673c8284b54a7f9b9567dfdd4f0"
          }
        },
        "d7f1e2eb24ed4ed88d43741f7fcf1e34": {
          "model_module": "@jupyter-widgets/controls",
          "model_name": "HTMLModel",
          "state": {
            "_view_name": "HTMLView",
            "style": "IPY_MODEL_242680f9b30b40528ae7015876eb4332",
            "_dom_classes": [],
            "description": "",
            "_model_name": "HTMLModel",
            "placeholder": "​",
            "_view_module": "@jupyter-widgets/controls",
            "_model_module_version": "1.5.0",
            "value": " 10/10 [00:00&lt;00:00, 386.20it/s]",
            "_view_count": null,
            "_view_module_version": "1.5.0",
            "description_tooltip": null,
            "_model_module": "@jupyter-widgets/controls",
            "layout": "IPY_MODEL_a3c4d59346434674945d3f87fd78e0f1"
          }
        },
        "fc935f2f0ff744a88e64628e8ca5d60f": {
          "model_module": "@jupyter-widgets/controls",
          "model_name": "ProgressStyleModel",
          "state": {
            "_view_name": "StyleView",
            "_model_name": "ProgressStyleModel",
            "description_width": "initial",
            "_view_module": "@jupyter-widgets/base",
            "_model_module_version": "1.5.0",
            "_view_count": null,
            "_view_module_version": "1.2.0",
            "bar_color": null,
            "_model_module": "@jupyter-widgets/controls"
          }
        },
        "92128673c8284b54a7f9b9567dfdd4f0": {
          "model_module": "@jupyter-widgets/base",
          "model_name": "LayoutModel",
          "state": {
            "_view_name": "LayoutView",
            "grid_template_rows": null,
            "right": null,
            "justify_content": null,
            "_view_module": "@jupyter-widgets/base",
            "overflow": null,
            "_model_module_version": "1.2.0",
            "_view_count": null,
            "flex_flow": null,
            "width": null,
            "min_width": null,
            "border": null,
            "align_items": null,
            "bottom": null,
            "_model_module": "@jupyter-widgets/base",
            "top": null,
            "grid_column": null,
            "overflow_y": null,
            "overflow_x": null,
            "grid_auto_flow": null,
            "grid_area": null,
            "grid_template_columns": null,
            "flex": "2",
            "_model_name": "LayoutModel",
            "justify_items": null,
            "grid_row": null,
            "max_height": null,
            "align_content": null,
            "visibility": null,
            "align_self": null,
            "height": null,
            "min_height": null,
            "padding": null,
            "grid_auto_rows": null,
            "grid_gap": null,
            "max_width": null,
            "order": null,
            "_view_module_version": "1.2.0",
            "grid_template_areas": null,
            "object_position": null,
            "object_fit": null,
            "grid_auto_columns": null,
            "margin": null,
            "display": null,
            "left": null
          }
        },
        "242680f9b30b40528ae7015876eb4332": {
          "model_module": "@jupyter-widgets/controls",
          "model_name": "DescriptionStyleModel",
          "state": {
            "_view_name": "StyleView",
            "_model_name": "DescriptionStyleModel",
            "description_width": "",
            "_view_module": "@jupyter-widgets/base",
            "_model_module_version": "1.5.0",
            "_view_count": null,
            "_view_module_version": "1.2.0",
            "_model_module": "@jupyter-widgets/controls"
          }
        },
        "a3c4d59346434674945d3f87fd78e0f1": {
          "model_module": "@jupyter-widgets/base",
          "model_name": "LayoutModel",
          "state": {
            "_view_name": "LayoutView",
            "grid_template_rows": null,
            "right": null,
            "justify_content": null,
            "_view_module": "@jupyter-widgets/base",
            "overflow": null,
            "_model_module_version": "1.2.0",
            "_view_count": null,
            "flex_flow": null,
            "width": null,
            "min_width": null,
            "border": null,
            "align_items": null,
            "bottom": null,
            "_model_module": "@jupyter-widgets/base",
            "top": null,
            "grid_column": null,
            "overflow_y": null,
            "overflow_x": null,
            "grid_auto_flow": null,
            "grid_area": null,
            "grid_template_columns": null,
            "flex": null,
            "_model_name": "LayoutModel",
            "justify_items": null,
            "grid_row": null,
            "max_height": null,
            "align_content": null,
            "visibility": null,
            "align_self": null,
            "height": null,
            "min_height": null,
            "padding": null,
            "grid_auto_rows": null,
            "grid_gap": null,
            "max_width": null,
            "order": null,
            "_view_module_version": "1.2.0",
            "grid_template_areas": null,
            "object_position": null,
            "object_fit": null,
            "grid_auto_columns": null,
            "margin": null,
            "display": null,
            "left": null
          }
        },
        "6c30a3db702e4f608a2755e50dd8483c": {
          "model_module": "@jupyter-widgets/controls",
          "model_name": "HBoxModel",
          "state": {
            "_view_name": "HBoxView",
            "_dom_classes": [],
            "_model_name": "HBoxModel",
            "_view_module": "@jupyter-widgets/controls",
            "_model_module_version": "1.5.0",
            "_view_count": null,
            "_view_module_version": "1.5.0",
            "box_style": "",
            "layout": "IPY_MODEL_b8cce92b40314d39b2fd826aaf980886",
            "_model_module": "@jupyter-widgets/controls",
            "children": [
              "IPY_MODEL_22647e2d42f346caba6ecdf69a288d53",
              "IPY_MODEL_f80860c106aa454f844e611f0d0000aa"
            ]
          }
        },
        "b8cce92b40314d39b2fd826aaf980886": {
          "model_module": "@jupyter-widgets/base",
          "model_name": "LayoutModel",
          "state": {
            "_view_name": "LayoutView",
            "grid_template_rows": null,
            "right": null,
            "justify_content": null,
            "_view_module": "@jupyter-widgets/base",
            "overflow": null,
            "_model_module_version": "1.2.0",
            "_view_count": null,
            "flex_flow": "row wrap",
            "width": "100%",
            "min_width": null,
            "border": null,
            "align_items": null,
            "bottom": null,
            "_model_module": "@jupyter-widgets/base",
            "top": null,
            "grid_column": null,
            "overflow_y": null,
            "overflow_x": null,
            "grid_auto_flow": null,
            "grid_area": null,
            "grid_template_columns": null,
            "flex": null,
            "_model_name": "LayoutModel",
            "justify_items": null,
            "grid_row": null,
            "max_height": null,
            "align_content": null,
            "visibility": null,
            "align_self": null,
            "height": null,
            "min_height": null,
            "padding": null,
            "grid_auto_rows": null,
            "grid_gap": null,
            "max_width": null,
            "order": null,
            "_view_module_version": "1.2.0",
            "grid_template_areas": null,
            "object_position": null,
            "object_fit": null,
            "grid_auto_columns": null,
            "margin": null,
            "display": "inline-flex",
            "left": null
          }
        },
        "22647e2d42f346caba6ecdf69a288d53": {
          "model_module": "@jupyter-widgets/controls",
          "model_name": "FloatProgressModel",
          "state": {
            "_view_name": "ProgressView",
            "style": "IPY_MODEL_43bfcb8e7cf74aa386170656da2e9141",
            "_dom_classes": [],
            "description": "Validating: 100%",
            "_model_name": "FloatProgressModel",
            "bar_style": "info",
            "max": 10,
            "_view_module": "@jupyter-widgets/controls",
            "_model_module_version": "1.5.0",
            "value": 10,
            "_view_count": null,
            "_view_module_version": "1.5.0",
            "orientation": "horizontal",
            "min": 0,
            "description_tooltip": null,
            "_model_module": "@jupyter-widgets/controls",
            "layout": "IPY_MODEL_d3cebf325b9b4859a05622089261da22"
          }
        },
        "f80860c106aa454f844e611f0d0000aa": {
          "model_module": "@jupyter-widgets/controls",
          "model_name": "HTMLModel",
          "state": {
            "_view_name": "HTMLView",
            "style": "IPY_MODEL_1a48b6b9389045199ab6719d29ab9ce2",
            "_dom_classes": [],
            "description": "",
            "_model_name": "HTMLModel",
            "placeholder": "​",
            "_view_module": "@jupyter-widgets/controls",
            "_model_module_version": "1.5.0",
            "value": " 10/10 [00:00&lt;00:00, 425.45it/s]",
            "_view_count": null,
            "_view_module_version": "1.5.0",
            "description_tooltip": null,
            "_model_module": "@jupyter-widgets/controls",
            "layout": "IPY_MODEL_aded03ad6afd4b85a633b2351dd96a4c"
          }
        },
        "43bfcb8e7cf74aa386170656da2e9141": {
          "model_module": "@jupyter-widgets/controls",
          "model_name": "ProgressStyleModel",
          "state": {
            "_view_name": "StyleView",
            "_model_name": "ProgressStyleModel",
            "description_width": "initial",
            "_view_module": "@jupyter-widgets/base",
            "_model_module_version": "1.5.0",
            "_view_count": null,
            "_view_module_version": "1.2.0",
            "bar_color": null,
            "_model_module": "@jupyter-widgets/controls"
          }
        },
        "d3cebf325b9b4859a05622089261da22": {
          "model_module": "@jupyter-widgets/base",
          "model_name": "LayoutModel",
          "state": {
            "_view_name": "LayoutView",
            "grid_template_rows": null,
            "right": null,
            "justify_content": null,
            "_view_module": "@jupyter-widgets/base",
            "overflow": null,
            "_model_module_version": "1.2.0",
            "_view_count": null,
            "flex_flow": null,
            "width": null,
            "min_width": null,
            "border": null,
            "align_items": null,
            "bottom": null,
            "_model_module": "@jupyter-widgets/base",
            "top": null,
            "grid_column": null,
            "overflow_y": null,
            "overflow_x": null,
            "grid_auto_flow": null,
            "grid_area": null,
            "grid_template_columns": null,
            "flex": "2",
            "_model_name": "LayoutModel",
            "justify_items": null,
            "grid_row": null,
            "max_height": null,
            "align_content": null,
            "visibility": null,
            "align_self": null,
            "height": null,
            "min_height": null,
            "padding": null,
            "grid_auto_rows": null,
            "grid_gap": null,
            "max_width": null,
            "order": null,
            "_view_module_version": "1.2.0",
            "grid_template_areas": null,
            "object_position": null,
            "object_fit": null,
            "grid_auto_columns": null,
            "margin": null,
            "display": null,
            "left": null
          }
        },
        "1a48b6b9389045199ab6719d29ab9ce2": {
          "model_module": "@jupyter-widgets/controls",
          "model_name": "DescriptionStyleModel",
          "state": {
            "_view_name": "StyleView",
            "_model_name": "DescriptionStyleModel",
            "description_width": "",
            "_view_module": "@jupyter-widgets/base",
            "_model_module_version": "1.5.0",
            "_view_count": null,
            "_view_module_version": "1.2.0",
            "_model_module": "@jupyter-widgets/controls"
          }
        },
        "aded03ad6afd4b85a633b2351dd96a4c": {
          "model_module": "@jupyter-widgets/base",
          "model_name": "LayoutModel",
          "state": {
            "_view_name": "LayoutView",
            "grid_template_rows": null,
            "right": null,
            "justify_content": null,
            "_view_module": "@jupyter-widgets/base",
            "overflow": null,
            "_model_module_version": "1.2.0",
            "_view_count": null,
            "flex_flow": null,
            "width": null,
            "min_width": null,
            "border": null,
            "align_items": null,
            "bottom": null,
            "_model_module": "@jupyter-widgets/base",
            "top": null,
            "grid_column": null,
            "overflow_y": null,
            "overflow_x": null,
            "grid_auto_flow": null,
            "grid_area": null,
            "grid_template_columns": null,
            "flex": null,
            "_model_name": "LayoutModel",
            "justify_items": null,
            "grid_row": null,
            "max_height": null,
            "align_content": null,
            "visibility": null,
            "align_self": null,
            "height": null,
            "min_height": null,
            "padding": null,
            "grid_auto_rows": null,
            "grid_gap": null,
            "max_width": null,
            "order": null,
            "_view_module_version": "1.2.0",
            "grid_template_areas": null,
            "object_position": null,
            "object_fit": null,
            "grid_auto_columns": null,
            "margin": null,
            "display": null,
            "left": null
          }
        },
        "d73bd73776ea46619c29e78fddd7c084": {
          "model_module": "@jupyter-widgets/controls",
          "model_name": "HBoxModel",
          "state": {
            "_view_name": "HBoxView",
            "_dom_classes": [],
            "_model_name": "HBoxModel",
            "_view_module": "@jupyter-widgets/controls",
            "_model_module_version": "1.5.0",
            "_view_count": null,
            "_view_module_version": "1.5.0",
            "box_style": "",
            "layout": "IPY_MODEL_c914d463421c4fa2b6528ff422ef303f",
            "_model_module": "@jupyter-widgets/controls",
            "children": [
              "IPY_MODEL_48afa97c91d644b19422a86d678f9906",
              "IPY_MODEL_dc2f41ee53614d1ab06c9a4170e80f1e"
            ]
          }
        },
        "c914d463421c4fa2b6528ff422ef303f": {
          "model_module": "@jupyter-widgets/base",
          "model_name": "LayoutModel",
          "state": {
            "_view_name": "LayoutView",
            "grid_template_rows": null,
            "right": null,
            "justify_content": null,
            "_view_module": "@jupyter-widgets/base",
            "overflow": null,
            "_model_module_version": "1.2.0",
            "_view_count": null,
            "flex_flow": "row wrap",
            "width": "100%",
            "min_width": null,
            "border": null,
            "align_items": null,
            "bottom": null,
            "_model_module": "@jupyter-widgets/base",
            "top": null,
            "grid_column": null,
            "overflow_y": null,
            "overflow_x": null,
            "grid_auto_flow": null,
            "grid_area": null,
            "grid_template_columns": null,
            "flex": null,
            "_model_name": "LayoutModel",
            "justify_items": null,
            "grid_row": null,
            "max_height": null,
            "align_content": null,
            "visibility": null,
            "align_self": null,
            "height": null,
            "min_height": null,
            "padding": null,
            "grid_auto_rows": null,
            "grid_gap": null,
            "max_width": null,
            "order": null,
            "_view_module_version": "1.2.0",
            "grid_template_areas": null,
            "object_position": null,
            "object_fit": null,
            "grid_auto_columns": null,
            "margin": null,
            "display": "inline-flex",
            "left": null
          }
        },
        "48afa97c91d644b19422a86d678f9906": {
          "model_module": "@jupyter-widgets/controls",
          "model_name": "FloatProgressModel",
          "state": {
            "_view_name": "ProgressView",
            "style": "IPY_MODEL_6876cd37d1984a2f8fc1ef2a367ecb01",
            "_dom_classes": [],
            "description": "Validating: 100%",
            "_model_name": "FloatProgressModel",
            "bar_style": "info",
            "max": 10,
            "_view_module": "@jupyter-widgets/controls",
            "_model_module_version": "1.5.0",
            "value": 10,
            "_view_count": null,
            "_view_module_version": "1.5.0",
            "orientation": "horizontal",
            "min": 0,
            "description_tooltip": null,
            "_model_module": "@jupyter-widgets/controls",
            "layout": "IPY_MODEL_8ea826a7938543bca2241f417e098cac"
          }
        },
        "dc2f41ee53614d1ab06c9a4170e80f1e": {
          "model_module": "@jupyter-widgets/controls",
          "model_name": "HTMLModel",
          "state": {
            "_view_name": "HTMLView",
            "style": "IPY_MODEL_4410b119079048a4a5dd5e7763d2abe6",
            "_dom_classes": [],
            "description": "",
            "_model_name": "HTMLModel",
            "placeholder": "​",
            "_view_module": "@jupyter-widgets/controls",
            "_model_module_version": "1.5.0",
            "value": " 10/10 [00:00&lt;00:00, 359.16it/s]",
            "_view_count": null,
            "_view_module_version": "1.5.0",
            "description_tooltip": null,
            "_model_module": "@jupyter-widgets/controls",
            "layout": "IPY_MODEL_8793fb0c3a56460fa2572b54f32fe0b8"
          }
        },
        "6876cd37d1984a2f8fc1ef2a367ecb01": {
          "model_module": "@jupyter-widgets/controls",
          "model_name": "ProgressStyleModel",
          "state": {
            "_view_name": "StyleView",
            "_model_name": "ProgressStyleModel",
            "description_width": "initial",
            "_view_module": "@jupyter-widgets/base",
            "_model_module_version": "1.5.0",
            "_view_count": null,
            "_view_module_version": "1.2.0",
            "bar_color": null,
            "_model_module": "@jupyter-widgets/controls"
          }
        },
        "8ea826a7938543bca2241f417e098cac": {
          "model_module": "@jupyter-widgets/base",
          "model_name": "LayoutModel",
          "state": {
            "_view_name": "LayoutView",
            "grid_template_rows": null,
            "right": null,
            "justify_content": null,
            "_view_module": "@jupyter-widgets/base",
            "overflow": null,
            "_model_module_version": "1.2.0",
            "_view_count": null,
            "flex_flow": null,
            "width": null,
            "min_width": null,
            "border": null,
            "align_items": null,
            "bottom": null,
            "_model_module": "@jupyter-widgets/base",
            "top": null,
            "grid_column": null,
            "overflow_y": null,
            "overflow_x": null,
            "grid_auto_flow": null,
            "grid_area": null,
            "grid_template_columns": null,
            "flex": "2",
            "_model_name": "LayoutModel",
            "justify_items": null,
            "grid_row": null,
            "max_height": null,
            "align_content": null,
            "visibility": null,
            "align_self": null,
            "height": null,
            "min_height": null,
            "padding": null,
            "grid_auto_rows": null,
            "grid_gap": null,
            "max_width": null,
            "order": null,
            "_view_module_version": "1.2.0",
            "grid_template_areas": null,
            "object_position": null,
            "object_fit": null,
            "grid_auto_columns": null,
            "margin": null,
            "display": null,
            "left": null
          }
        },
        "4410b119079048a4a5dd5e7763d2abe6": {
          "model_module": "@jupyter-widgets/controls",
          "model_name": "DescriptionStyleModel",
          "state": {
            "_view_name": "StyleView",
            "_model_name": "DescriptionStyleModel",
            "description_width": "",
            "_view_module": "@jupyter-widgets/base",
            "_model_module_version": "1.5.0",
            "_view_count": null,
            "_view_module_version": "1.2.0",
            "_model_module": "@jupyter-widgets/controls"
          }
        },
        "8793fb0c3a56460fa2572b54f32fe0b8": {
          "model_module": "@jupyter-widgets/base",
          "model_name": "LayoutModel",
          "state": {
            "_view_name": "LayoutView",
            "grid_template_rows": null,
            "right": null,
            "justify_content": null,
            "_view_module": "@jupyter-widgets/base",
            "overflow": null,
            "_model_module_version": "1.2.0",
            "_view_count": null,
            "flex_flow": null,
            "width": null,
            "min_width": null,
            "border": null,
            "align_items": null,
            "bottom": null,
            "_model_module": "@jupyter-widgets/base",
            "top": null,
            "grid_column": null,
            "overflow_y": null,
            "overflow_x": null,
            "grid_auto_flow": null,
            "grid_area": null,
            "grid_template_columns": null,
            "flex": null,
            "_model_name": "LayoutModel",
            "justify_items": null,
            "grid_row": null,
            "max_height": null,
            "align_content": null,
            "visibility": null,
            "align_self": null,
            "height": null,
            "min_height": null,
            "padding": null,
            "grid_auto_rows": null,
            "grid_gap": null,
            "max_width": null,
            "order": null,
            "_view_module_version": "1.2.0",
            "grid_template_areas": null,
            "object_position": null,
            "object_fit": null,
            "grid_auto_columns": null,
            "margin": null,
            "display": null,
            "left": null
          }
        },
        "6b9addef1385400189d719ea8ab64f1e": {
          "model_module": "@jupyter-widgets/controls",
          "model_name": "HBoxModel",
          "state": {
            "_view_name": "HBoxView",
            "_dom_classes": [],
            "_model_name": "HBoxModel",
            "_view_module": "@jupyter-widgets/controls",
            "_model_module_version": "1.5.0",
            "_view_count": null,
            "_view_module_version": "1.5.0",
            "box_style": "",
            "layout": "IPY_MODEL_f12a65f28dc64f2c92cbb699ea8c4b98",
            "_model_module": "@jupyter-widgets/controls",
            "children": [
              "IPY_MODEL_632e8ec8d54d4fe08b91c9073b9f8761",
              "IPY_MODEL_a8f291397104491d9841f53ff1dd4c0c"
            ]
          }
        },
        "f12a65f28dc64f2c92cbb699ea8c4b98": {
          "model_module": "@jupyter-widgets/base",
          "model_name": "LayoutModel",
          "state": {
            "_view_name": "LayoutView",
            "grid_template_rows": null,
            "right": null,
            "justify_content": null,
            "_view_module": "@jupyter-widgets/base",
            "overflow": null,
            "_model_module_version": "1.2.0",
            "_view_count": null,
            "flex_flow": "row wrap",
            "width": "100%",
            "min_width": null,
            "border": null,
            "align_items": null,
            "bottom": null,
            "_model_module": "@jupyter-widgets/base",
            "top": null,
            "grid_column": null,
            "overflow_y": null,
            "overflow_x": null,
            "grid_auto_flow": null,
            "grid_area": null,
            "grid_template_columns": null,
            "flex": null,
            "_model_name": "LayoutModel",
            "justify_items": null,
            "grid_row": null,
            "max_height": null,
            "align_content": null,
            "visibility": null,
            "align_self": null,
            "height": null,
            "min_height": null,
            "padding": null,
            "grid_auto_rows": null,
            "grid_gap": null,
            "max_width": null,
            "order": null,
            "_view_module_version": "1.2.0",
            "grid_template_areas": null,
            "object_position": null,
            "object_fit": null,
            "grid_auto_columns": null,
            "margin": null,
            "display": "inline-flex",
            "left": null
          }
        },
        "632e8ec8d54d4fe08b91c9073b9f8761": {
          "model_module": "@jupyter-widgets/controls",
          "model_name": "FloatProgressModel",
          "state": {
            "_view_name": "ProgressView",
            "style": "IPY_MODEL_44178b64015149dca6d4945b2026b50f",
            "_dom_classes": [],
            "description": "Validating: 100%",
            "_model_name": "FloatProgressModel",
            "bar_style": "info",
            "max": 10,
            "_view_module": "@jupyter-widgets/controls",
            "_model_module_version": "1.5.0",
            "value": 10,
            "_view_count": null,
            "_view_module_version": "1.5.0",
            "orientation": "horizontal",
            "min": 0,
            "description_tooltip": null,
            "_model_module": "@jupyter-widgets/controls",
            "layout": "IPY_MODEL_6761f745df58462e87a24c25b0cdcd58"
          }
        },
        "a8f291397104491d9841f53ff1dd4c0c": {
          "model_module": "@jupyter-widgets/controls",
          "model_name": "HTMLModel",
          "state": {
            "_view_name": "HTMLView",
            "style": "IPY_MODEL_f45584345592485886ce6251eefd2fb6",
            "_dom_classes": [],
            "description": "",
            "_model_name": "HTMLModel",
            "placeholder": "​",
            "_view_module": "@jupyter-widgets/controls",
            "_model_module_version": "1.5.0",
            "value": " 10/10 [00:00&lt;00:00, 368.34it/s]",
            "_view_count": null,
            "_view_module_version": "1.5.0",
            "description_tooltip": null,
            "_model_module": "@jupyter-widgets/controls",
            "layout": "IPY_MODEL_75a52b27c3e843598e2c407bd6d85147"
          }
        },
        "44178b64015149dca6d4945b2026b50f": {
          "model_module": "@jupyter-widgets/controls",
          "model_name": "ProgressStyleModel",
          "state": {
            "_view_name": "StyleView",
            "_model_name": "ProgressStyleModel",
            "description_width": "initial",
            "_view_module": "@jupyter-widgets/base",
            "_model_module_version": "1.5.0",
            "_view_count": null,
            "_view_module_version": "1.2.0",
            "bar_color": null,
            "_model_module": "@jupyter-widgets/controls"
          }
        },
        "6761f745df58462e87a24c25b0cdcd58": {
          "model_module": "@jupyter-widgets/base",
          "model_name": "LayoutModel",
          "state": {
            "_view_name": "LayoutView",
            "grid_template_rows": null,
            "right": null,
            "justify_content": null,
            "_view_module": "@jupyter-widgets/base",
            "overflow": null,
            "_model_module_version": "1.2.0",
            "_view_count": null,
            "flex_flow": null,
            "width": null,
            "min_width": null,
            "border": null,
            "align_items": null,
            "bottom": null,
            "_model_module": "@jupyter-widgets/base",
            "top": null,
            "grid_column": null,
            "overflow_y": null,
            "overflow_x": null,
            "grid_auto_flow": null,
            "grid_area": null,
            "grid_template_columns": null,
            "flex": "2",
            "_model_name": "LayoutModel",
            "justify_items": null,
            "grid_row": null,
            "max_height": null,
            "align_content": null,
            "visibility": null,
            "align_self": null,
            "height": null,
            "min_height": null,
            "padding": null,
            "grid_auto_rows": null,
            "grid_gap": null,
            "max_width": null,
            "order": null,
            "_view_module_version": "1.2.0",
            "grid_template_areas": null,
            "object_position": null,
            "object_fit": null,
            "grid_auto_columns": null,
            "margin": null,
            "display": null,
            "left": null
          }
        },
        "f45584345592485886ce6251eefd2fb6": {
          "model_module": "@jupyter-widgets/controls",
          "model_name": "DescriptionStyleModel",
          "state": {
            "_view_name": "StyleView",
            "_model_name": "DescriptionStyleModel",
            "description_width": "",
            "_view_module": "@jupyter-widgets/base",
            "_model_module_version": "1.5.0",
            "_view_count": null,
            "_view_module_version": "1.2.0",
            "_model_module": "@jupyter-widgets/controls"
          }
        },
        "75a52b27c3e843598e2c407bd6d85147": {
          "model_module": "@jupyter-widgets/base",
          "model_name": "LayoutModel",
          "state": {
            "_view_name": "LayoutView",
            "grid_template_rows": null,
            "right": null,
            "justify_content": null,
            "_view_module": "@jupyter-widgets/base",
            "overflow": null,
            "_model_module_version": "1.2.0",
            "_view_count": null,
            "flex_flow": null,
            "width": null,
            "min_width": null,
            "border": null,
            "align_items": null,
            "bottom": null,
            "_model_module": "@jupyter-widgets/base",
            "top": null,
            "grid_column": null,
            "overflow_y": null,
            "overflow_x": null,
            "grid_auto_flow": null,
            "grid_area": null,
            "grid_template_columns": null,
            "flex": null,
            "_model_name": "LayoutModel",
            "justify_items": null,
            "grid_row": null,
            "max_height": null,
            "align_content": null,
            "visibility": null,
            "align_self": null,
            "height": null,
            "min_height": null,
            "padding": null,
            "grid_auto_rows": null,
            "grid_gap": null,
            "max_width": null,
            "order": null,
            "_view_module_version": "1.2.0",
            "grid_template_areas": null,
            "object_position": null,
            "object_fit": null,
            "grid_auto_columns": null,
            "margin": null,
            "display": null,
            "left": null
          }
        },
        "0c677f26e98f4af688c039e3310a6c37": {
          "model_module": "@jupyter-widgets/controls",
          "model_name": "HBoxModel",
          "state": {
            "_view_name": "HBoxView",
            "_dom_classes": [],
            "_model_name": "HBoxModel",
            "_view_module": "@jupyter-widgets/controls",
            "_model_module_version": "1.5.0",
            "_view_count": null,
            "_view_module_version": "1.5.0",
            "box_style": "",
            "layout": "IPY_MODEL_04d24339b39146029e47abef3183679c",
            "_model_module": "@jupyter-widgets/controls",
            "children": [
              "IPY_MODEL_e7928b3a56964e3f85da041a1ff33f1a",
              "IPY_MODEL_42f07f20370a43c8bcb212438096520e"
            ]
          }
        },
        "04d24339b39146029e47abef3183679c": {
          "model_module": "@jupyter-widgets/base",
          "model_name": "LayoutModel",
          "state": {
            "_view_name": "LayoutView",
            "grid_template_rows": null,
            "right": null,
            "justify_content": null,
            "_view_module": "@jupyter-widgets/base",
            "overflow": null,
            "_model_module_version": "1.2.0",
            "_view_count": null,
            "flex_flow": "row wrap",
            "width": "100%",
            "min_width": null,
            "border": null,
            "align_items": null,
            "bottom": null,
            "_model_module": "@jupyter-widgets/base",
            "top": null,
            "grid_column": null,
            "overflow_y": null,
            "overflow_x": null,
            "grid_auto_flow": null,
            "grid_area": null,
            "grid_template_columns": null,
            "flex": null,
            "_model_name": "LayoutModel",
            "justify_items": null,
            "grid_row": null,
            "max_height": null,
            "align_content": null,
            "visibility": null,
            "align_self": null,
            "height": null,
            "min_height": null,
            "padding": null,
            "grid_auto_rows": null,
            "grid_gap": null,
            "max_width": null,
            "order": null,
            "_view_module_version": "1.2.0",
            "grid_template_areas": null,
            "object_position": null,
            "object_fit": null,
            "grid_auto_columns": null,
            "margin": null,
            "display": "inline-flex",
            "left": null
          }
        },
        "e7928b3a56964e3f85da041a1ff33f1a": {
          "model_module": "@jupyter-widgets/controls",
          "model_name": "FloatProgressModel",
          "state": {
            "_view_name": "ProgressView",
            "style": "IPY_MODEL_3ff3252655ed4fe1aaf8550385962b6f",
            "_dom_classes": [],
            "description": "Validating: 100%",
            "_model_name": "FloatProgressModel",
            "bar_style": "info",
            "max": 10,
            "_view_module": "@jupyter-widgets/controls",
            "_model_module_version": "1.5.0",
            "value": 10,
            "_view_count": null,
            "_view_module_version": "1.5.0",
            "orientation": "horizontal",
            "min": 0,
            "description_tooltip": null,
            "_model_module": "@jupyter-widgets/controls",
            "layout": "IPY_MODEL_ff10aa26fb634dfaacbe23afe671e52e"
          }
        },
        "42f07f20370a43c8bcb212438096520e": {
          "model_module": "@jupyter-widgets/controls",
          "model_name": "HTMLModel",
          "state": {
            "_view_name": "HTMLView",
            "style": "IPY_MODEL_bb9d46069d2947e79e8217454f7d6c0a",
            "_dom_classes": [],
            "description": "",
            "_model_name": "HTMLModel",
            "placeholder": "​",
            "_view_module": "@jupyter-widgets/controls",
            "_model_module_version": "1.5.0",
            "value": " 10/10 [00:00&lt;00:00, 450.31it/s]",
            "_view_count": null,
            "_view_module_version": "1.5.0",
            "description_tooltip": null,
            "_model_module": "@jupyter-widgets/controls",
            "layout": "IPY_MODEL_6111e6549e494b549175744e73801f1d"
          }
        },
        "3ff3252655ed4fe1aaf8550385962b6f": {
          "model_module": "@jupyter-widgets/controls",
          "model_name": "ProgressStyleModel",
          "state": {
            "_view_name": "StyleView",
            "_model_name": "ProgressStyleModel",
            "description_width": "initial",
            "_view_module": "@jupyter-widgets/base",
            "_model_module_version": "1.5.0",
            "_view_count": null,
            "_view_module_version": "1.2.0",
            "bar_color": null,
            "_model_module": "@jupyter-widgets/controls"
          }
        },
        "ff10aa26fb634dfaacbe23afe671e52e": {
          "model_module": "@jupyter-widgets/base",
          "model_name": "LayoutModel",
          "state": {
            "_view_name": "LayoutView",
            "grid_template_rows": null,
            "right": null,
            "justify_content": null,
            "_view_module": "@jupyter-widgets/base",
            "overflow": null,
            "_model_module_version": "1.2.0",
            "_view_count": null,
            "flex_flow": null,
            "width": null,
            "min_width": null,
            "border": null,
            "align_items": null,
            "bottom": null,
            "_model_module": "@jupyter-widgets/base",
            "top": null,
            "grid_column": null,
            "overflow_y": null,
            "overflow_x": null,
            "grid_auto_flow": null,
            "grid_area": null,
            "grid_template_columns": null,
            "flex": "2",
            "_model_name": "LayoutModel",
            "justify_items": null,
            "grid_row": null,
            "max_height": null,
            "align_content": null,
            "visibility": null,
            "align_self": null,
            "height": null,
            "min_height": null,
            "padding": null,
            "grid_auto_rows": null,
            "grid_gap": null,
            "max_width": null,
            "order": null,
            "_view_module_version": "1.2.0",
            "grid_template_areas": null,
            "object_position": null,
            "object_fit": null,
            "grid_auto_columns": null,
            "margin": null,
            "display": null,
            "left": null
          }
        },
        "bb9d46069d2947e79e8217454f7d6c0a": {
          "model_module": "@jupyter-widgets/controls",
          "model_name": "DescriptionStyleModel",
          "state": {
            "_view_name": "StyleView",
            "_model_name": "DescriptionStyleModel",
            "description_width": "",
            "_view_module": "@jupyter-widgets/base",
            "_model_module_version": "1.5.0",
            "_view_count": null,
            "_view_module_version": "1.2.0",
            "_model_module": "@jupyter-widgets/controls"
          }
        },
        "6111e6549e494b549175744e73801f1d": {
          "model_module": "@jupyter-widgets/base",
          "model_name": "LayoutModel",
          "state": {
            "_view_name": "LayoutView",
            "grid_template_rows": null,
            "right": null,
            "justify_content": null,
            "_view_module": "@jupyter-widgets/base",
            "overflow": null,
            "_model_module_version": "1.2.0",
            "_view_count": null,
            "flex_flow": null,
            "width": null,
            "min_width": null,
            "border": null,
            "align_items": null,
            "bottom": null,
            "_model_module": "@jupyter-widgets/base",
            "top": null,
            "grid_column": null,
            "overflow_y": null,
            "overflow_x": null,
            "grid_auto_flow": null,
            "grid_area": null,
            "grid_template_columns": null,
            "flex": null,
            "_model_name": "LayoutModel",
            "justify_items": null,
            "grid_row": null,
            "max_height": null,
            "align_content": null,
            "visibility": null,
            "align_self": null,
            "height": null,
            "min_height": null,
            "padding": null,
            "grid_auto_rows": null,
            "grid_gap": null,
            "max_width": null,
            "order": null,
            "_view_module_version": "1.2.0",
            "grid_template_areas": null,
            "object_position": null,
            "object_fit": null,
            "grid_auto_columns": null,
            "margin": null,
            "display": null,
            "left": null
          }
        },
        "97d3e89e516948998f4dcde4cab41a1e": {
          "model_module": "@jupyter-widgets/controls",
          "model_name": "HBoxModel",
          "state": {
            "_view_name": "HBoxView",
            "_dom_classes": [],
            "_model_name": "HBoxModel",
            "_view_module": "@jupyter-widgets/controls",
            "_model_module_version": "1.5.0",
            "_view_count": null,
            "_view_module_version": "1.5.0",
            "box_style": "",
            "layout": "IPY_MODEL_e7c59a4745954c378f1017536ae55379",
            "_model_module": "@jupyter-widgets/controls",
            "children": [
              "IPY_MODEL_0f21bff607554a5682267fdb2b0a4a22",
              "IPY_MODEL_9150e1048ef44aa2b1e6c44111899922"
            ]
          }
        },
        "e7c59a4745954c378f1017536ae55379": {
          "model_module": "@jupyter-widgets/base",
          "model_name": "LayoutModel",
          "state": {
            "_view_name": "LayoutView",
            "grid_template_rows": null,
            "right": null,
            "justify_content": null,
            "_view_module": "@jupyter-widgets/base",
            "overflow": null,
            "_model_module_version": "1.2.0",
            "_view_count": null,
            "flex_flow": "row wrap",
            "width": "100%",
            "min_width": null,
            "border": null,
            "align_items": null,
            "bottom": null,
            "_model_module": "@jupyter-widgets/base",
            "top": null,
            "grid_column": null,
            "overflow_y": null,
            "overflow_x": null,
            "grid_auto_flow": null,
            "grid_area": null,
            "grid_template_columns": null,
            "flex": null,
            "_model_name": "LayoutModel",
            "justify_items": null,
            "grid_row": null,
            "max_height": null,
            "align_content": null,
            "visibility": null,
            "align_self": null,
            "height": null,
            "min_height": null,
            "padding": null,
            "grid_auto_rows": null,
            "grid_gap": null,
            "max_width": null,
            "order": null,
            "_view_module_version": "1.2.0",
            "grid_template_areas": null,
            "object_position": null,
            "object_fit": null,
            "grid_auto_columns": null,
            "margin": null,
            "display": "inline-flex",
            "left": null
          }
        },
        "0f21bff607554a5682267fdb2b0a4a22": {
          "model_module": "@jupyter-widgets/controls",
          "model_name": "FloatProgressModel",
          "state": {
            "_view_name": "ProgressView",
            "style": "IPY_MODEL_725e64ce7a70442c872e879121c8a836",
            "_dom_classes": [],
            "description": "Validating: 100%",
            "_model_name": "FloatProgressModel",
            "bar_style": "info",
            "max": 10,
            "_view_module": "@jupyter-widgets/controls",
            "_model_module_version": "1.5.0",
            "value": 10,
            "_view_count": null,
            "_view_module_version": "1.5.0",
            "orientation": "horizontal",
            "min": 0,
            "description_tooltip": null,
            "_model_module": "@jupyter-widgets/controls",
            "layout": "IPY_MODEL_1700025463d24ed29e20e59850a02533"
          }
        },
        "9150e1048ef44aa2b1e6c44111899922": {
          "model_module": "@jupyter-widgets/controls",
          "model_name": "HTMLModel",
          "state": {
            "_view_name": "HTMLView",
            "style": "IPY_MODEL_6d1ffea542b441b1af9613280bc802b4",
            "_dom_classes": [],
            "description": "",
            "_model_name": "HTMLModel",
            "placeholder": "​",
            "_view_module": "@jupyter-widgets/controls",
            "_model_module_version": "1.5.0",
            "value": " 10/10 [00:00&lt;00:00, 221.02it/s]",
            "_view_count": null,
            "_view_module_version": "1.5.0",
            "description_tooltip": null,
            "_model_module": "@jupyter-widgets/controls",
            "layout": "IPY_MODEL_23c46b50b30444d5b06eaef34285d32f"
          }
        },
        "725e64ce7a70442c872e879121c8a836": {
          "model_module": "@jupyter-widgets/controls",
          "model_name": "ProgressStyleModel",
          "state": {
            "_view_name": "StyleView",
            "_model_name": "ProgressStyleModel",
            "description_width": "initial",
            "_view_module": "@jupyter-widgets/base",
            "_model_module_version": "1.5.0",
            "_view_count": null,
            "_view_module_version": "1.2.0",
            "bar_color": null,
            "_model_module": "@jupyter-widgets/controls"
          }
        },
        "1700025463d24ed29e20e59850a02533": {
          "model_module": "@jupyter-widgets/base",
          "model_name": "LayoutModel",
          "state": {
            "_view_name": "LayoutView",
            "grid_template_rows": null,
            "right": null,
            "justify_content": null,
            "_view_module": "@jupyter-widgets/base",
            "overflow": null,
            "_model_module_version": "1.2.0",
            "_view_count": null,
            "flex_flow": null,
            "width": null,
            "min_width": null,
            "border": null,
            "align_items": null,
            "bottom": null,
            "_model_module": "@jupyter-widgets/base",
            "top": null,
            "grid_column": null,
            "overflow_y": null,
            "overflow_x": null,
            "grid_auto_flow": null,
            "grid_area": null,
            "grid_template_columns": null,
            "flex": "2",
            "_model_name": "LayoutModel",
            "justify_items": null,
            "grid_row": null,
            "max_height": null,
            "align_content": null,
            "visibility": null,
            "align_self": null,
            "height": null,
            "min_height": null,
            "padding": null,
            "grid_auto_rows": null,
            "grid_gap": null,
            "max_width": null,
            "order": null,
            "_view_module_version": "1.2.0",
            "grid_template_areas": null,
            "object_position": null,
            "object_fit": null,
            "grid_auto_columns": null,
            "margin": null,
            "display": null,
            "left": null
          }
        },
        "6d1ffea542b441b1af9613280bc802b4": {
          "model_module": "@jupyter-widgets/controls",
          "model_name": "DescriptionStyleModel",
          "state": {
            "_view_name": "StyleView",
            "_model_name": "DescriptionStyleModel",
            "description_width": "",
            "_view_module": "@jupyter-widgets/base",
            "_model_module_version": "1.5.0",
            "_view_count": null,
            "_view_module_version": "1.2.0",
            "_model_module": "@jupyter-widgets/controls"
          }
        },
        "23c46b50b30444d5b06eaef34285d32f": {
          "model_module": "@jupyter-widgets/base",
          "model_name": "LayoutModel",
          "state": {
            "_view_name": "LayoutView",
            "grid_template_rows": null,
            "right": null,
            "justify_content": null,
            "_view_module": "@jupyter-widgets/base",
            "overflow": null,
            "_model_module_version": "1.2.0",
            "_view_count": null,
            "flex_flow": null,
            "width": null,
            "min_width": null,
            "border": null,
            "align_items": null,
            "bottom": null,
            "_model_module": "@jupyter-widgets/base",
            "top": null,
            "grid_column": null,
            "overflow_y": null,
            "overflow_x": null,
            "grid_auto_flow": null,
            "grid_area": null,
            "grid_template_columns": null,
            "flex": null,
            "_model_name": "LayoutModel",
            "justify_items": null,
            "grid_row": null,
            "max_height": null,
            "align_content": null,
            "visibility": null,
            "align_self": null,
            "height": null,
            "min_height": null,
            "padding": null,
            "grid_auto_rows": null,
            "grid_gap": null,
            "max_width": null,
            "order": null,
            "_view_module_version": "1.2.0",
            "grid_template_areas": null,
            "object_position": null,
            "object_fit": null,
            "grid_auto_columns": null,
            "margin": null,
            "display": null,
            "left": null
          }
        },
        "64580af7a809490aad4738a3ab4d216e": {
          "model_module": "@jupyter-widgets/controls",
          "model_name": "HBoxModel",
          "state": {
            "_view_name": "HBoxView",
            "_dom_classes": [],
            "_model_name": "HBoxModel",
            "_view_module": "@jupyter-widgets/controls",
            "_model_module_version": "1.5.0",
            "_view_count": null,
            "_view_module_version": "1.5.0",
            "box_style": "",
            "layout": "IPY_MODEL_b78041722f5f4b85a0360433afbe0591",
            "_model_module": "@jupyter-widgets/controls",
            "children": [
              "IPY_MODEL_b6b00c40cf05462faaba854df87a4368",
              "IPY_MODEL_ddffb78b62274bbb9e0906cbdf3a3004"
            ]
          }
        },
        "b78041722f5f4b85a0360433afbe0591": {
          "model_module": "@jupyter-widgets/base",
          "model_name": "LayoutModel",
          "state": {
            "_view_name": "LayoutView",
            "grid_template_rows": null,
            "right": null,
            "justify_content": null,
            "_view_module": "@jupyter-widgets/base",
            "overflow": null,
            "_model_module_version": "1.2.0",
            "_view_count": null,
            "flex_flow": "row wrap",
            "width": "100%",
            "min_width": null,
            "border": null,
            "align_items": null,
            "bottom": null,
            "_model_module": "@jupyter-widgets/base",
            "top": null,
            "grid_column": null,
            "overflow_y": null,
            "overflow_x": null,
            "grid_auto_flow": null,
            "grid_area": null,
            "grid_template_columns": null,
            "flex": null,
            "_model_name": "LayoutModel",
            "justify_items": null,
            "grid_row": null,
            "max_height": null,
            "align_content": null,
            "visibility": null,
            "align_self": null,
            "height": null,
            "min_height": null,
            "padding": null,
            "grid_auto_rows": null,
            "grid_gap": null,
            "max_width": null,
            "order": null,
            "_view_module_version": "1.2.0",
            "grid_template_areas": null,
            "object_position": null,
            "object_fit": null,
            "grid_auto_columns": null,
            "margin": null,
            "display": "inline-flex",
            "left": null
          }
        },
        "b6b00c40cf05462faaba854df87a4368": {
          "model_module": "@jupyter-widgets/controls",
          "model_name": "FloatProgressModel",
          "state": {
            "_view_name": "ProgressView",
            "style": "IPY_MODEL_3c3ea08b6f664b63a985139616d617d0",
            "_dom_classes": [],
            "description": "Validating: 100%",
            "_model_name": "FloatProgressModel",
            "bar_style": "info",
            "max": 10,
            "_view_module": "@jupyter-widgets/controls",
            "_model_module_version": "1.5.0",
            "value": 10,
            "_view_count": null,
            "_view_module_version": "1.5.0",
            "orientation": "horizontal",
            "min": 0,
            "description_tooltip": null,
            "_model_module": "@jupyter-widgets/controls",
            "layout": "IPY_MODEL_4b71a65492d643fab4a892cadc5b8a89"
          }
        },
        "ddffb78b62274bbb9e0906cbdf3a3004": {
          "model_module": "@jupyter-widgets/controls",
          "model_name": "HTMLModel",
          "state": {
            "_view_name": "HTMLView",
            "style": "IPY_MODEL_eb77546b01ab4c35b62e0231d1c78d0e",
            "_dom_classes": [],
            "description": "",
            "_model_name": "HTMLModel",
            "placeholder": "​",
            "_view_module": "@jupyter-widgets/controls",
            "_model_module_version": "1.5.0",
            "value": " 10/10 [00:00&lt;00:00, 408.84it/s]",
            "_view_count": null,
            "_view_module_version": "1.5.0",
            "description_tooltip": null,
            "_model_module": "@jupyter-widgets/controls",
            "layout": "IPY_MODEL_ea2a6bcf97794c4c9f4de8350ec42e6c"
          }
        },
        "3c3ea08b6f664b63a985139616d617d0": {
          "model_module": "@jupyter-widgets/controls",
          "model_name": "ProgressStyleModel",
          "state": {
            "_view_name": "StyleView",
            "_model_name": "ProgressStyleModel",
            "description_width": "initial",
            "_view_module": "@jupyter-widgets/base",
            "_model_module_version": "1.5.0",
            "_view_count": null,
            "_view_module_version": "1.2.0",
            "bar_color": null,
            "_model_module": "@jupyter-widgets/controls"
          }
        },
        "4b71a65492d643fab4a892cadc5b8a89": {
          "model_module": "@jupyter-widgets/base",
          "model_name": "LayoutModel",
          "state": {
            "_view_name": "LayoutView",
            "grid_template_rows": null,
            "right": null,
            "justify_content": null,
            "_view_module": "@jupyter-widgets/base",
            "overflow": null,
            "_model_module_version": "1.2.0",
            "_view_count": null,
            "flex_flow": null,
            "width": null,
            "min_width": null,
            "border": null,
            "align_items": null,
            "bottom": null,
            "_model_module": "@jupyter-widgets/base",
            "top": null,
            "grid_column": null,
            "overflow_y": null,
            "overflow_x": null,
            "grid_auto_flow": null,
            "grid_area": null,
            "grid_template_columns": null,
            "flex": "2",
            "_model_name": "LayoutModel",
            "justify_items": null,
            "grid_row": null,
            "max_height": null,
            "align_content": null,
            "visibility": null,
            "align_self": null,
            "height": null,
            "min_height": null,
            "padding": null,
            "grid_auto_rows": null,
            "grid_gap": null,
            "max_width": null,
            "order": null,
            "_view_module_version": "1.2.0",
            "grid_template_areas": null,
            "object_position": null,
            "object_fit": null,
            "grid_auto_columns": null,
            "margin": null,
            "display": null,
            "left": null
          }
        },
        "eb77546b01ab4c35b62e0231d1c78d0e": {
          "model_module": "@jupyter-widgets/controls",
          "model_name": "DescriptionStyleModel",
          "state": {
            "_view_name": "StyleView",
            "_model_name": "DescriptionStyleModel",
            "description_width": "",
            "_view_module": "@jupyter-widgets/base",
            "_model_module_version": "1.5.0",
            "_view_count": null,
            "_view_module_version": "1.2.0",
            "_model_module": "@jupyter-widgets/controls"
          }
        },
        "ea2a6bcf97794c4c9f4de8350ec42e6c": {
          "model_module": "@jupyter-widgets/base",
          "model_name": "LayoutModel",
          "state": {
            "_view_name": "LayoutView",
            "grid_template_rows": null,
            "right": null,
            "justify_content": null,
            "_view_module": "@jupyter-widgets/base",
            "overflow": null,
            "_model_module_version": "1.2.0",
            "_view_count": null,
            "flex_flow": null,
            "width": null,
            "min_width": null,
            "border": null,
            "align_items": null,
            "bottom": null,
            "_model_module": "@jupyter-widgets/base",
            "top": null,
            "grid_column": null,
            "overflow_y": null,
            "overflow_x": null,
            "grid_auto_flow": null,
            "grid_area": null,
            "grid_template_columns": null,
            "flex": null,
            "_model_name": "LayoutModel",
            "justify_items": null,
            "grid_row": null,
            "max_height": null,
            "align_content": null,
            "visibility": null,
            "align_self": null,
            "height": null,
            "min_height": null,
            "padding": null,
            "grid_auto_rows": null,
            "grid_gap": null,
            "max_width": null,
            "order": null,
            "_view_module_version": "1.2.0",
            "grid_template_areas": null,
            "object_position": null,
            "object_fit": null,
            "grid_auto_columns": null,
            "margin": null,
            "display": null,
            "left": null
          }
        },
        "15a6267c57ec4612afce35dc15f93c70": {
          "model_module": "@jupyter-widgets/controls",
          "model_name": "HBoxModel",
          "state": {
            "_view_name": "HBoxView",
            "_dom_classes": [],
            "_model_name": "HBoxModel",
            "_view_module": "@jupyter-widgets/controls",
            "_model_module_version": "1.5.0",
            "_view_count": null,
            "_view_module_version": "1.5.0",
            "box_style": "",
            "layout": "IPY_MODEL_3353df9726dd4ed8a49aefa2557c23df",
            "_model_module": "@jupyter-widgets/controls",
            "children": [
              "IPY_MODEL_145204b7c61f4852af5ab8d301d77694",
              "IPY_MODEL_49edb8aef5e5487f8715f0f9bd2902e2"
            ]
          }
        },
        "3353df9726dd4ed8a49aefa2557c23df": {
          "model_module": "@jupyter-widgets/base",
          "model_name": "LayoutModel",
          "state": {
            "_view_name": "LayoutView",
            "grid_template_rows": null,
            "right": null,
            "justify_content": null,
            "_view_module": "@jupyter-widgets/base",
            "overflow": null,
            "_model_module_version": "1.2.0",
            "_view_count": null,
            "flex_flow": "row wrap",
            "width": "100%",
            "min_width": null,
            "border": null,
            "align_items": null,
            "bottom": null,
            "_model_module": "@jupyter-widgets/base",
            "top": null,
            "grid_column": null,
            "overflow_y": null,
            "overflow_x": null,
            "grid_auto_flow": null,
            "grid_area": null,
            "grid_template_columns": null,
            "flex": null,
            "_model_name": "LayoutModel",
            "justify_items": null,
            "grid_row": null,
            "max_height": null,
            "align_content": null,
            "visibility": null,
            "align_self": null,
            "height": null,
            "min_height": null,
            "padding": null,
            "grid_auto_rows": null,
            "grid_gap": null,
            "max_width": null,
            "order": null,
            "_view_module_version": "1.2.0",
            "grid_template_areas": null,
            "object_position": null,
            "object_fit": null,
            "grid_auto_columns": null,
            "margin": null,
            "display": "inline-flex",
            "left": null
          }
        },
        "145204b7c61f4852af5ab8d301d77694": {
          "model_module": "@jupyter-widgets/controls",
          "model_name": "FloatProgressModel",
          "state": {
            "_view_name": "ProgressView",
            "style": "IPY_MODEL_837a952f4dea4b5bb2ea580a8d87a841",
            "_dom_classes": [],
            "description": "Validating: 100%",
            "_model_name": "FloatProgressModel",
            "bar_style": "info",
            "max": 10,
            "_view_module": "@jupyter-widgets/controls",
            "_model_module_version": "1.5.0",
            "value": 10,
            "_view_count": null,
            "_view_module_version": "1.5.0",
            "orientation": "horizontal",
            "min": 0,
            "description_tooltip": null,
            "_model_module": "@jupyter-widgets/controls",
            "layout": "IPY_MODEL_3659c0abd6294482bcbededdad5a4310"
          }
        },
        "49edb8aef5e5487f8715f0f9bd2902e2": {
          "model_module": "@jupyter-widgets/controls",
          "model_name": "HTMLModel",
          "state": {
            "_view_name": "HTMLView",
            "style": "IPY_MODEL_1739e24642734e69b34098053753e2e8",
            "_dom_classes": [],
            "description": "",
            "_model_name": "HTMLModel",
            "placeholder": "​",
            "_view_module": "@jupyter-widgets/controls",
            "_model_module_version": "1.5.0",
            "value": " 10/10 [00:00&lt;00:00, 432.46it/s]",
            "_view_count": null,
            "_view_module_version": "1.5.0",
            "description_tooltip": null,
            "_model_module": "@jupyter-widgets/controls",
            "layout": "IPY_MODEL_68dedf9a9d7a426d8604885f3f69fffc"
          }
        },
        "837a952f4dea4b5bb2ea580a8d87a841": {
          "model_module": "@jupyter-widgets/controls",
          "model_name": "ProgressStyleModel",
          "state": {
            "_view_name": "StyleView",
            "_model_name": "ProgressStyleModel",
            "description_width": "initial",
            "_view_module": "@jupyter-widgets/base",
            "_model_module_version": "1.5.0",
            "_view_count": null,
            "_view_module_version": "1.2.0",
            "bar_color": null,
            "_model_module": "@jupyter-widgets/controls"
          }
        },
        "3659c0abd6294482bcbededdad5a4310": {
          "model_module": "@jupyter-widgets/base",
          "model_name": "LayoutModel",
          "state": {
            "_view_name": "LayoutView",
            "grid_template_rows": null,
            "right": null,
            "justify_content": null,
            "_view_module": "@jupyter-widgets/base",
            "overflow": null,
            "_model_module_version": "1.2.0",
            "_view_count": null,
            "flex_flow": null,
            "width": null,
            "min_width": null,
            "border": null,
            "align_items": null,
            "bottom": null,
            "_model_module": "@jupyter-widgets/base",
            "top": null,
            "grid_column": null,
            "overflow_y": null,
            "overflow_x": null,
            "grid_auto_flow": null,
            "grid_area": null,
            "grid_template_columns": null,
            "flex": "2",
            "_model_name": "LayoutModel",
            "justify_items": null,
            "grid_row": null,
            "max_height": null,
            "align_content": null,
            "visibility": null,
            "align_self": null,
            "height": null,
            "min_height": null,
            "padding": null,
            "grid_auto_rows": null,
            "grid_gap": null,
            "max_width": null,
            "order": null,
            "_view_module_version": "1.2.0",
            "grid_template_areas": null,
            "object_position": null,
            "object_fit": null,
            "grid_auto_columns": null,
            "margin": null,
            "display": null,
            "left": null
          }
        },
        "1739e24642734e69b34098053753e2e8": {
          "model_module": "@jupyter-widgets/controls",
          "model_name": "DescriptionStyleModel",
          "state": {
            "_view_name": "StyleView",
            "_model_name": "DescriptionStyleModel",
            "description_width": "",
            "_view_module": "@jupyter-widgets/base",
            "_model_module_version": "1.5.0",
            "_view_count": null,
            "_view_module_version": "1.2.0",
            "_model_module": "@jupyter-widgets/controls"
          }
        },
        "68dedf9a9d7a426d8604885f3f69fffc": {
          "model_module": "@jupyter-widgets/base",
          "model_name": "LayoutModel",
          "state": {
            "_view_name": "LayoutView",
            "grid_template_rows": null,
            "right": null,
            "justify_content": null,
            "_view_module": "@jupyter-widgets/base",
            "overflow": null,
            "_model_module_version": "1.2.0",
            "_view_count": null,
            "flex_flow": null,
            "width": null,
            "min_width": null,
            "border": null,
            "align_items": null,
            "bottom": null,
            "_model_module": "@jupyter-widgets/base",
            "top": null,
            "grid_column": null,
            "overflow_y": null,
            "overflow_x": null,
            "grid_auto_flow": null,
            "grid_area": null,
            "grid_template_columns": null,
            "flex": null,
            "_model_name": "LayoutModel",
            "justify_items": null,
            "grid_row": null,
            "max_height": null,
            "align_content": null,
            "visibility": null,
            "align_self": null,
            "height": null,
            "min_height": null,
            "padding": null,
            "grid_auto_rows": null,
            "grid_gap": null,
            "max_width": null,
            "order": null,
            "_view_module_version": "1.2.0",
            "grid_template_areas": null,
            "object_position": null,
            "object_fit": null,
            "grid_auto_columns": null,
            "margin": null,
            "display": null,
            "left": null
          }
        },
        "d6c9e475894443b0a371f1bd0e305748": {
          "model_module": "@jupyter-widgets/controls",
          "model_name": "HBoxModel",
          "state": {
            "_view_name": "HBoxView",
            "_dom_classes": [],
            "_model_name": "HBoxModel",
            "_view_module": "@jupyter-widgets/controls",
            "_model_module_version": "1.5.0",
            "_view_count": null,
            "_view_module_version": "1.5.0",
            "box_style": "",
            "layout": "IPY_MODEL_5c75e6494e214da0af5def0b8aa15bb6",
            "_model_module": "@jupyter-widgets/controls",
            "children": [
              "IPY_MODEL_1e7ea0dbfa4742eba7235e212bd75d9e",
              "IPY_MODEL_c1c084bd7dd043efb154e235fdc01615"
            ]
          }
        },
        "5c75e6494e214da0af5def0b8aa15bb6": {
          "model_module": "@jupyter-widgets/base",
          "model_name": "LayoutModel",
          "state": {
            "_view_name": "LayoutView",
            "grid_template_rows": null,
            "right": null,
            "justify_content": null,
            "_view_module": "@jupyter-widgets/base",
            "overflow": null,
            "_model_module_version": "1.2.0",
            "_view_count": null,
            "flex_flow": "row wrap",
            "width": "100%",
            "min_width": null,
            "border": null,
            "align_items": null,
            "bottom": null,
            "_model_module": "@jupyter-widgets/base",
            "top": null,
            "grid_column": null,
            "overflow_y": null,
            "overflow_x": null,
            "grid_auto_flow": null,
            "grid_area": null,
            "grid_template_columns": null,
            "flex": null,
            "_model_name": "LayoutModel",
            "justify_items": null,
            "grid_row": null,
            "max_height": null,
            "align_content": null,
            "visibility": null,
            "align_self": null,
            "height": null,
            "min_height": null,
            "padding": null,
            "grid_auto_rows": null,
            "grid_gap": null,
            "max_width": null,
            "order": null,
            "_view_module_version": "1.2.0",
            "grid_template_areas": null,
            "object_position": null,
            "object_fit": null,
            "grid_auto_columns": null,
            "margin": null,
            "display": "inline-flex",
            "left": null
          }
        },
        "1e7ea0dbfa4742eba7235e212bd75d9e": {
          "model_module": "@jupyter-widgets/controls",
          "model_name": "FloatProgressModel",
          "state": {
            "_view_name": "ProgressView",
            "style": "IPY_MODEL_4ead05913a25433cb459137f46eed890",
            "_dom_classes": [],
            "description": "Validating: 100%",
            "_model_name": "FloatProgressModel",
            "bar_style": "info",
            "max": 10,
            "_view_module": "@jupyter-widgets/controls",
            "_model_module_version": "1.5.0",
            "value": 10,
            "_view_count": null,
            "_view_module_version": "1.5.0",
            "orientation": "horizontal",
            "min": 0,
            "description_tooltip": null,
            "_model_module": "@jupyter-widgets/controls",
            "layout": "IPY_MODEL_9305c271f270428584a3ac6fa26bc8e9"
          }
        },
        "c1c084bd7dd043efb154e235fdc01615": {
          "model_module": "@jupyter-widgets/controls",
          "model_name": "HTMLModel",
          "state": {
            "_view_name": "HTMLView",
            "style": "IPY_MODEL_bc396378d2334e32b4c70e018a281304",
            "_dom_classes": [],
            "description": "",
            "_model_name": "HTMLModel",
            "placeholder": "​",
            "_view_module": "@jupyter-widgets/controls",
            "_model_module_version": "1.5.0",
            "value": " 10/10 [00:00&lt;00:00, 411.98it/s]",
            "_view_count": null,
            "_view_module_version": "1.5.0",
            "description_tooltip": null,
            "_model_module": "@jupyter-widgets/controls",
            "layout": "IPY_MODEL_787131d73231405883bc73060d5616a3"
          }
        },
        "4ead05913a25433cb459137f46eed890": {
          "model_module": "@jupyter-widgets/controls",
          "model_name": "ProgressStyleModel",
          "state": {
            "_view_name": "StyleView",
            "_model_name": "ProgressStyleModel",
            "description_width": "initial",
            "_view_module": "@jupyter-widgets/base",
            "_model_module_version": "1.5.0",
            "_view_count": null,
            "_view_module_version": "1.2.0",
            "bar_color": null,
            "_model_module": "@jupyter-widgets/controls"
          }
        },
        "9305c271f270428584a3ac6fa26bc8e9": {
          "model_module": "@jupyter-widgets/base",
          "model_name": "LayoutModel",
          "state": {
            "_view_name": "LayoutView",
            "grid_template_rows": null,
            "right": null,
            "justify_content": null,
            "_view_module": "@jupyter-widgets/base",
            "overflow": null,
            "_model_module_version": "1.2.0",
            "_view_count": null,
            "flex_flow": null,
            "width": null,
            "min_width": null,
            "border": null,
            "align_items": null,
            "bottom": null,
            "_model_module": "@jupyter-widgets/base",
            "top": null,
            "grid_column": null,
            "overflow_y": null,
            "overflow_x": null,
            "grid_auto_flow": null,
            "grid_area": null,
            "grid_template_columns": null,
            "flex": "2",
            "_model_name": "LayoutModel",
            "justify_items": null,
            "grid_row": null,
            "max_height": null,
            "align_content": null,
            "visibility": null,
            "align_self": null,
            "height": null,
            "min_height": null,
            "padding": null,
            "grid_auto_rows": null,
            "grid_gap": null,
            "max_width": null,
            "order": null,
            "_view_module_version": "1.2.0",
            "grid_template_areas": null,
            "object_position": null,
            "object_fit": null,
            "grid_auto_columns": null,
            "margin": null,
            "display": null,
            "left": null
          }
        },
        "bc396378d2334e32b4c70e018a281304": {
          "model_module": "@jupyter-widgets/controls",
          "model_name": "DescriptionStyleModel",
          "state": {
            "_view_name": "StyleView",
            "_model_name": "DescriptionStyleModel",
            "description_width": "",
            "_view_module": "@jupyter-widgets/base",
            "_model_module_version": "1.5.0",
            "_view_count": null,
            "_view_module_version": "1.2.0",
            "_model_module": "@jupyter-widgets/controls"
          }
        },
        "787131d73231405883bc73060d5616a3": {
          "model_module": "@jupyter-widgets/base",
          "model_name": "LayoutModel",
          "state": {
            "_view_name": "LayoutView",
            "grid_template_rows": null,
            "right": null,
            "justify_content": null,
            "_view_module": "@jupyter-widgets/base",
            "overflow": null,
            "_model_module_version": "1.2.0",
            "_view_count": null,
            "flex_flow": null,
            "width": null,
            "min_width": null,
            "border": null,
            "align_items": null,
            "bottom": null,
            "_model_module": "@jupyter-widgets/base",
            "top": null,
            "grid_column": null,
            "overflow_y": null,
            "overflow_x": null,
            "grid_auto_flow": null,
            "grid_area": null,
            "grid_template_columns": null,
            "flex": null,
            "_model_name": "LayoutModel",
            "justify_items": null,
            "grid_row": null,
            "max_height": null,
            "align_content": null,
            "visibility": null,
            "align_self": null,
            "height": null,
            "min_height": null,
            "padding": null,
            "grid_auto_rows": null,
            "grid_gap": null,
            "max_width": null,
            "order": null,
            "_view_module_version": "1.2.0",
            "grid_template_areas": null,
            "object_position": null,
            "object_fit": null,
            "grid_auto_columns": null,
            "margin": null,
            "display": null,
            "left": null
          }
        },
        "b7d05eb790f446d396348698c27808de": {
          "model_module": "@jupyter-widgets/controls",
          "model_name": "HBoxModel",
          "state": {
            "_view_name": "HBoxView",
            "_dom_classes": [],
            "_model_name": "HBoxModel",
            "_view_module": "@jupyter-widgets/controls",
            "_model_module_version": "1.5.0",
            "_view_count": null,
            "_view_module_version": "1.5.0",
            "box_style": "",
            "layout": "IPY_MODEL_000c246edc59464aa5d9c8a61465ee60",
            "_model_module": "@jupyter-widgets/controls",
            "children": [
              "IPY_MODEL_cb59002624a5400fa2926ea6801c6884",
              "IPY_MODEL_3ac59ea22db044078c622658c4bb1781"
            ]
          }
        },
        "000c246edc59464aa5d9c8a61465ee60": {
          "model_module": "@jupyter-widgets/base",
          "model_name": "LayoutModel",
          "state": {
            "_view_name": "LayoutView",
            "grid_template_rows": null,
            "right": null,
            "justify_content": null,
            "_view_module": "@jupyter-widgets/base",
            "overflow": null,
            "_model_module_version": "1.2.0",
            "_view_count": null,
            "flex_flow": "row wrap",
            "width": "100%",
            "min_width": null,
            "border": null,
            "align_items": null,
            "bottom": null,
            "_model_module": "@jupyter-widgets/base",
            "top": null,
            "grid_column": null,
            "overflow_y": null,
            "overflow_x": null,
            "grid_auto_flow": null,
            "grid_area": null,
            "grid_template_columns": null,
            "flex": null,
            "_model_name": "LayoutModel",
            "justify_items": null,
            "grid_row": null,
            "max_height": null,
            "align_content": null,
            "visibility": null,
            "align_self": null,
            "height": null,
            "min_height": null,
            "padding": null,
            "grid_auto_rows": null,
            "grid_gap": null,
            "max_width": null,
            "order": null,
            "_view_module_version": "1.2.0",
            "grid_template_areas": null,
            "object_position": null,
            "object_fit": null,
            "grid_auto_columns": null,
            "margin": null,
            "display": "inline-flex",
            "left": null
          }
        },
        "cb59002624a5400fa2926ea6801c6884": {
          "model_module": "@jupyter-widgets/controls",
          "model_name": "FloatProgressModel",
          "state": {
            "_view_name": "ProgressView",
            "style": "IPY_MODEL_c6cf744d34594911839586d056bcb69c",
            "_dom_classes": [],
            "description": "Validating: 100%",
            "_model_name": "FloatProgressModel",
            "bar_style": "info",
            "max": 10,
            "_view_module": "@jupyter-widgets/controls",
            "_model_module_version": "1.5.0",
            "value": 10,
            "_view_count": null,
            "_view_module_version": "1.5.0",
            "orientation": "horizontal",
            "min": 0,
            "description_tooltip": null,
            "_model_module": "@jupyter-widgets/controls",
            "layout": "IPY_MODEL_17a1b37b6ec6439b93ed5cc3d1d7192f"
          }
        },
        "3ac59ea22db044078c622658c4bb1781": {
          "model_module": "@jupyter-widgets/controls",
          "model_name": "HTMLModel",
          "state": {
            "_view_name": "HTMLView",
            "style": "IPY_MODEL_382a65de52ed44dd85503f188a56c760",
            "_dom_classes": [],
            "description": "",
            "_model_name": "HTMLModel",
            "placeholder": "​",
            "_view_module": "@jupyter-widgets/controls",
            "_model_module_version": "1.5.0",
            "value": " 10/10 [00:00&lt;00:00, 325.57it/s]",
            "_view_count": null,
            "_view_module_version": "1.5.0",
            "description_tooltip": null,
            "_model_module": "@jupyter-widgets/controls",
            "layout": "IPY_MODEL_90650ac35a514ede81a13ad0ef58f466"
          }
        },
        "c6cf744d34594911839586d056bcb69c": {
          "model_module": "@jupyter-widgets/controls",
          "model_name": "ProgressStyleModel",
          "state": {
            "_view_name": "StyleView",
            "_model_name": "ProgressStyleModel",
            "description_width": "initial",
            "_view_module": "@jupyter-widgets/base",
            "_model_module_version": "1.5.0",
            "_view_count": null,
            "_view_module_version": "1.2.0",
            "bar_color": null,
            "_model_module": "@jupyter-widgets/controls"
          }
        },
        "17a1b37b6ec6439b93ed5cc3d1d7192f": {
          "model_module": "@jupyter-widgets/base",
          "model_name": "LayoutModel",
          "state": {
            "_view_name": "LayoutView",
            "grid_template_rows": null,
            "right": null,
            "justify_content": null,
            "_view_module": "@jupyter-widgets/base",
            "overflow": null,
            "_model_module_version": "1.2.0",
            "_view_count": null,
            "flex_flow": null,
            "width": null,
            "min_width": null,
            "border": null,
            "align_items": null,
            "bottom": null,
            "_model_module": "@jupyter-widgets/base",
            "top": null,
            "grid_column": null,
            "overflow_y": null,
            "overflow_x": null,
            "grid_auto_flow": null,
            "grid_area": null,
            "grid_template_columns": null,
            "flex": "2",
            "_model_name": "LayoutModel",
            "justify_items": null,
            "grid_row": null,
            "max_height": null,
            "align_content": null,
            "visibility": null,
            "align_self": null,
            "height": null,
            "min_height": null,
            "padding": null,
            "grid_auto_rows": null,
            "grid_gap": null,
            "max_width": null,
            "order": null,
            "_view_module_version": "1.2.0",
            "grid_template_areas": null,
            "object_position": null,
            "object_fit": null,
            "grid_auto_columns": null,
            "margin": null,
            "display": null,
            "left": null
          }
        },
        "382a65de52ed44dd85503f188a56c760": {
          "model_module": "@jupyter-widgets/controls",
          "model_name": "DescriptionStyleModel",
          "state": {
            "_view_name": "StyleView",
            "_model_name": "DescriptionStyleModel",
            "description_width": "",
            "_view_module": "@jupyter-widgets/base",
            "_model_module_version": "1.5.0",
            "_view_count": null,
            "_view_module_version": "1.2.0",
            "_model_module": "@jupyter-widgets/controls"
          }
        },
        "90650ac35a514ede81a13ad0ef58f466": {
          "model_module": "@jupyter-widgets/base",
          "model_name": "LayoutModel",
          "state": {
            "_view_name": "LayoutView",
            "grid_template_rows": null,
            "right": null,
            "justify_content": null,
            "_view_module": "@jupyter-widgets/base",
            "overflow": null,
            "_model_module_version": "1.2.0",
            "_view_count": null,
            "flex_flow": null,
            "width": null,
            "min_width": null,
            "border": null,
            "align_items": null,
            "bottom": null,
            "_model_module": "@jupyter-widgets/base",
            "top": null,
            "grid_column": null,
            "overflow_y": null,
            "overflow_x": null,
            "grid_auto_flow": null,
            "grid_area": null,
            "grid_template_columns": null,
            "flex": null,
            "_model_name": "LayoutModel",
            "justify_items": null,
            "grid_row": null,
            "max_height": null,
            "align_content": null,
            "visibility": null,
            "align_self": null,
            "height": null,
            "min_height": null,
            "padding": null,
            "grid_auto_rows": null,
            "grid_gap": null,
            "max_width": null,
            "order": null,
            "_view_module_version": "1.2.0",
            "grid_template_areas": null,
            "object_position": null,
            "object_fit": null,
            "grid_auto_columns": null,
            "margin": null,
            "display": null,
            "left": null
          }
        },
        "9195738aa80d4a78bd60e1eae17897bd": {
          "model_module": "@jupyter-widgets/controls",
          "model_name": "HBoxModel",
          "state": {
            "_view_name": "HBoxView",
            "_dom_classes": [],
            "_model_name": "HBoxModel",
            "_view_module": "@jupyter-widgets/controls",
            "_model_module_version": "1.5.0",
            "_view_count": null,
            "_view_module_version": "1.5.0",
            "box_style": "",
            "layout": "IPY_MODEL_a2224afde8e24c059b1ccc96a1b08118",
            "_model_module": "@jupyter-widgets/controls",
            "children": [
              "IPY_MODEL_09175b8617b74626a4ae6c955573ec22",
              "IPY_MODEL_a28709cdfdf4473db9865fe71383e20b"
            ]
          }
        },
        "a2224afde8e24c059b1ccc96a1b08118": {
          "model_module": "@jupyter-widgets/base",
          "model_name": "LayoutModel",
          "state": {
            "_view_name": "LayoutView",
            "grid_template_rows": null,
            "right": null,
            "justify_content": null,
            "_view_module": "@jupyter-widgets/base",
            "overflow": null,
            "_model_module_version": "1.2.0",
            "_view_count": null,
            "flex_flow": "row wrap",
            "width": "100%",
            "min_width": null,
            "border": null,
            "align_items": null,
            "bottom": null,
            "_model_module": "@jupyter-widgets/base",
            "top": null,
            "grid_column": null,
            "overflow_y": null,
            "overflow_x": null,
            "grid_auto_flow": null,
            "grid_area": null,
            "grid_template_columns": null,
            "flex": null,
            "_model_name": "LayoutModel",
            "justify_items": null,
            "grid_row": null,
            "max_height": null,
            "align_content": null,
            "visibility": null,
            "align_self": null,
            "height": null,
            "min_height": null,
            "padding": null,
            "grid_auto_rows": null,
            "grid_gap": null,
            "max_width": null,
            "order": null,
            "_view_module_version": "1.2.0",
            "grid_template_areas": null,
            "object_position": null,
            "object_fit": null,
            "grid_auto_columns": null,
            "margin": null,
            "display": "inline-flex",
            "left": null
          }
        },
        "09175b8617b74626a4ae6c955573ec22": {
          "model_module": "@jupyter-widgets/controls",
          "model_name": "FloatProgressModel",
          "state": {
            "_view_name": "ProgressView",
            "style": "IPY_MODEL_5f67f6f6b59d47b9b939d3b1d02cd0a7",
            "_dom_classes": [],
            "description": "Validating: 100%",
            "_model_name": "FloatProgressModel",
            "bar_style": "info",
            "max": 10,
            "_view_module": "@jupyter-widgets/controls",
            "_model_module_version": "1.5.0",
            "value": 10,
            "_view_count": null,
            "_view_module_version": "1.5.0",
            "orientation": "horizontal",
            "min": 0,
            "description_tooltip": null,
            "_model_module": "@jupyter-widgets/controls",
            "layout": "IPY_MODEL_4543b8963c2148b39d6d8b1c1123d69c"
          }
        },
        "a28709cdfdf4473db9865fe71383e20b": {
          "model_module": "@jupyter-widgets/controls",
          "model_name": "HTMLModel",
          "state": {
            "_view_name": "HTMLView",
            "style": "IPY_MODEL_3852d820e0e54a069f862569b87e1d90",
            "_dom_classes": [],
            "description": "",
            "_model_name": "HTMLModel",
            "placeholder": "​",
            "_view_module": "@jupyter-widgets/controls",
            "_model_module_version": "1.5.0",
            "value": " 10/10 [00:00&lt;00:00, 369.92it/s]",
            "_view_count": null,
            "_view_module_version": "1.5.0",
            "description_tooltip": null,
            "_model_module": "@jupyter-widgets/controls",
            "layout": "IPY_MODEL_6d5289b2e01240ec863668087c3594e8"
          }
        },
        "5f67f6f6b59d47b9b939d3b1d02cd0a7": {
          "model_module": "@jupyter-widgets/controls",
          "model_name": "ProgressStyleModel",
          "state": {
            "_view_name": "StyleView",
            "_model_name": "ProgressStyleModel",
            "description_width": "initial",
            "_view_module": "@jupyter-widgets/base",
            "_model_module_version": "1.5.0",
            "_view_count": null,
            "_view_module_version": "1.2.0",
            "bar_color": null,
            "_model_module": "@jupyter-widgets/controls"
          }
        },
        "4543b8963c2148b39d6d8b1c1123d69c": {
          "model_module": "@jupyter-widgets/base",
          "model_name": "LayoutModel",
          "state": {
            "_view_name": "LayoutView",
            "grid_template_rows": null,
            "right": null,
            "justify_content": null,
            "_view_module": "@jupyter-widgets/base",
            "overflow": null,
            "_model_module_version": "1.2.0",
            "_view_count": null,
            "flex_flow": null,
            "width": null,
            "min_width": null,
            "border": null,
            "align_items": null,
            "bottom": null,
            "_model_module": "@jupyter-widgets/base",
            "top": null,
            "grid_column": null,
            "overflow_y": null,
            "overflow_x": null,
            "grid_auto_flow": null,
            "grid_area": null,
            "grid_template_columns": null,
            "flex": "2",
            "_model_name": "LayoutModel",
            "justify_items": null,
            "grid_row": null,
            "max_height": null,
            "align_content": null,
            "visibility": null,
            "align_self": null,
            "height": null,
            "min_height": null,
            "padding": null,
            "grid_auto_rows": null,
            "grid_gap": null,
            "max_width": null,
            "order": null,
            "_view_module_version": "1.2.0",
            "grid_template_areas": null,
            "object_position": null,
            "object_fit": null,
            "grid_auto_columns": null,
            "margin": null,
            "display": null,
            "left": null
          }
        },
        "3852d820e0e54a069f862569b87e1d90": {
          "model_module": "@jupyter-widgets/controls",
          "model_name": "DescriptionStyleModel",
          "state": {
            "_view_name": "StyleView",
            "_model_name": "DescriptionStyleModel",
            "description_width": "",
            "_view_module": "@jupyter-widgets/base",
            "_model_module_version": "1.5.0",
            "_view_count": null,
            "_view_module_version": "1.2.0",
            "_model_module": "@jupyter-widgets/controls"
          }
        },
        "6d5289b2e01240ec863668087c3594e8": {
          "model_module": "@jupyter-widgets/base",
          "model_name": "LayoutModel",
          "state": {
            "_view_name": "LayoutView",
            "grid_template_rows": null,
            "right": null,
            "justify_content": null,
            "_view_module": "@jupyter-widgets/base",
            "overflow": null,
            "_model_module_version": "1.2.0",
            "_view_count": null,
            "flex_flow": null,
            "width": null,
            "min_width": null,
            "border": null,
            "align_items": null,
            "bottom": null,
            "_model_module": "@jupyter-widgets/base",
            "top": null,
            "grid_column": null,
            "overflow_y": null,
            "overflow_x": null,
            "grid_auto_flow": null,
            "grid_area": null,
            "grid_template_columns": null,
            "flex": null,
            "_model_name": "LayoutModel",
            "justify_items": null,
            "grid_row": null,
            "max_height": null,
            "align_content": null,
            "visibility": null,
            "align_self": null,
            "height": null,
            "min_height": null,
            "padding": null,
            "grid_auto_rows": null,
            "grid_gap": null,
            "max_width": null,
            "order": null,
            "_view_module_version": "1.2.0",
            "grid_template_areas": null,
            "object_position": null,
            "object_fit": null,
            "grid_auto_columns": null,
            "margin": null,
            "display": null,
            "left": null
          }
        },
        "1bcf96d2899b44d2b71ad4466227a67c": {
          "model_module": "@jupyter-widgets/controls",
          "model_name": "HBoxModel",
          "state": {
            "_view_name": "HBoxView",
            "_dom_classes": [],
            "_model_name": "HBoxModel",
            "_view_module": "@jupyter-widgets/controls",
            "_model_module_version": "1.5.0",
            "_view_count": null,
            "_view_module_version": "1.5.0",
            "box_style": "",
            "layout": "IPY_MODEL_f8f42b86660b4a5fb159bd0327e72b26",
            "_model_module": "@jupyter-widgets/controls",
            "children": [
              "IPY_MODEL_df7b07cb8d62470db6811b9261a0448b",
              "IPY_MODEL_8155a4ec002b487b8e87bbb2c077a270"
            ]
          }
        },
        "f8f42b86660b4a5fb159bd0327e72b26": {
          "model_module": "@jupyter-widgets/base",
          "model_name": "LayoutModel",
          "state": {
            "_view_name": "LayoutView",
            "grid_template_rows": null,
            "right": null,
            "justify_content": null,
            "_view_module": "@jupyter-widgets/base",
            "overflow": null,
            "_model_module_version": "1.2.0",
            "_view_count": null,
            "flex_flow": "row wrap",
            "width": "100%",
            "min_width": null,
            "border": null,
            "align_items": null,
            "bottom": null,
            "_model_module": "@jupyter-widgets/base",
            "top": null,
            "grid_column": null,
            "overflow_y": null,
            "overflow_x": null,
            "grid_auto_flow": null,
            "grid_area": null,
            "grid_template_columns": null,
            "flex": null,
            "_model_name": "LayoutModel",
            "justify_items": null,
            "grid_row": null,
            "max_height": null,
            "align_content": null,
            "visibility": null,
            "align_self": null,
            "height": null,
            "min_height": null,
            "padding": null,
            "grid_auto_rows": null,
            "grid_gap": null,
            "max_width": null,
            "order": null,
            "_view_module_version": "1.2.0",
            "grid_template_areas": null,
            "object_position": null,
            "object_fit": null,
            "grid_auto_columns": null,
            "margin": null,
            "display": "inline-flex",
            "left": null
          }
        },
        "df7b07cb8d62470db6811b9261a0448b": {
          "model_module": "@jupyter-widgets/controls",
          "model_name": "FloatProgressModel",
          "state": {
            "_view_name": "ProgressView",
            "style": "IPY_MODEL_763142b4d1714564a3deebb169cd2013",
            "_dom_classes": [],
            "description": "Validating: 100%",
            "_model_name": "FloatProgressModel",
            "bar_style": "info",
            "max": 10,
            "_view_module": "@jupyter-widgets/controls",
            "_model_module_version": "1.5.0",
            "value": 10,
            "_view_count": null,
            "_view_module_version": "1.5.0",
            "orientation": "horizontal",
            "min": 0,
            "description_tooltip": null,
            "_model_module": "@jupyter-widgets/controls",
            "layout": "IPY_MODEL_7bf23dec540948f593c252841bca383a"
          }
        },
        "8155a4ec002b487b8e87bbb2c077a270": {
          "model_module": "@jupyter-widgets/controls",
          "model_name": "HTMLModel",
          "state": {
            "_view_name": "HTMLView",
            "style": "IPY_MODEL_48caf6742ffe431bbf329a6c3cac9958",
            "_dom_classes": [],
            "description": "",
            "_model_name": "HTMLModel",
            "placeholder": "​",
            "_view_module": "@jupyter-widgets/controls",
            "_model_module_version": "1.5.0",
            "value": " 10/10 [00:00&lt;00:00, 390.30it/s]",
            "_view_count": null,
            "_view_module_version": "1.5.0",
            "description_tooltip": null,
            "_model_module": "@jupyter-widgets/controls",
            "layout": "IPY_MODEL_a67b78dba3c844d797e084be7946fa96"
          }
        },
        "763142b4d1714564a3deebb169cd2013": {
          "model_module": "@jupyter-widgets/controls",
          "model_name": "ProgressStyleModel",
          "state": {
            "_view_name": "StyleView",
            "_model_name": "ProgressStyleModel",
            "description_width": "initial",
            "_view_module": "@jupyter-widgets/base",
            "_model_module_version": "1.5.0",
            "_view_count": null,
            "_view_module_version": "1.2.0",
            "bar_color": null,
            "_model_module": "@jupyter-widgets/controls"
          }
        },
        "7bf23dec540948f593c252841bca383a": {
          "model_module": "@jupyter-widgets/base",
          "model_name": "LayoutModel",
          "state": {
            "_view_name": "LayoutView",
            "grid_template_rows": null,
            "right": null,
            "justify_content": null,
            "_view_module": "@jupyter-widgets/base",
            "overflow": null,
            "_model_module_version": "1.2.0",
            "_view_count": null,
            "flex_flow": null,
            "width": null,
            "min_width": null,
            "border": null,
            "align_items": null,
            "bottom": null,
            "_model_module": "@jupyter-widgets/base",
            "top": null,
            "grid_column": null,
            "overflow_y": null,
            "overflow_x": null,
            "grid_auto_flow": null,
            "grid_area": null,
            "grid_template_columns": null,
            "flex": "2",
            "_model_name": "LayoutModel",
            "justify_items": null,
            "grid_row": null,
            "max_height": null,
            "align_content": null,
            "visibility": null,
            "align_self": null,
            "height": null,
            "min_height": null,
            "padding": null,
            "grid_auto_rows": null,
            "grid_gap": null,
            "max_width": null,
            "order": null,
            "_view_module_version": "1.2.0",
            "grid_template_areas": null,
            "object_position": null,
            "object_fit": null,
            "grid_auto_columns": null,
            "margin": null,
            "display": null,
            "left": null
          }
        },
        "48caf6742ffe431bbf329a6c3cac9958": {
          "model_module": "@jupyter-widgets/controls",
          "model_name": "DescriptionStyleModel",
          "state": {
            "_view_name": "StyleView",
            "_model_name": "DescriptionStyleModel",
            "description_width": "",
            "_view_module": "@jupyter-widgets/base",
            "_model_module_version": "1.5.0",
            "_view_count": null,
            "_view_module_version": "1.2.0",
            "_model_module": "@jupyter-widgets/controls"
          }
        },
        "a67b78dba3c844d797e084be7946fa96": {
          "model_module": "@jupyter-widgets/base",
          "model_name": "LayoutModel",
          "state": {
            "_view_name": "LayoutView",
            "grid_template_rows": null,
            "right": null,
            "justify_content": null,
            "_view_module": "@jupyter-widgets/base",
            "overflow": null,
            "_model_module_version": "1.2.0",
            "_view_count": null,
            "flex_flow": null,
            "width": null,
            "min_width": null,
            "border": null,
            "align_items": null,
            "bottom": null,
            "_model_module": "@jupyter-widgets/base",
            "top": null,
            "grid_column": null,
            "overflow_y": null,
            "overflow_x": null,
            "grid_auto_flow": null,
            "grid_area": null,
            "grid_template_columns": null,
            "flex": null,
            "_model_name": "LayoutModel",
            "justify_items": null,
            "grid_row": null,
            "max_height": null,
            "align_content": null,
            "visibility": null,
            "align_self": null,
            "height": null,
            "min_height": null,
            "padding": null,
            "grid_auto_rows": null,
            "grid_gap": null,
            "max_width": null,
            "order": null,
            "_view_module_version": "1.2.0",
            "grid_template_areas": null,
            "object_position": null,
            "object_fit": null,
            "grid_auto_columns": null,
            "margin": null,
            "display": null,
            "left": null
          }
        }
      }
    }
  },
  "cells": [
    {
      "cell_type": "markdown",
      "metadata": {
        "id": "ZYD_SM6ep3Zr"
      },
      "source": [
        "# **part a)**\n"
      ]
    },
    {
      "cell_type": "markdown",
      "metadata": {
        "id": "d1V0-HoXmF59"
      },
      "source": [
        "### 1) Neural Network using Numpy from scratch"
      ]
    },
    {
      "cell_type": "code",
      "metadata": {
        "colab": {
          "base_uri": "https://localhost:8080/"
        },
        "id": "X-vppoF-Ouin",
        "outputId": "cc44fb50-05a2-444f-9db2-d360a8a5a8a5"
      },
      "source": [
        "!python --version"
      ],
      "execution_count": 142,
      "outputs": [
        {
          "output_type": "stream",
          "text": [
            "Python 3.7.10\n"
          ],
          "name": "stdout"
        }
      ]
    },
    {
      "cell_type": "code",
      "metadata": {
        "colab": {
          "base_uri": "https://localhost:8080/"
        },
        "id": "ZPi9todT4JEH",
        "outputId": "65d1b30c-bf6f-4625-9074-61cda3e04d25"
      },
      "source": [
        "pip install torchvision"
      ],
      "execution_count": 143,
      "outputs": [
        {
          "output_type": "stream",
          "text": [
            "Requirement already satisfied: torchvision in /usr/local/lib/python3.7/dist-packages (0.9.0+cu101)\n",
            "Requirement already satisfied: torch==1.8.0 in /usr/local/lib/python3.7/dist-packages (from torchvision) (1.8.0+cu101)\n",
            "Requirement already satisfied: numpy in /usr/local/lib/python3.7/dist-packages (from torchvision) (1.19.5)\n",
            "Requirement already satisfied: pillow>=4.1.1 in /usr/local/lib/python3.7/dist-packages (from torchvision) (7.0.0)\n",
            "Requirement already satisfied: typing-extensions in /usr/local/lib/python3.7/dist-packages (from torch==1.8.0->torchvision) (3.7.4.3)\n"
          ],
          "name": "stdout"
        }
      ]
    },
    {
      "cell_type": "code",
      "metadata": {
        "colab": {
          "base_uri": "https://localhost:8080/"
        },
        "id": "0Ya6zOf2OxAk",
        "outputId": "961ffef9-23ba-4bec-ca93-2ae58379c084"
      },
      "source": [
        "!pip list | grep tensor"
      ],
      "execution_count": 144,
      "outputs": [
        {
          "output_type": "stream",
          "text": [
            "tensorboard                   2.4.1             \n",
            "tensorboard-plugin-wit        1.8.0             \n",
            "tensorflow                    2.4.1             \n",
            "tensorflow-datasets           4.0.1             \n",
            "tensorflow-estimator          2.4.0             \n",
            "tensorflow-gcs-config         2.4.0             \n",
            "tensorflow-hub                0.11.0            \n",
            "tensorflow-metadata           0.28.0            \n",
            "tensorflow-probability        0.12.1            \n"
          ],
          "name": "stdout"
        }
      ]
    },
    {
      "cell_type": "code",
      "metadata": {
        "colab": {
          "base_uri": "https://localhost:8080/"
        },
        "id": "t_2lIYJuOqCe",
        "outputId": "3f7ac539-7237-4f5f-9ed1-42a88bc1065a"
      },
      "source": [
        "!pip list | grep torch"
      ],
      "execution_count": 145,
      "outputs": [
        {
          "output_type": "stream",
          "text": [
            "pytorch-lightning             1.3.0.dev0        \n",
            "torch                         1.8.0+cu101       \n",
            "torchmetrics                  0.2.0             \n",
            "torchsummary                  1.5.1             \n",
            "torchtext                     0.9.0             \n",
            "torchvision                   0.9.0+cu101       \n"
          ],
          "name": "stdout"
        }
      ]
    },
    {
      "cell_type": "code",
      "metadata": {
        "colab": {
          "base_uri": "https://localhost:8080/"
        },
        "id": "gOHiA7ZRbK4d",
        "outputId": "f421d26b-c857-488d-c5f1-3edca17f3ec1"
      },
      "source": [
        "pip install git+git://github.com/Theano/Theano.git"
      ],
      "execution_count": 146,
      "outputs": [
        {
          "output_type": "stream",
          "text": [
            "Collecting git+git://github.com/Theano/Theano.git\n",
            "  Cloning git://github.com/Theano/Theano.git to /tmp/pip-req-build-fnprwxug\n",
            "  Running command git clone -q git://github.com/Theano/Theano.git /tmp/pip-req-build-fnprwxug\n",
            "Requirement already satisfied (use --upgrade to upgrade): Theano==1.0.5+2.g8e9611715 from git+git://github.com/Theano/Theano.git in /usr/local/lib/python3.7/dist-packages\n",
            "Requirement already satisfied: numpy>=1.9.1 in /usr/local/lib/python3.7/dist-packages (from Theano==1.0.5+2.g8e9611715) (1.19.5)\n",
            "Requirement already satisfied: scipy>=0.14 in /usr/local/lib/python3.7/dist-packages (from Theano==1.0.5+2.g8e9611715) (1.4.1)\n",
            "Requirement already satisfied: six>=1.9.0 in /usr/local/lib/python3.7/dist-packages (from Theano==1.0.5+2.g8e9611715) (1.15.0)\n",
            "Building wheels for collected packages: Theano\n",
            "  Building wheel for Theano (setup.py) ... \u001b[?25l\u001b[?25hdone\n",
            "  Created wheel for Theano: filename=Theano-1.0.5+2.g8e9611715-cp37-none-any.whl size=2668286 sha256=d6f1630d36b2f32435abbc721b4fc15bcf113259aee122ec5a103e18d773870d\n",
            "  Stored in directory: /tmp/pip-ephem-wheel-cache-yosbqjsw/wheels/ae/32/7c/62beb8371953eb20c271b3bac7d0e56e1a2020d46994346b52\n",
            "Successfully built Theano\n"
          ],
          "name": "stdout"
        }
      ]
    },
    {
      "cell_type": "code",
      "metadata": {
        "colab": {
          "base_uri": "https://localhost:8080/"
        },
        "id": "pxFW4FMgdBJ7",
        "outputId": "bcefa403-e58c-45b6-b2c4-3f3a593e6db9"
      },
      "source": [
        "import sys, os\n",
        "import pandas as pd\n",
        "import numpy as np \n",
        "import matplotlib.pyplot as plt\n",
        "\n",
        "from google.colab import drive \n",
        "drive.mount('/content/drive')"
      ],
      "execution_count": 147,
      "outputs": [
        {
          "output_type": "stream",
          "text": [
            "Drive already mounted at /content/drive; to attempt to forcibly remount, call drive.mount(\"/content/drive\", force_remount=True).\n"
          ],
          "name": "stdout"
        }
      ]
    },
    {
      "cell_type": "code",
      "metadata": {
        "id": "GUT7v9jNdM2L"
      },
      "source": [
        "DIR = '/content/drive/My Drive/Deep Learning/Assignment 3'\n",
        "if os.getcwd() != DIR:\n",
        "  os.chdir(DIR)"
      ],
      "execution_count": 148,
      "outputs": []
    },
    {
      "cell_type": "code",
      "metadata": {
        "colab": {
          "base_uri": "https://localhost:8080/"
        },
        "id": "1Wf-hkvbdUZm",
        "outputId": "e714c68d-e06f-4db8-9467-2982d3a2e6a3"
      },
      "source": [
        "import h5py\n",
        "h5py.File('train_catvnoncat.h5', \"r\")"
      ],
      "execution_count": 149,
      "outputs": [
        {
          "output_type": "execute_result",
          "data": {
            "text/plain": [
              "<HDF5 file \"train_catvnoncat.h5\" (mode r)>"
            ]
          },
          "metadata": {
            "tags": []
          },
          "execution_count": 149
        }
      ]
    },
    {
      "cell_type": "code",
      "metadata": {
        "id": "wJPysE4rdW8E"
      },
      "source": [
        "def dataset_input():\n",
        "    train_dtst = h5py.File('train_catvnoncat.h5', \"r\")\n",
        "    train_x = np.array(train_dtst[\"train_set_x\"][:]) \n",
        "    train_y = np.array(train_dtst[\"train_set_y\"][:])\n",
        "    test_dataset = h5py.File('test_catvnoncat.h5', \"r\")\n",
        "    test_x = np.array(test_dataset[\"test_set_x\"][:]) \n",
        "    test_y = np.array(test_dataset[\"test_set_y\"][:])\n",
        "    classes = np.array(test_dataset[\"list_classes\"][:]) \n",
        "    \n",
        "    train_y = train_y.reshape((1, train_y.shape[0]))\n",
        "    test_y = test_y.reshape((1, test_y.shape[0]))\n",
        "    return train_x, train_y, test_x, test_y, classes"
      ],
      "execution_count": 150,
      "outputs": []
    },
    {
      "cell_type": "code",
      "metadata": {
        "colab": {
          "base_uri": "https://localhost:8080/"
        },
        "id": "rpuYKsQnddxh",
        "outputId": "43ff08dd-812e-470c-d537-a51dc012d442"
      },
      "source": [
        "train_x, train_y, test_x, test_y, classes = dataset_input()\n",
        "print (\"Train X shape: \" + str(train_x.shape))\n",
        "print (\"Train Y shape: \" + str(train_y.shape))\n",
        "print (\"Test X shape: \" + str(test_x.shape))\n",
        "print (\"Test Y shape: \" + str(test_y.shape))"
      ],
      "execution_count": 151,
      "outputs": [
        {
          "output_type": "stream",
          "text": [
            "Train X shape: (209, 64, 64, 3)\n",
            "Train Y shape: (1, 209)\n",
            "Test X shape: (50, 64, 64, 3)\n",
            "Test Y shape: (1, 50)\n"
          ],
          "name": "stdout"
        }
      ]
    },
    {
      "cell_type": "code",
      "metadata": {
        "colab": {
          "base_uri": "https://localhost:8080/",
          "height": 285
        },
        "id": "RI4YcSkddgVD",
        "outputId": "a5f637cd-ce4f-4143-b7a9-de0d2654e5d6"
      },
      "source": [
        "plt.imshow(train_x[7])"
      ],
      "execution_count": 152,
      "outputs": [
        {
          "output_type": "execute_result",
          "data": {
            "text/plain": [
              "<matplotlib.image.AxesImage at 0x7fc435749f90>"
            ]
          },
          "metadata": {
            "tags": []
          },
          "execution_count": 152
        },
        {
          "output_type": "display_data",
          "data": {
            "image/png": "[encoded data removed]",
            "text/plain": [
              "<Figure size 432x288 with 1 Axes>"
            ]
          },
          "metadata": {
            "tags": [],
            "needs_background": "light"
          }
        }
      ]
    },
    {
      "cell_type": "code",
      "metadata": {
        "colab": {
          "base_uri": "https://localhost:8080/"
        },
        "id": "2CFkrCySdjbu",
        "outputId": "fbbf9631-98bf-4aac-e709-911d0deb3c62"
      },
      "source": [
        "# Clubbing the 64*64*3 values of image of height 64 pixel width 64 pixel and channels of red,green,blue to 12288 values of single dimension\n",
        "train_x = train_x.reshape(train_x.shape[0],-1).T\n",
        "test_x = test_x.reshape(test_x.shape[0], -1).T\n",
        "print (\"Train X shape: \" + str(train_x.shape))\n",
        "print (\"Train Y shape: \" + str(train_y.shape))\n",
        "print (\"Test X shape: \" + str(test_x.shape))\n",
        "print (\"Test Y shape: \" + str(test_y.shape))"
      ],
      "execution_count": 153,
      "outputs": [
        {
          "output_type": "stream",
          "text": [
            "Train X shape: (12288, 209)\n",
            "Train Y shape: (1, 209)\n",
            "Test X shape: (12288, 50)\n",
            "Test Y shape: (1, 50)\n"
          ],
          "name": "stdout"
        }
      ]
    },
    {
      "cell_type": "code",
      "metadata": {
        "colab": {
          "base_uri": "https://localhost:8080/"
        },
        "id": "qwaI1ocCdlsT",
        "outputId": "a2de4007-f435-4d2e-c67c-0d276adf0606"
      },
      "source": [
        "train_x=train_x.transpose()\n",
        "train_y=train_y.transpose()\n",
        "test_x=test_x.transpose()\n",
        "test_y=test_y.transpose()\n",
        "print (\"Train X shape: \" + str(train_x.shape))\n",
        "print (\"Train Y shape: \" + str(train_y.shape))\n",
        "print (\"Test X shape: \" + str(test_x.shape))\n",
        "print (\"Test Y shape: \" + str(test_y.shape))"
      ],
      "execution_count": 154,
      "outputs": [
        {
          "output_type": "stream",
          "text": [
            "Train X shape: (209, 12288)\n",
            "Train Y shape: (209, 1)\n",
            "Test X shape: (50, 12288)\n",
            "Test Y shape: (50, 1)\n"
          ],
          "name": "stdout"
        }
      ]
    },
    {
      "cell_type": "code",
      "metadata": {
        "id": "ZLdrbRROdn0q"
      },
      "source": [
        "test_y_df=pd.DataFrame(test_y,columns=['cat'])\n",
        "train_y_df=pd.DataFrame(train_y,columns=['cat'])"
      ],
      "execution_count": 155,
      "outputs": []
    },
    {
      "cell_type": "code",
      "metadata": {
        "id": "KYm5rTcOdp1r"
      },
      "source": [
        "def coding(row):\n",
        "    if row['cat'] == 1:\n",
        "        val = 0\n",
        "    else:\n",
        "        val = 1\n",
        "    return val"
      ],
      "execution_count": 156,
      "outputs": []
    },
    {
      "cell_type": "code",
      "metadata": {
        "id": "p4MxKEHzdtHy"
      },
      "source": [
        "test_y_df['not_cat'] = test_y_df.apply(coding, axis=1)\n",
        "train_y_df['not_cat'] = train_y_df.apply(coding,axis=1)"
      ],
      "execution_count": 157,
      "outputs": []
    },
    {
      "cell_type": "code",
      "metadata": {
        "id": "qHrGa-VPdv5d"
      },
      "source": [
        "test_y=test_y_df.to_numpy()\n",
        "train_y=train_y_df.to_numpy()"
      ],
      "execution_count": 158,
      "outputs": []
    },
    {
      "cell_type": "code",
      "metadata": {
        "id": "Ocy27AcodyEf"
      },
      "source": [
        "x=[]\n",
        "for i in range(len(train_x)):\n",
        "  x.append(train_x[0].reshape((1,12288)))"
      ],
      "execution_count": 159,
      "outputs": []
    },
    {
      "cell_type": "code",
      "metadata": {
        "id": "kYb9o-opn08X"
      },
      "source": [
        ""
      ],
      "execution_count": null,
      "outputs": []
    },
    {
      "cell_type": "code",
      "metadata": {
        "id": "NbyWwEPZd1MN"
      },
      "source": [
        "#General standardization of image input by dividing each input pixel value by maximum pixel value 255\n",
        "train_x = train_x/255.\n",
        "test_x = test_x/255."
      ],
      "execution_count": 160,
      "outputs": []
    },
    {
      "cell_type": "code",
      "metadata": {
        "id": "J5OT8EvGd4FC"
      },
      "source": [
        "#Sigmoid function for hidden layers\n",
        "def sigmoid(z):\n",
        "    return 1/(1+np.exp(-z))\n",
        "\n"
      ],
      "execution_count": 161,
      "outputs": []
    },
    {
      "cell_type": "code",
      "metadata": {
        "id": "1uIkpsLveYKZ"
      },
      "source": [
        "#Softmax function for output layer\n",
        "from numpy import exp\n",
        "def softmax(z):\n",
        "\te = exp(z)\n",
        "\treturn e / e.sum()\n",
        " \n",
        "def generate_wt(x, y): \n",
        "    l =[] \n",
        "    for i in range(x * y): \n",
        "        l.append(np.random.randn()) \n",
        "    return(np.array(l).reshape(x, y))\n",
        "\n",
        "def f_forward(x, w1, w2): \n",
        "    # hidden \n",
        "    z1 = x.dot(w1)# input from layer 1  \n",
        "    a1 = sigmoid(z1)# out put of layer 2  \n",
        "      \n",
        "    # Output layer \n",
        "    z2 = a1.dot(w2)# input of out layer \n",
        "    a2 = sigmoid(z2)# output of out layer \n",
        "    return(a2)\n",
        "def loss(out, Y): \n",
        "    s =(np.square(out-Y)) \n",
        "    s = np.sum(s)/len(y) \n",
        "    return(s) \n",
        "def back_prop(x, y, w1, w2, alpha): \n",
        "      \n",
        "    # hiden layer \n",
        "    z1 = x.dot(w1)# input from layer 1  \n",
        "    a1 = sigmoid(z1)# output of layer 2  \n",
        "      \n",
        "    # Output layer \n",
        "    z2 = a1.dot(w2)# input of out layer \n",
        "    a2 = sigmoid(z2)# output of out layer \n",
        "    # error in output layer \n",
        "    d2 =(a2-y) \n",
        "    d1 = np.multiply((w2.dot((d2.transpose()))).transpose(),  \n",
        "                                   (np.multiply(a1, 1-a1))) \n",
        "    # Gradient for w1 and w2 \n",
        "    w1_adj = x.transpose().dot(d1) \n",
        "    w2_adj = a1.transpose().dot(d2) \n",
        "      \n",
        "    # Updating parameters \n",
        "    w1 = w1-(alpha*(w1_adj)) \n",
        "    w2 = w2-(alpha*(w2_adj)) \n",
        "      \n",
        "    return(w1, w2) \n",
        "def train(x, Y, w1, w2, alpha = 0.01, epoch = 10): \n",
        "    acc =[] \n",
        "    losss =[] \n",
        "    for j in range(epoch): \n",
        "        l =[] \n",
        "        for i in range(len(x)): \n",
        "            out = f_forward(x[i], w1, w2) \n",
        "            l.append((loss(out, Y[i]))) \n",
        "            w1, w2 = back_prop(x[i], y[i], w1, w2, alpha) \n",
        "        print(\"epochs:\", j + 1, \"======== acc:\", (1-(sum(l)/len(x)))*100)    \n",
        "        acc.append((1-(sum(l)/len(x)))*100) \n",
        "        losss.append(sum(l)/len(x)) \n",
        "    return(acc, losss, w1, w2)      \n",
        "def predict(x, w1, w2): \n",
        "    Out = f_forward(x, w1, w2) \n",
        "    maxm = 0\n",
        "    k = 0\n",
        "    for i in range(len(Out[0])): \n",
        "        if(maxm<Out[0][i]): \n",
        "            maxm = Out[0][i] \n",
        "            k = i \n",
        "    if(k == 0): \n",
        "        print(\"Image is of Cat.\") \n",
        "    else: \n",
        "        print(\"Image is of not Cat.\")"
      ],
      "execution_count": 162,
      "outputs": []
    },
    {
      "cell_type": "code",
      "metadata": {
        "colab": {
          "base_uri": "https://localhost:8080/"
        },
        "id": "2y9dxZdgec5n",
        "outputId": "0596b414-fa12-42ec-afb0-c1521e4d5109"
      },
      "source": [
        "w1 = generate_wt(12288, 200) \n",
        "w2 = generate_wt(200, 2) \n",
        "print(w1, \"\\n\\n\", w2)"
      ],
      "execution_count": 163,
      "outputs": [
        {
          "output_type": "stream",
          "text": [
            "[[-1.68121822 -0.88897136  0.24211796 ... -0.55254067 -0.38687085\n",
            "  -0.51029274]\n",
            " [ 0.18392549 -0.38548976 -1.60183605 ... -0.15277442 -1.29868672\n",
            "   1.27607535]\n",
            " [ 1.32501405  0.20533256  0.04513402 ... -0.17220079  0.73035179\n",
            "   1.10457847]\n",
            " ...\n",
            " [ 0.07731403 -1.13786133 -0.46207523 ... -0.12636755 -1.06105801\n",
            "  -0.87087426]\n",
            " [-1.03023655 -1.69737242  2.05541305 ... -2.08345507 -1.66320681\n",
            "   0.4589673 ]\n",
            " [-1.1208126   0.96853708 -0.9727616  ...  0.80876954  1.97399517\n",
            "   0.92763105]] \n",
            "\n",
            " [[ 7.67385777e-01 -4.87839913e-02]\n",
            " [ 1.00775093e+00 -1.05296460e+00]\n",
            " [-2.05063942e-01 -1.23087744e+00]\n",
            " [-1.38259313e+00 -4.58931513e-01]\n",
            " [-2.12384557e+00  1.15892459e+00]\n",
            " [-1.03018065e+00  8.00998164e-01]\n",
            " [-5.39845889e-01  3.05343281e-01]\n",
            " [-7.51438472e-01 -4.15994257e-01]\n",
            " [-1.44604111e+00 -3.38603490e-01]\n",
            " [-9.79974105e-01 -1.36478191e+00]\n",
            " [ 7.45196497e-01  1.08996053e+00]\n",
            " [ 3.44470831e-01  1.95380182e-01]\n",
            " [ 7.73798490e-01 -5.09266179e-01]\n",
            " [-7.12172966e-01 -9.23635215e-01]\n",
            " [ 1.44999308e+00 -2.35703992e-01]\n",
            " [-1.36630203e+00  9.61318365e-01]\n",
            " [-9.80840614e-01 -7.69271569e-01]\n",
            " [-7.16175693e-01 -5.46348768e-01]\n",
            " [-8.88156801e-01 -3.42299571e-01]\n",
            " [-1.20888226e+00 -1.01017752e-01]\n",
            " [-7.72394462e-01 -2.21481368e+00]\n",
            " [-6.67897574e-01 -7.33161707e-01]\n",
            " [ 3.66306425e-01  5.16086465e-01]\n",
            " [-3.47652019e-01 -8.39688844e-01]\n",
            " [ 9.00247250e-01  1.67539599e-01]\n",
            " [-1.69922530e+00  5.26276928e-01]\n",
            " [ 8.69619417e-01 -6.58097473e-01]\n",
            " [-1.01832304e+00 -6.50855225e-01]\n",
            " [-2.33721254e-01 -1.75330974e-01]\n",
            " [ 9.73091675e-01  3.21436928e-01]\n",
            " [ 2.44951401e-02 -1.22666037e+00]\n",
            " [-1.91549137e-01  6.61103585e-01]\n",
            " [ 2.56136168e+00 -1.38956323e+00]\n",
            " [ 9.06127846e-01 -1.54465050e+00]\n",
            " [-8.14294708e-01 -6.37769384e-01]\n",
            " [-1.86757325e+00 -5.98504983e-01]\n",
            " [ 5.31470707e-01 -2.06487321e+00]\n",
            " [-6.96980549e-03  3.20902734e-01]\n",
            " [-8.67277845e-01 -5.30212143e-01]\n",
            " [ 1.25147445e-01 -1.15150178e+00]\n",
            " [ 4.65892613e-01 -6.39179130e-01]\n",
            " [ 1.36129379e-01 -9.93199957e-01]\n",
            " [-7.68323611e-01 -1.38050504e+00]\n",
            " [ 3.29399111e-01  1.98943728e-01]\n",
            " [ 9.01272849e-02 -8.65118422e-02]\n",
            " [ 9.36922313e-01 -1.41476289e+00]\n",
            " [-1.42326688e+00  1.55125895e+00]\n",
            " [-2.04079358e-01 -3.64823133e-01]\n",
            " [ 5.85810077e-01  4.72528064e-01]\n",
            " [ 7.64912077e-01 -2.72879097e-01]\n",
            " [ 9.51128110e-01  6.92750021e-03]\n",
            " [-1.45856901e+00 -4.67070949e-03]\n",
            " [ 3.87931733e-01  1.55288724e+00]\n",
            " [-7.96788321e-01  2.40648304e-01]\n",
            " [ 2.02866482e-01 -8.79093766e-01]\n",
            " [ 9.75153582e-02 -6.23962980e-02]\n",
            " [-3.66526513e-01  1.18978686e+00]\n",
            " [-1.04223556e+00 -9.69248102e-01]\n",
            " [-1.17339520e+00  2.34961921e-01]\n",
            " [ 5.35655077e-01  8.28371644e-01]\n",
            " [ 7.28552081e-01 -7.47200345e-01]\n",
            " [ 9.27067893e-01 -7.88366243e-01]\n",
            " [ 4.41795195e-01 -7.89040581e-01]\n",
            " [-6.09369613e-01  3.37460841e-01]\n",
            " [-1.19295564e+00 -7.85041464e-01]\n",
            " [-1.69859356e-01 -7.22788571e-01]\n",
            " [ 7.99056185e-01 -2.32445321e+00]\n",
            " [-1.14596173e+00 -9.22645173e-01]\n",
            " [ 1.71350939e+00 -1.01246253e+00]\n",
            " [ 1.20627315e+00 -1.71282559e+00]\n",
            " [ 2.95669091e-01 -7.69822192e-01]\n",
            " [-3.78254939e-01 -4.51380909e-01]\n",
            " [ 9.59713524e-02  1.06476567e+00]\n",
            " [ 3.90081420e-02 -1.45129178e-01]\n",
            " [ 4.97917516e-01  9.09629450e-01]\n",
            " [ 1.30136090e+00  2.89815045e-01]\n",
            " [ 9.12652429e-01 -2.14126918e-01]\n",
            " [ 4.32553638e-01  5.43445670e-01]\n",
            " [ 1.80389020e+00  5.49915631e-01]\n",
            " [ 7.86357961e-01  1.31186587e+00]\n",
            " [-1.43853495e+00 -4.44242530e-01]\n",
            " [-1.54971564e+00  1.47921057e+00]\n",
            " [ 1.86373203e-02  9.63892288e-02]\n",
            " [ 7.88180422e-01 -4.52511910e-02]\n",
            " [ 1.87736615e-01 -1.15337494e+00]\n",
            " [ 1.21845726e+00 -1.71276445e-01]\n",
            " [ 1.15320677e+00 -1.25599067e+00]\n",
            " [-5.28541559e-01 -1.23177122e+00]\n",
            " [-1.58063688e-02  8.34391064e-01]\n",
            " [-6.57317432e-02  1.00703981e+00]\n",
            " [ 2.36853330e-01 -6.40680028e-01]\n",
            " [ 2.24221551e-01  1.28917922e+00]\n",
            " [ 1.45331114e-03  1.41404172e+00]\n",
            " [-4.47154710e-01  1.11665151e-01]\n",
            " [ 1.36750912e+00 -4.00483536e-01]\n",
            " [ 5.58353611e-01  8.18830895e-01]\n",
            " [ 9.86511881e-01 -1.35176837e+00]\n",
            " [ 1.15324119e+00  1.99960734e+00]\n",
            " [-4.10296027e-01  1.17987536e+00]\n",
            " [ 2.52559136e+00 -1.32418532e+00]\n",
            " [ 7.02942444e-02  6.67192120e-01]\n",
            " [-1.24387781e+00  7.87316486e-01]\n",
            " [ 1.79900277e+00 -6.35160336e-01]\n",
            " [-2.74193453e-01 -1.80911395e+00]\n",
            " [ 1.12110094e+00  1.03893840e+00]\n",
            " [-2.35623376e+00  9.52568996e-01]\n",
            " [ 3.28673240e-01 -3.12659759e-01]\n",
            " [ 4.75665638e-01  1.32970521e+00]\n",
            " [-3.30758455e-01 -1.00877340e+00]\n",
            " [-7.60769414e-01  5.07932018e-01]\n",
            " [-7.43728215e-01  2.34531951e-01]\n",
            " [-1.23773960e-01 -1.29223509e+00]\n",
            " [-1.10241383e-01 -1.93717331e+00]\n",
            " [-6.09545633e-01  6.85170771e-01]\n",
            " [ 3.63229019e-01  3.42586538e-01]\n",
            " [-4.72503462e-01  5.29464817e-01]\n",
            " [-8.33028495e-01 -1.74188464e-01]\n",
            " [-1.81692855e-01 -6.85743091e-01]\n",
            " [-2.28558801e+00 -1.60136643e+00]\n",
            " [ 1.51015424e-02  2.00419933e+00]\n",
            " [ 2.60418365e-01 -4.21028739e-01]\n",
            " [ 1.51406862e-01  1.11133695e+00]\n",
            " [-2.12167190e+00 -3.01368753e-01]\n",
            " [ 7.96692766e-02 -1.68621412e+00]\n",
            " [ 1.75401927e-01  7.07110558e-01]\n",
            " [ 4.65484877e-01  9.72013114e-01]\n",
            " [-3.30342045e-02  1.07536051e-01]\n",
            " [ 3.29102110e-01  2.89726063e-01]\n",
            " [ 1.80780078e+00  5.64165315e-01]\n",
            " [ 8.70297531e-01  3.21247884e-01]\n",
            " [-1.73879802e+00 -4.30403078e-01]\n",
            " [-6.14964826e-01  1.29207267e+00]\n",
            " [ 8.78022267e-01 -5.13222430e-01]\n",
            " [ 7.70644409e-02 -8.56883099e-01]\n",
            " [ 5.68093327e-01  8.58187467e-01]\n",
            " [-2.69617835e-01  1.11947691e-01]\n",
            " [-1.89966036e+00  6.64059388e-01]\n",
            " [-1.02719324e+00  9.35795561e-01]\n",
            " [-8.13062828e-01 -2.83700362e-01]\n",
            " [ 6.85304443e-01  1.50724033e+00]\n",
            " [-1.24990634e+00 -1.47200598e+00]\n",
            " [-1.24252992e+00  3.98655205e-01]\n",
            " [-1.07353657e+00  2.19012115e+00]\n",
            " [ 2.78398691e-01 -5.19622250e-01]\n",
            " [-2.27404793e-01 -1.04820645e+00]\n",
            " [ 1.95146486e+00  1.27690433e+00]\n",
            " [ 1.81473862e-01 -1.32242319e+00]\n",
            " [-2.92751566e+00  1.17517539e-01]\n",
            " [-4.58334848e-01  8.28759719e-01]\n",
            " [ 1.76224819e+00 -5.16783277e-01]\n",
            " [ 7.83979418e-01 -9.11977419e-01]\n",
            " [-3.77582912e-01 -8.95486490e-01]\n",
            " [-1.68019545e+00 -9.20461591e-02]\n",
            " [-1.63561602e-01 -9.52673103e-01]\n",
            " [-1.56578708e-01  2.37152866e+00]\n",
            " [-8.87399741e-01 -6.55595970e-01]\n",
            " [ 1.40816837e+00  1.22188106e+00]\n",
            " [ 5.93477802e-01  1.02526458e-01]\n",
            " [ 1.59161615e+00 -1.57712934e+00]\n",
            " [ 4.21076560e-01 -3.49693884e-01]\n",
            " [-2.19359982e-01 -2.16019960e-01]\n",
            " [-1.21894437e+00 -1.88437784e-03]\n",
            " [ 3.70807819e-01  3.86796790e-01]\n",
            " [-1.81963279e-01  5.20765727e-01]\n",
            " [-4.28646454e-01 -1.89099958e+00]\n",
            " [ 5.03253986e-03 -5.42802212e-01]\n",
            " [ 1.21250027e+00 -2.08056915e+00]\n",
            " [ 4.60441381e-01  1.87099662e+00]\n",
            " [ 1.99731981e+00 -6.43939137e-01]\n",
            " [ 2.19194585e-02  2.63128555e-01]\n",
            " [ 5.25678829e-01  4.79597351e-01]\n",
            " [-1.54002419e+00 -5.76632231e-01]\n",
            " [ 2.98332000e-01 -3.07380522e-01]\n",
            " [ 1.88254985e+00 -1.43554419e-01]\n",
            " [ 2.08366513e-01 -1.24754441e+00]\n",
            " [ 2.38143096e-01  3.31545092e-01]\n",
            " [ 1.50252552e+00 -4.75564939e-02]\n",
            " [ 4.44286760e-01 -2.16114770e+00]\n",
            " [ 3.42946201e-01  1.27717166e+00]\n",
            " [-1.19965959e+00 -8.65702103e-01]\n",
            " [ 3.08052630e-01  5.34791415e-01]\n",
            " [-1.40152541e-01 -3.64929025e-01]\n",
            " [-9.09617880e-01 -1.16110675e-01]\n",
            " [-8.15214399e-01 -7.60855652e-02]\n",
            " [-9.10495635e-01  1.21225687e+00]\n",
            " [-7.37382520e-01 -7.24000324e-01]\n",
            " [ 5.16032914e-01  2.03919327e+00]\n",
            " [ 1.37434809e+00 -7.08726174e-01]\n",
            " [ 8.65421416e-02 -4.66158100e-01]\n",
            " [ 6.97467437e-01  1.61612185e-01]\n",
            " [-8.56644215e-01 -1.06165234e+00]\n",
            " [ 6.50993398e-01  1.22607573e+00]\n",
            " [-5.58188596e-01 -7.04139752e-01]\n",
            " [-1.84935161e+00 -1.36349791e+00]\n",
            " [ 1.30879087e+00 -7.53219563e-01]\n",
            " [-2.70117519e-01 -7.50211338e-01]\n",
            " [ 2.50942973e-01  6.28378035e-01]\n",
            " [ 1.67156625e+00 -1.50609365e-01]\n",
            " [-1.78609672e+00  2.43958063e-01]\n",
            " [-1.95054555e+00 -4.89772028e-01]]\n"
          ],
          "name": "stdout"
        }
      ]
    },
    {
      "cell_type": "code",
      "metadata": {
        "colab": {
          "base_uri": "https://localhost:8080/"
        },
        "id": "q3ugUMrxefvr",
        "outputId": "a9b93266-7f50-466e-a6cb-25d391a1f851"
      },
      "source": [
        "acc, losss, w1, w2 = train(x, y, w1, w2, 0.1, 20)"
      ],
      "execution_count": 164,
      "outputs": [
        {
          "output_type": "stream",
          "text": [
            "/usr/local/lib/python3.7/dist-packages/ipykernel_launcher.py:3: RuntimeWarning: overflow encountered in exp\n",
            "  This is separate from the ipykernel package so we can avoid doing imports until\n"
          ],
          "name": "stderr"
        },
        {
          "output_type": "stream",
          "text": [
            "epochs: 1 ======== acc: 92.90498479817033\n",
            "epochs: 2 ======== acc: 92.94156958023775\n",
            "epochs: 3 ======== acc: 92.94156789639737\n",
            "epochs: 4 ======== acc: 92.94156770346535\n",
            "epochs: 5 ======== acc: 92.9415676979766\n",
            "epochs: 6 ======== acc: 92.94156769782813\n",
            "epochs: 7 ======== acc: 92.94156769782413\n",
            "epochs: 8 ======== acc: 92.94156769782401\n",
            "epochs: 9 ======== acc: 92.94156769782401\n",
            "epochs: 10 ======== acc: 92.94156769782401\n",
            "epochs: 11 ======== acc: 92.94156769782401\n",
            "epochs: 12 ======== acc: 92.94156769782401\n",
            "epochs: 13 ======== acc: 92.94156769782401\n",
            "epochs: 14 ======== acc: 92.94156769782401\n",
            "epochs: 15 ======== acc: 92.94156769782401\n",
            "epochs: 16 ======== acc: 92.94156769782401\n",
            "epochs: 17 ======== acc: 92.94156769782401\n",
            "epochs: 18 ======== acc: 92.94156769782401\n",
            "epochs: 19 ======== acc: 92.94156769782401\n",
            "epochs: 20 ======== acc: 92.94156769782401\n"
          ],
          "name": "stdout"
        }
      ]
    },
    {
      "cell_type": "code",
      "metadata": {
        "id": "QEMftipVei3I"
      },
      "source": [
        "testt_x=[]\n",
        "for i in range(len(test_x)):\n",
        "  testt_x.append(test_x[0].reshape((1,12288)))"
      ],
      "execution_count": 165,
      "outputs": []
    },
    {
      "cell_type": "code",
      "metadata": {
        "colab": {
          "base_uri": "https://localhost:8080/"
        },
        "id": "I5Q0v6F1ejwB",
        "outputId": "6e8976f2-f1e3-4d12-9641-8f96e5c251eb"
      },
      "source": [
        "predict(testt_x[0], w1, w2)"
      ],
      "execution_count": 166,
      "outputs": [
        {
          "output_type": "stream",
          "text": [
            "Image is of Cat.\n"
          ],
          "name": "stdout"
        }
      ]
    },
    {
      "cell_type": "code",
      "metadata": {
        "id": "IQeC10rYfpCJ"
      },
      "source": [
        "  def plot_3d(x, y, y_pred=None):\n",
        "    fig = plt.figure()\n",
        "    ax = fig.add_subplot(111, projection='3d')\n",
        "    ax.scatter(x[:, 0], x[:, 1], x[:, 2],y, label='underlying function')\n",
        "    if y_pred is not None:\n",
        "      ax.scatter(x[:, 0], x[:, 1],x[:, 2], y_pred, label='our function')\n",
        "    plt.legend()\n"
      ],
      "execution_count": 167,
      "outputs": []
    },
    {
      "cell_type": "code",
      "metadata": {
        "colab": {
          "base_uri": "https://localhost:8080/",
          "height": 370
        },
        "id": "ZwnLsYKpfvkr",
        "outputId": "9b1c8b48-c9ed-4fb9-b0fd-1238fe18c051"
      },
      "source": [
        "plot_3d(train_x, y_true)"
      ],
      "execution_count": 168,
      "outputs": [
        {
          "output_type": "stream",
          "text": [
            "/usr/local/lib/python3.7/dist-packages/mpl_toolkits/mplot3d/art3d.py:794: FutureWarning: elementwise comparison failed; returning scalar instead, but in the future will perform elementwise comparison\n",
            "  if zdir == 'x':\n",
            "/usr/local/lib/python3.7/dist-packages/mpl_toolkits/mplot3d/art3d.py:796: FutureWarning: elementwise comparison failed; returning scalar instead, but in the future will perform elementwise comparison\n",
            "  elif zdir == 'y':\n",
            "/usr/local/lib/python3.7/dist-packages/mpl_toolkits/mplot3d/art3d.py:798: FutureWarning: elementwise comparison failed; returning scalar instead, but in the future will perform elementwise comparison\n",
            "  elif zdir[0] == '-':\n"
          ],
          "name": "stderr"
        },
        {
          "output_type": "display_data",
          "data": {
            "image/png": "[encoded data removed]",
            "text/plain": [
              "<Figure size 432x288 with 1 Axes>"
            ]
          },
          "metadata": {
            "tags": [],
            "needs_background": "light"
          }
        }
      ]
    },
    {
      "cell_type": "markdown",
      "metadata": {
        "id": "VxbOMv0vrOJm"
      },
      "source": [
        "# **part b**\n"
      ]
    },
    {
      "cell_type": "markdown",
      "metadata": {
        "id": "KMwc88fxhNjV"
      },
      "source": [
        "### 1) Pytorch tensor datastructure : 3 layer NN with relu activation **function**"
      ]
    },
    {
      "cell_type": "code",
      "metadata": {
        "colab": {
          "base_uri": "https://localhost:8080/"
        },
        "id": "LkNIUZT0ha1o",
        "outputId": "d41077bb-b057-4711-f1f5-3ee1b2c81847"
      },
      "source": [
        "import numpy as np\n",
        "from typing import Callable\n",
        "from matplotlib.pyplot import *\n",
        "from mpl_toolkits import mplot3d\n",
        "\n",
        "#this is the input data choosen with random uniform numbers and weights and bias initialized \n",
        "n = 500\n",
        "d = 3\n",
        "x = np.random.uniform(-1, 1, (n, d))\n",
        "wts_tr_1 = np.array([[3, 1, 2],]).T\n",
        "bs_tr_1 = np.array([1])\n",
        "y_true_1 = (x ** 3) @ wts_tr_1 + x @ wts_tr_1 + bs_tr_1\n",
        "\n",
        "weights_true_2 = np.array([[2, 1, 4],]).T\n",
        "bias_true_2 = np.array([2])\n",
        "y_true_2 = (x ** 3) @ weights_true_2 + x @ weights_true_2 + bias_true_2\n",
        "\n",
        "weights_true = np.array(wts_tr_1+weights_true_2)\n",
        "bias_true = np.array(bs_tr_1+bias_true_2)\n",
        "y_true = np.hstack((y_true_1, y_true_2))\n",
        "\n",
        "print(f'x: {x.shape}, weights: {weights_true.shape}, bias: {bias_true.shape}, y: {y_true.shape}')\n"
      ],
      "execution_count": 81,
      "outputs": [
        {
          "output_type": "stream",
          "text": [
            "x: (500, 3), weights: (3, 1), bias: (1,), y: (500, 2)\n"
          ],
          "name": "stdout"
        }
      ]
    },
    {
      "cell_type": "code",
      "metadata": {
        "colab": {
          "base_uri": "https://localhost:8080/"
        },
        "id": "IBO1aP_k7ziI",
        "outputId": "3aef3011-3960-4f8b-dd56-9798f6062b3d"
      },
      "source": [
        "import torch\n",
        "import torch.nn as nn\n",
        "import torch.nn.functional as F\n",
        "\n",
        "X_tf = torch.tensor((x), dtype=torch.float) # 3 X 2 tensor\n",
        "y_tf = torch.tensor((y_true), dtype=torch.float) # 3 X 1 tensor\n",
        "xPredicted = torch.tensor(([1,1,1]), dtype=torch.float) # 1 X 2 tensor\n",
        "\n",
        "print(X_tf.size())\n",
        "print(y_tf.size())"
      ],
      "execution_count": 83,
      "outputs": [
        {
          "output_type": "stream",
          "text": [
            "torch.Size([500, 3])\n",
            "torch.Size([500, 2])\n"
          ],
          "name": "stdout"
        }
      ]
    },
    {
      "cell_type": "code",
      "metadata": {
        "id": "ASBkdm6yIlC1"
      },
      "source": [
        "class Neural_Network(nn.Module):\n",
        "    def __init__(self, ):\n",
        "        super(Neural_Network, self).__init__()\n",
        "        # parameters\n",
        "        # TODO: parameters can be parameterized instead of declaring them here\n",
        "        self.inputSize = 3\n",
        "        self.outputSize = 2\n",
        "        self.hiddenSize = 5\n",
        "        \n",
        "        # weights\n",
        "        self.W1 = torch.randn(self.inputSize, self.hiddenSize) # 2 X 3 tensor\n",
        "        self.W2 = torch.randn(self.hiddenSize, self.outputSize) # 3 X 1 tensor\n",
        "        \n",
        "    def forward(self, X):\n",
        "        self.z = torch.matmul(X, self.W1) # 3 X 3 \".dot\" does not broadcast in PyTorch\n",
        "        self.z2 = self.relu(self.z) # activation function\n",
        "        self.z3 = torch.matmul(self.z2, self.W2)\n",
        "        o = self.sigmoid(self.z3) # final activation function\n",
        "        return o\n",
        "        \n",
        "    def sigmoid(self, s):\n",
        "        return 1 / (1 + torch.exp(-s))\n",
        "\n",
        "    def relu(self,s):\n",
        "         return np.maximum(0,s)\n",
        "\n",
        "    def sigmoidPrime(self, s):\n",
        "        # derivative of sigmoid\n",
        "        return s * (1 - s)\n",
        "\n",
        "    def reluPrime(self, s):\n",
        "        # derivative of sigmoid\n",
        "   \n",
        "        s[s<=0] = 0\n",
        "        s[s>0] = 1\n",
        "        return s\n",
        "        \n",
        "    def eta(self, x):\n",
        "      ETA = 0.0000000001\n",
        "      return np.maximum(x, ETA)\n",
        "\n",
        "    \n",
        "    def backward(self, X, y, o ,lr =0.5):\n",
        "        self.o_error = y - o # error in output\n",
        "        self.o_delta = self.o_error * self.reluPrime(o) # derivative of sig to error\n",
        "        self.z2_error = torch.matmul(self.o_delta, torch.t(self.W2))\n",
        "        self.z2_delta = self.z2_error * self.reluPrime(self.z2)\n",
        "\n",
        "        self.W1 += lr * torch.matmul(torch.t(X), self.z2_delta)\n",
        "        self.W2 += lr * torch.matmul(torch.t(self.z2), self.o_delta)\n",
        "        \n",
        "    def train(self, X, y ,lr=0.5):\n",
        "        # forward + backward pass for training\n",
        "        o = self.forward(X)\n",
        "        self.backward(X, y, o ,lr =0.5)\n",
        " #   def update(self,lr):\n",
        " #       self.W1 = self.W1 - lr * self.weights_gradient \n",
        " #       self.bias = self.bias - lr * self.bias_gradient\n",
        "        \n",
        "    def saveWeights(self, model):\n",
        "       \n",
        "        torch.save(model, \"NN\")\n",
        "      \n",
        "        \n",
        "    def predict(self):\n",
        "        print (\"Predicted data based on trained weights: \")\n",
        "        print (\"Input (scaled): \\n\" + str(xPredicted))\n",
        "        print (\"Output: \\n\" + str(self.forward(xPredicted)))"
      ],
      "execution_count": 84,
      "outputs": []
    },
    {
      "cell_type": "code",
      "metadata": {
        "id": "nZjDtG8UJQ5P"
      },
      "source": [
        "def relu(self,s):\n",
        "         return np.maximum(0,s)\n",
        "         \n",
        "def reluPrime(self, s):   \n",
        "        s[s<=0] = 0\n",
        "        s[s>0] = 1\n",
        "        return s"
      ],
      "execution_count": 85,
      "outputs": []
    },
    {
      "cell_type": "code",
      "metadata": {
        "colab": {
          "base_uri": "https://localhost:8080/"
        },
        "id": "ps6pgYURJgWR",
        "outputId": "ee521149-3c54-4d4c-eae9-5259065e07c9"
      },
      "source": [
        "NN = Neural_Network()\n",
        "ll=[]\n",
        "for i in range(100):  # trains the NN 100 times\n",
        "    los = str(torch.mean((y_tf - NN(X_tf))**2).detach().item())\n",
        "    print (\"#\" + str(i) + \" Loss: \" +los )  # mean sum squared loss\n",
        "    ll.append(los)\n",
        "    NN.train(X_tf, y_tf ,lr=0.7)\n",
        "NN.saveWeights(NN)\n",
        "NN.predict()"
      ],
      "execution_count": 79,
      "outputs": [
        {
          "output_type": "stream",
          "text": [
            "#0 Loss: 17.529939651489258\n",
            "#1 Loss: 16.712486267089844\n",
            "#2 Loss: 16.07284927368164\n",
            "#3 Loss: 14.560943603515625\n",
            "#4 Loss: 14.55620288848877\n",
            "#5 Loss: 14.50146484375\n",
            "#6 Loss: 14.533760070800781\n",
            "#7 Loss: 14.519283294677734\n",
            "#8 Loss: 14.471502304077148\n",
            "#9 Loss: 14.458681106567383\n",
            "#10 Loss: 14.469277381896973\n",
            "#11 Loss: 14.487473487854004\n",
            "#12 Loss: 14.498945236206055\n",
            "#13 Loss: 15.417802810668945\n",
            "#14 Loss: 14.54658317565918\n",
            "#15 Loss: 15.394246101379395\n",
            "#16 Loss: 14.563236236572266\n",
            "#17 Loss: 15.380398750305176\n",
            "#18 Loss: 14.538093566894531\n",
            "#19 Loss: 15.381854057312012\n",
            "#20 Loss: 14.518194198608398\n",
            "#21 Loss: 14.505047798156738\n",
            "#22 Loss: 15.385257720947266\n",
            "#23 Loss: 14.528989791870117\n",
            "#24 Loss: 15.385257720947266\n",
            "#25 Loss: 14.51577377319336\n",
            "#26 Loss: 14.504178047180176\n",
            "#27 Loss: 15.388786315917969\n",
            "#28 Loss: 14.508281707763672\n",
            "#29 Loss: 14.49392032623291\n",
            "#30 Loss: 15.388786315917969\n",
            "#31 Loss: 14.508281707763672\n",
            "#32 Loss: 14.50183391571045\n",
            "#33 Loss: 15.385294914245605\n",
            "#34 Loss: 14.51108169555664\n",
            "#35 Loss: 14.50321102142334\n",
            "#36 Loss: 15.38068962097168\n",
            "#37 Loss: 14.529821395874023\n",
            "#38 Loss: 15.376806259155273\n",
            "#39 Loss: 14.519415855407715\n",
            "#40 Loss: 14.501423835754395\n",
            "#41 Loss: 15.381312370300293\n",
            "#42 Loss: 14.52680492401123\n",
            "#43 Loss: 15.377519607543945\n",
            "#44 Loss: 14.510785102844238\n",
            "#45 Loss: 14.495458602905273\n",
            "#46 Loss: 15.386990547180176\n",
            "#47 Loss: 14.510785102844238\n",
            "#48 Loss: 14.49642562866211\n",
            "#49 Loss: 15.387767791748047\n",
            "#50 Loss: 14.510785102844238\n",
            "#51 Loss: 14.49642562866211\n",
            "#52 Loss: 15.387767791748047\n",
            "#53 Loss: 14.513168334960938\n",
            "#54 Loss: 14.500595092773438\n",
            "#55 Loss: 15.384578704833984\n",
            "#56 Loss: 14.515970230102539\n",
            "#57 Loss: 14.500595092773438\n",
            "#58 Loss: 15.381089210510254\n",
            "#59 Loss: 14.52430248260498\n",
            "#60 Loss: 14.509063720703125\n",
            "#61 Loss: 15.37924575805664\n",
            "#62 Loss: 14.544587135314941\n",
            "#63 Loss: 15.374955177307129\n",
            "#64 Loss: 14.52430248260498\n",
            "#65 Loss: 14.504931449890137\n",
            "#66 Loss: 15.381711959838867\n",
            "#67 Loss: 14.52430248260498\n",
            "#68 Loss: 14.508097648620605\n",
            "#69 Loss: 15.377106666564941\n",
            "#70 Loss: 14.556419372558594\n",
            "#71 Loss: 15.373224258422852\n",
            "#72 Loss: 14.529186248779297\n",
            "#73 Loss: 14.506309509277344\n",
            "#74 Loss: 15.379572868347168\n",
            "#75 Loss: 14.529186248779297\n",
            "#76 Loss: 14.506309509277344\n",
            "#77 Loss: 15.377106666564941\n",
            "#78 Loss: 14.557847023010254\n",
            "#79 Loss: 15.367176055908203\n",
            "#80 Loss: 14.557887077331543\n",
            "#81 Loss: 15.373224258422852\n",
            "#82 Loss: 14.533367156982422\n",
            "#83 Loss: 14.494614601135254\n",
            "#84 Loss: 15.38514232635498\n",
            "#85 Loss: 14.52430248260498\n",
            "#86 Loss: 14.494614601135254\n",
            "#87 Loss: 15.383711814880371\n",
            "#88 Loss: 14.533367156982422\n",
            "#89 Loss: 14.502802848815918\n",
            "#90 Loss: 15.379572868347168\n",
            "#91 Loss: 14.557847023010254\n",
            "#92 Loss: 15.373224258422852\n",
            "#93 Loss: 14.529186248779297\n",
            "#94 Loss: 14.491372108459473\n",
            "#95 Loss: 15.383065223693848\n",
            "#96 Loss: 14.529186248779297\n",
            "#97 Loss: 14.494614601135254\n",
            "#98 Loss: 15.379572868347168\n",
            "#99 Loss: 14.557887077331543\n",
            "Predicted data based on trained weights: \n",
            "Input (scaled): \n",
            "tensor([1., 1., 1.])\n",
            "Output: \n",
            "tensor([1., 1.])\n"
          ],
          "name": "stdout"
        }
      ]
    },
    {
      "cell_type": "markdown",
      "metadata": {
        "id": "dl00BrXy7j7n"
      },
      "source": [
        "### 2) Pytorch tensor datastructure : 3 layer neural NN - with relu activation function - auto differentiation primitives"
      ]
    },
    {
      "cell_type": "code",
      "metadata": {
        "id": "RCc7wbOSrIJ3"
      },
      "source": [
        "class MyTorchModel(nn.Module):\n",
        "  def __init__(self, input_dim, num_hiddenlayer1, num_hiddenlayer2):\n",
        "    super(MyTorchModel, self).__init__()\n",
        "    self.linear1 = nn.Linear(input_dim , num_hiddenlayer1)\n",
        "    self.relu1 = nn.ReLU()\n",
        "    self.linear2 = nn.Linear(num_hiddenlayer1 , num_hiddenlayer2)\n",
        "    self.relu2 = nn.ReLU()\n",
        "    self.linear3 = nn.Linear(num_hiddenlayer2,2)\n",
        "\n",
        "  def forward(self, x):\n",
        "    l1 = self.linear1(x)\n",
        "    r = self.relu1(l1)\n",
        "    l2 = self.linear2(r)\n",
        "    r = self.relu2(l2)\n",
        "    l3 = self.linear3(r)\n",
        "    return l3\n"
      ],
      "execution_count": 87,
      "outputs": []
    },
    {
      "cell_type": "code",
      "metadata": {
        "colab": {
          "base_uri": "https://localhost:8080/"
        },
        "id": "yZJJshNk4Fey",
        "outputId": "53066e9b-3715-4f45-fec0-8c16ddfddf16"
      },
      "source": [
        "loss = nn.MSELoss()\n",
        "model = MyTorchModel(d, 10, 50)\n",
        "x_tnsr = torch.tensor(x).float()\n",
        "y_tru_tnsr = torch.tensor(y_true).float()\n",
        "y_pred_tnsr = model(x_tnsr)\n",
        "loss_value = loss(y_pred_tnsr, y_tru_tnsr)\n",
        "print(loss_value)"
      ],
      "execution_count": 88,
      "outputs": [
        {
          "output_type": "stream",
          "text": [
            "tensor(18.8469, grad_fn=<MseLossBackward>)\n"
          ],
          "name": "stdout"
        }
      ]
    },
    {
      "cell_type": "code",
      "metadata": {
        "colab": {
          "base_uri": "https://localhost:8080/"
        },
        "id": "k_Wgo03C7ZRW",
        "outputId": "ce9b0591-d562-4a0a-a13b-7855b93f2a61"
      },
      "source": [
        "# Test just one forward and backward step\n",
        "optimizer = torch.optim.SGD(model.parameters(), lr=0.1)\n",
        "\n",
        "optimizer.zero_grad()\n",
        "y_pred_tnsr = model(x_tnsr)\n",
        "loss_value = loss(y_pred_tnsr, y_tru_tnsr)\n",
        "print(loss_value)\n",
        "loss_gradient = loss_value.backward()\n",
        "optimizer.step()\n",
        "\n",
        "y_pred_tnsr = model(x_tnsr)\n",
        "loss_value = loss(y_pred_tnsr, y_tru_tnsr)\n",
        "print(loss_value)"
      ],
      "execution_count": 89,
      "outputs": [
        {
          "output_type": "stream",
          "text": [
            "tensor(18.8469, grad_fn=<MseLossBackward>)\n",
            "tensor(17.8045, grad_fn=<MseLossBackward>)\n"
          ],
          "name": "stdout"
        }
      ]
    },
    {
      "cell_type": "code",
      "metadata": {
        "colab": {
          "base_uri": "https://localhost:8080/"
        },
        "id": "z6o225Ls7aS3",
        "outputId": "3d73367d-577a-4d9b-a9ed-c0a5ae4d0bec"
      },
      "source": [
        "# Now we run the training loop\n",
        "\n",
        "def torch_fit(x: np.ndarray, y: np.ndarray, model: Callable, loss: Callable, lr: float, num_epochs: int):\n",
        "  optimizer = torch.optim.SGD(model.parameters(), lr=lr)\n",
        "  for epoch in range(num_epochs):\n",
        "    optimizer.zero_grad()\n",
        "    y_pred_tnsr = model(x_tnsr)\n",
        "    loss_value = loss(y_pred_tnsr, y_tru_tnsr)\n",
        "    print(loss_value)\n",
        "    loss_value.backward()\n",
        "    optimizer.step()\n",
        "\n",
        "torch_fit(x_tnsr, y_tru_tnsr, model=model, loss=loss, lr=0.1, num_epochs=70)"
      ],
      "execution_count": 92,
      "outputs": [
        {
          "output_type": "stream",
          "text": [
            "tensor(1.0025, grad_fn=<MseLossBackward>)\n",
            "tensor(0.9804, grad_fn=<MseLossBackward>)\n",
            "tensor(0.9578, grad_fn=<MseLossBackward>)\n",
            "tensor(0.9352, grad_fn=<MseLossBackward>)\n",
            "tensor(0.9126, grad_fn=<MseLossBackward>)\n",
            "tensor(0.8897, grad_fn=<MseLossBackward>)\n",
            "tensor(0.8665, grad_fn=<MseLossBackward>)\n",
            "tensor(0.8433, grad_fn=<MseLossBackward>)\n",
            "tensor(0.8201, grad_fn=<MseLossBackward>)\n",
            "tensor(0.7966, grad_fn=<MseLossBackward>)\n",
            "tensor(0.7730, grad_fn=<MseLossBackward>)\n",
            "tensor(0.7497, grad_fn=<MseLossBackward>)\n",
            "tensor(0.7269, grad_fn=<MseLossBackward>)\n",
            "tensor(0.7050, grad_fn=<MseLossBackward>)\n",
            "tensor(0.6854, grad_fn=<MseLossBackward>)\n",
            "tensor(0.6695, grad_fn=<MseLossBackward>)\n",
            "tensor(0.6585, grad_fn=<MseLossBackward>)\n",
            "tensor(0.6581, grad_fn=<MseLossBackward>)\n",
            "tensor(0.6743, grad_fn=<MseLossBackward>)\n",
            "tensor(0.7360, grad_fn=<MseLossBackward>)\n",
            "tensor(0.8492, grad_fn=<MseLossBackward>)\n",
            "tensor(1.1683, grad_fn=<MseLossBackward>)\n",
            "tensor(1.5447, grad_fn=<MseLossBackward>)\n",
            "tensor(2.5595, grad_fn=<MseLossBackward>)\n",
            "tensor(2.4754, grad_fn=<MseLossBackward>)\n",
            "tensor(2.8847, grad_fn=<MseLossBackward>)\n",
            "tensor(1.8323, grad_fn=<MseLossBackward>)\n",
            "tensor(1.3300, grad_fn=<MseLossBackward>)\n",
            "tensor(1.1332, grad_fn=<MseLossBackward>)\n",
            "tensor(1.0053, grad_fn=<MseLossBackward>)\n",
            "tensor(0.9419, grad_fn=<MseLossBackward>)\n",
            "tensor(0.8848, grad_fn=<MseLossBackward>)\n",
            "tensor(0.8484, grad_fn=<MseLossBackward>)\n",
            "tensor(0.8209, grad_fn=<MseLossBackward>)\n",
            "tensor(0.8009, grad_fn=<MseLossBackward>)\n",
            "tensor(0.7891, grad_fn=<MseLossBackward>)\n",
            "tensor(0.7776, grad_fn=<MseLossBackward>)\n",
            "tensor(0.7767, grad_fn=<MseLossBackward>)\n",
            "tensor(0.7713, grad_fn=<MseLossBackward>)\n",
            "tensor(0.7793, grad_fn=<MseLossBackward>)\n",
            "tensor(0.7808, grad_fn=<MseLossBackward>)\n",
            "tensor(0.7967, grad_fn=<MseLossBackward>)\n",
            "tensor(0.8035, grad_fn=<MseLossBackward>)\n",
            "tensor(0.8266, grad_fn=<MseLossBackward>)\n",
            "tensor(0.8387, grad_fn=<MseLossBackward>)\n",
            "tensor(0.8652, grad_fn=<MseLossBackward>)\n",
            "tensor(0.8773, grad_fn=<MseLossBackward>)\n",
            "tensor(0.8997, grad_fn=<MseLossBackward>)\n",
            "tensor(0.9103, grad_fn=<MseLossBackward>)\n",
            "tensor(0.9226, grad_fn=<MseLossBackward>)\n",
            "tensor(0.9271, grad_fn=<MseLossBackward>)\n",
            "tensor(0.9235, grad_fn=<MseLossBackward>)\n",
            "tensor(0.9212, grad_fn=<MseLossBackward>)\n",
            "tensor(0.9024, grad_fn=<MseLossBackward>)\n",
            "tensor(0.8995, grad_fn=<MseLossBackward>)\n",
            "tensor(0.8742, grad_fn=<MseLossBackward>)\n",
            "tensor(0.8732, grad_fn=<MseLossBackward>)\n",
            "tensor(0.8468, grad_fn=<MseLossBackward>)\n",
            "tensor(0.8487, grad_fn=<MseLossBackward>)\n",
            "tensor(0.8206, grad_fn=<MseLossBackward>)\n",
            "tensor(0.8245, grad_fn=<MseLossBackward>)\n",
            "tensor(0.7965, grad_fn=<MseLossBackward>)\n",
            "tensor(0.8030, grad_fn=<MseLossBackward>)\n",
            "tensor(0.7777, grad_fn=<MseLossBackward>)\n",
            "tensor(0.7874, grad_fn=<MseLossBackward>)\n",
            "tensor(0.7620, grad_fn=<MseLossBackward>)\n",
            "tensor(0.7723, grad_fn=<MseLossBackward>)\n",
            "tensor(0.7456, grad_fn=<MseLossBackward>)\n",
            "tensor(0.7575, grad_fn=<MseLossBackward>)\n",
            "tensor(0.7314, grad_fn=<MseLossBackward>)\n"
          ],
          "name": "stdout"
        }
      ]
    },
    {
      "cell_type": "code",
      "metadata": {
        "colab": {
          "base_uri": "https://localhost:8080/",
          "height": 370
        },
        "id": "4c2E3RV27fDH",
        "outputId": "2eb67497-11bc-4495-ba95-8bd9271c1d04"
      },
      "source": [
        "plot_3d(x, y_true, model(x_tnsr).detach())"
      ],
      "execution_count": 93,
      "outputs": [
        {
          "output_type": "stream",
          "text": [
            "/usr/local/lib/python3.7/dist-packages/mpl_toolkits/mplot3d/art3d.py:794: FutureWarning: elementwise comparison failed; returning scalar instead, but in the future will perform elementwise comparison\n",
            "  if zdir == 'x':\n",
            "/usr/local/lib/python3.7/dist-packages/mpl_toolkits/mplot3d/art3d.py:796: FutureWarning: elementwise comparison failed; returning scalar instead, but in the future will perform elementwise comparison\n",
            "  elif zdir == 'y':\n",
            "/usr/local/lib/python3.7/dist-packages/mpl_toolkits/mplot3d/art3d.py:798: FutureWarning: elementwise comparison failed; returning scalar instead, but in the future will perform elementwise comparison\n",
            "  elif zdir[0] == '-':\n"
          ],
          "name": "stderr"
        },
        {
          "output_type": "display_data",
          "data": {
            "image/png": "[encoded data removed]",
            "text/plain": [
              "<Figure size 432x288 with 1 Axes>"
            ]
          },
          "metadata": {
            "tags": [],
            "needs_background": "light"
          }
        }
      ]
    },
    {
      "cell_type": "markdown",
      "metadata": {
        "id": "snuKDLze8O4j"
      },
      "source": [
        "### 3) Pytorch linear modules datastructure : 3 layer NN with relu nonlinearity - high level primitives"
      ]
    },
    {
      "cell_type": "code",
      "metadata": {
        "id": "WlXo_mJy8QYN"
      },
      "source": [
        "#### using high level premitives doing the pytorch implementation\n",
        "#Installing pytorch lighting\n",
        "%%capture\n",
        "! pip install git+https://github.com/PytorchLightning/pytorch-lightning.git@master --upgrade "
      ],
      "execution_count": 94,
      "outputs": []
    },
    {
      "cell_type": "code",
      "metadata": {
        "id": "eMcBwUtrKfFm"
      },
      "source": [
        "import os\n",
        "\n",
        "import torch\n",
        "from torch.nn import functional as F\n",
        "from torch.utils.data import DataLoader\n",
        "from torchvision.datasets import MNIST\n",
        "from torchvision import transforms\n",
        "\n",
        "import pytorch_lightning as pl\n",
        "\n",
        "\n",
        "class CoolSystem(pl.LightningModule):\n",
        "  \n",
        "\n",
        "    def __init__(self,classes=2):\n",
        "        super(CoolSystem,self).__init__()\n",
        "       # self.save_hyperparameters()\n",
        "        self.save_hyperparameters()\n",
        "        # not the best model...\n",
        "        self.layer1 = torch.nn.Linear(3, 14)\n",
        "        self.layer2 = torch.nn.Linear(14, 28)\n",
        "        self.layer3 = torch.nn.Linear(28, 28)\n",
        "        self.layer4 = torch.nn.Linear(28, 2)\n",
        "        \n",
        "           # Log hyperparameters\n",
        "        \n",
        "\n",
        "    def forward(self, x):\n",
        "        # x = x.view(x.size(0),-1)\n",
        "\n",
        "         x = self.layer1(x)\n",
        "         x = torch.relu(x)\n",
        "\n",
        "         x = self.layer2(x)\n",
        "         x = torch.relu(x)\n",
        "\n",
        "         x = self.layer3(x)\n",
        "         x = torch.relu(x)\n",
        "\n",
        "\n",
        "         x = self.layer4(x)\n",
        "\n",
        "         return x\n",
        "\n",
        "#torch.relu(self.l1(x.view(x.size(0), -1)))\n",
        "    def training_step(self, batch, batch_idx):\n",
        "        x, y = batch\n",
        "        y_hat = self(x)\n",
        "        #loss = F.cross_entropy(y_hat, y)\n",
        "        loss= F.mse_loss(y_hat, y)   \n",
        "        tensorboard_logs = {'train_loss': loss}\n",
        "        return {'loss': loss, 'log': tensorboard_logs}\n",
        "\n",
        "    def validation_step(self, batch, batch_idx):\n",
        "        x, y = batch\n",
        "        y_hat = self(x)\n",
        "      #  loss = F.cross_entropy(y_hat, y)\n",
        "        loss= F.mse_loss(y_hat, y)  \n",
        "        return {'val_loss': loss}\n",
        "\n",
        "    def validation_epoch_end(self, outputs):\n",
        "        avg_loss = torch.stack([x['val_loss'] for x in outputs]).mean()\n",
        "        return {'val_loss': avg_loss}\n",
        "\n",
        "    def configure_optimizers(self):\n",
        "        return torch.optim.Adam(self.parameters(), lr=0.001)"
      ],
      "execution_count": 96,
      "outputs": []
    },
    {
      "cell_type": "code",
      "metadata": {
        "colab": {
          "base_uri": "https://localhost:8080/"
        },
        "id": "3BilPkRz1D5U",
        "outputId": "38d805e5-6350-4f3c-c6b8-1e1f11abdab3"
      },
      "source": [
        "from pytorch_lightning import Trainer, seed_everything\n",
        "seed_everything(0)"
      ],
      "execution_count": 97,
      "outputs": [
        {
          "output_type": "stream",
          "text": [
            "Global seed set to 0\n"
          ],
          "name": "stderr"
        },
        {
          "output_type": "execute_result",
          "data": {
            "text/plain": [
              "0"
            ]
          },
          "metadata": {
            "tags": []
          },
          "execution_count": 97
        }
      ]
    },
    {
      "cell_type": "code",
      "metadata": {
        "colab": {
          "base_uri": "https://localhost:8080/"
        },
        "id": "0ze8K1941G4Y",
        "outputId": "151baa15-b5b5-4bac-b28f-c53f069cd5de"
      },
      "source": [
        "import tensorflow as tf\n",
        "\n",
        "\n",
        "x_tnsr\n",
        "\n",
        "dataset  = tf.concat([x_tnsr, y_tru_tnsr], 1)\n",
        "dataset[:20]"
      ],
      "execution_count": 98,
      "outputs": [
        {
          "output_type": "execute_result",
          "data": {
            "text/plain": [
              "<tf.Tensor: shape=(20, 5), dtype=float32, numpy=\n",
              "array([[ 6.12019479e-01, -3.59207578e-02,  4.45986420e-01,\n",
              "         4.55720949e+00,  5.78533697e+00],\n",
              "       [ 7.32828438e-01,  3.30798268e-01, -6.00112677e-01,\n",
              "         3.11368227e+00,  1.35482872e+00],\n",
              "       [-7.29089797e-01, -7.60559499e-01, -1.79203913e-01,\n",
              "        -3.92038393e+00, -2.17364812e+00],\n",
              "       [ 5.97884715e-01, -9.32769775e-01, -8.31571221e-01,\n",
              "        -1.12273347e+00, -3.74756479e+00],\n",
              "       [-8.16037536e-01, -2.90573418e-01,  6.21738613e-01,\n",
              "        -1.66930592e+00,  2.41429973e+00],\n",
              "       [-1.21873267e-01,  5.20168841e-01, -6.21654510e-01,\n",
              "        -4.33927804e-01, -1.03403556e+00],\n",
              "       [ 8.55597436e-01,  5.45287915e-02, -9.98703182e-01,\n",
              "         1.51086009e+00, -2.96071053e+00],\n",
              "       [ 8.21553707e-01,  6.52165473e-01,  8.86246800e-01,\n",
              "         9.22239876e+00,  1.20110064e+01],\n",
              "       [ 4.56880987e-01, -4.24585193e-01,  8.16052377e-01,\n",
              "         4.87461615e+00,  8.04135609e+00],\n",
              "       [-4.39611882e-01, -6.72106862e-01,  9.22762752e-02,\n",
              "        -1.36330414e+00,  3.47390503e-01],\n",
              "       [-5.48678994e-01, -5.30987263e-01,  8.57238531e-01,\n",
              "         1.15210235e+00,  5.84033442e+00],\n",
              "       [-5.73836207e-01, -5.37542284e-01, -7.11260676e-01,\n",
              "        -4.12340975e+00, -4.50277948e+00],\n",
              "       [-5.32452285e-01,  2.28917122e-01,  2.97206670e-01,\n",
              "        -1.62384287e-01,  2.16794014e+00],\n",
              "       [-6.59791172e-01, -6.17620587e-01, -8.23572278e-01,\n",
              "        -5.45861340e+00, -6.27595472e+00],\n",
              "       [-3.42476517e-01,  1.56094700e-01,  3.59742522e-01,\n",
              "         8.24558139e-01,  3.01980066e+00],\n",
              "       [-8.17066431e-01,  2.79046297e-01, -1.03890620e-01,\n",
              "        -2.99686313e+00, -8.44349086e-01],\n",
              "       [ 9.36792232e-03, -5.98491132e-02, -3.74208093e-01,\n",
              "         1.14824586e-01,  2.52237678e-01],\n",
              "       [-7.28454888e-01,  6.61111236e-01,  4.93293405e-01,\n",
              "        -1.68297425e-01,  3.17337084e+00],\n",
              "       [ 7.58744180e-01,  3.74503255e-01, -2.69201621e-02,\n",
              "         4.95979214e+00,  4.71036482e+00],\n",
              "       [-4.16633546e-01, -3.07388932e-01,  1.14700809e-01,\n",
              "        -5.70876598e-01,  1.15049732e+00]], dtype=float32)>"
            ]
          },
          "metadata": {
            "tags": []
          },
          "execution_count": 98
        }
      ]
    },
    {
      "cell_type": "code",
      "metadata": {
        "id": "-IeW2jEW3GFA"
      },
      "source": [
        "\n",
        "\n",
        "from sklearn.model_selection import train_test_split\n",
        "y = np.hstack((y_true_1, y_true_2))\n",
        "y.shape\n",
        "x_train, x_val, y_train, y_val = train_test_split(x, y, test_size=0.1)\n",
        "\n",
        "# From numpy to torch tensors\n",
        "x_train = torch.from_numpy(x_train).type(torch.FloatTensor)\n",
        "y_train = torch.from_numpy(y_train).type(torch.FloatTensor)\n",
        "\n",
        "# From numpy to torch tensors\n",
        "x_val = torch.from_numpy(x_val).type(torch.FloatTensor)\n",
        "y_val = torch.from_numpy(y_val).type(torch.FloatTensor)\n",
        "\n",
        "# Implements Dataset and DataLoader\n",
        "train_dtst = torch.utils.data.TensorDataset(x_train, y_train)\n",
        "train_dataldr = torch.utils.data.DataLoader(train_dtst, batch_size=5)\n",
        "\n",
        "\n",
        "# Implements Dataset and DataLoader\n",
        "val_dtst = torch.utils.data.TensorDataset(x_val, y_val)\n",
        "val_dataldr = torch.utils.data.DataLoader(val_dtst, batch_size=5)"
      ],
      "execution_count": 100,
      "outputs": []
    },
    {
      "cell_type": "code",
      "metadata": {
        "colab": {
          "base_uri": "https://localhost:8080/",
          "height": 492,
          "referenced_widgets": [
            "dcca9407483c4b6897a82271fe7ad3d5",
            "572256928f4443a6b5c03e699ca77c0e",
            "89904490fe5f454fb7e1f1d34b57ad6c",
            "d87a2a758906484da69fb6ae6041cb3a",
            "78d025ea6fad4669b496240e1841d382",
            "c1e32719e7dd477cbb8446ad98f0188e",
            "94808fbdef27428b8753958bcdc396ca",
            "4900c3f2e26947bdb1ead90a27772c1c",
            "990ac6c8d573487bad2e713204c2a214",
            "c6986a17e59e4f51a88bf3b315bc9a7a",
            "e17029483e5c425da8711f06800da173",
            "a3b72a4814c54e2095120056c8a6abdb",
            "99d09087bced497fb59c20591c01eae5",
            "788f573819104ae5a2868477179dbfb4",
            "97453c6573f5478597354b6533180b4d",
            "ecb0e5bb00f24a1e8d7beb3a5cc34d95",
            "42f2e7072bdd4199a86b114e632c2e81",
            "00bec4bfa7af45508e4ffeaf6ab72f6e",
            "784254fb9cbc4f569756848a9cfc464e",
            "a13f985370834dc7a8c07603794087fc",
            "b6b82bc43bad488aa0eaecd788cf57ec",
            "b173e818c1164c09a2e8653b78f7f9b1",
            "3c733ec2262c4eb385c810a93fbce409",
            "c1ee9c2104a8412199282444f39a30b3",
            "5002e6f8b55c4ae4b6a57e3de28b8950",
            "cea6b211c1a94e5fac98a60df6a4ac0b",
            "d970658a5e6b44cdae25e95a418afebf",
            "43581ef9431b41efa950d474d81ae01c",
            "0dbb87a13ac548d780a88c6242839988",
            "ffec15b111124710be30cb7277a4090b",
            "9100d94ee47d4e9387a2137147010867",
            "2a04f004cffa412a992b51d74e618f09",
            "3705afdc20554aa7868b1ee0e60c0a04",
            "429c2bc626f540b2908639574374caa4",
            "3b0902845e4d4fb69a39a0c34272cc3c",
            "d7f1e2eb24ed4ed88d43741f7fcf1e34",
            "fc935f2f0ff744a88e64628e8ca5d60f",
            "92128673c8284b54a7f9b9567dfdd4f0",
            "242680f9b30b40528ae7015876eb4332",
            "a3c4d59346434674945d3f87fd78e0f1",
            "6c30a3db702e4f608a2755e50dd8483c",
            "b8cce92b40314d39b2fd826aaf980886",
            "22647e2d42f346caba6ecdf69a288d53",
            "f80860c106aa454f844e611f0d0000aa",
            "43bfcb8e7cf74aa386170656da2e9141",
            "d3cebf325b9b4859a05622089261da22",
            "1a48b6b9389045199ab6719d29ab9ce2",
            "aded03ad6afd4b85a633b2351dd96a4c",
            "d73bd73776ea46619c29e78fddd7c084",
            "c914d463421c4fa2b6528ff422ef303f",
            "48afa97c91d644b19422a86d678f9906",
            "dc2f41ee53614d1ab06c9a4170e80f1e",
            "6876cd37d1984a2f8fc1ef2a367ecb01",
            "8ea826a7938543bca2241f417e098cac",
            "4410b119079048a4a5dd5e7763d2abe6",
            "8793fb0c3a56460fa2572b54f32fe0b8",
            "6b9addef1385400189d719ea8ab64f1e",
            "f12a65f28dc64f2c92cbb699ea8c4b98",
            "632e8ec8d54d4fe08b91c9073b9f8761",
            "a8f291397104491d9841f53ff1dd4c0c",
            "44178b64015149dca6d4945b2026b50f",
            "6761f745df58462e87a24c25b0cdcd58",
            "f45584345592485886ce6251eefd2fb6",
            "75a52b27c3e843598e2c407bd6d85147",
            "0c677f26e98f4af688c039e3310a6c37",
            "04d24339b39146029e47abef3183679c",
            "e7928b3a56964e3f85da041a1ff33f1a",
            "42f07f20370a43c8bcb212438096520e",
            "3ff3252655ed4fe1aaf8550385962b6f",
            "ff10aa26fb634dfaacbe23afe671e52e",
            "bb9d46069d2947e79e8217454f7d6c0a",
            "6111e6549e494b549175744e73801f1d",
            "97d3e89e516948998f4dcde4cab41a1e",
            "e7c59a4745954c378f1017536ae55379",
            "0f21bff607554a5682267fdb2b0a4a22",
            "9150e1048ef44aa2b1e6c44111899922",
            "725e64ce7a70442c872e879121c8a836",
            "1700025463d24ed29e20e59850a02533",
            "6d1ffea542b441b1af9613280bc802b4",
            "23c46b50b30444d5b06eaef34285d32f",
            "64580af7a809490aad4738a3ab4d216e",
            "b78041722f5f4b85a0360433afbe0591",
            "b6b00c40cf05462faaba854df87a4368",
            "ddffb78b62274bbb9e0906cbdf3a3004",
            "3c3ea08b6f664b63a985139616d617d0",
            "4b71a65492d643fab4a892cadc5b8a89",
            "eb77546b01ab4c35b62e0231d1c78d0e",
            "ea2a6bcf97794c4c9f4de8350ec42e6c",
            "15a6267c57ec4612afce35dc15f93c70",
            "3353df9726dd4ed8a49aefa2557c23df",
            "145204b7c61f4852af5ab8d301d77694",
            "49edb8aef5e5487f8715f0f9bd2902e2",
            "837a952f4dea4b5bb2ea580a8d87a841",
            "3659c0abd6294482bcbededdad5a4310",
            "1739e24642734e69b34098053753e2e8",
            "68dedf9a9d7a426d8604885f3f69fffc",
            "d6c9e475894443b0a371f1bd0e305748",
            "5c75e6494e214da0af5def0b8aa15bb6",
            "1e7ea0dbfa4742eba7235e212bd75d9e",
            "c1c084bd7dd043efb154e235fdc01615",
            "4ead05913a25433cb459137f46eed890",
            "9305c271f270428584a3ac6fa26bc8e9",
            "bc396378d2334e32b4c70e018a281304",
            "787131d73231405883bc73060d5616a3",
            "b7d05eb790f446d396348698c27808de",
            "000c246edc59464aa5d9c8a61465ee60",
            "cb59002624a5400fa2926ea6801c6884",
            "3ac59ea22db044078c622658c4bb1781",
            "c6cf744d34594911839586d056bcb69c",
            "17a1b37b6ec6439b93ed5cc3d1d7192f",
            "382a65de52ed44dd85503f188a56c760",
            "90650ac35a514ede81a13ad0ef58f466",
            "9195738aa80d4a78bd60e1eae17897bd",
            "a2224afde8e24c059b1ccc96a1b08118",
            "09175b8617b74626a4ae6c955573ec22",
            "a28709cdfdf4473db9865fe71383e20b",
            "5f67f6f6b59d47b9b939d3b1d02cd0a7",
            "4543b8963c2148b39d6d8b1c1123d69c",
            "3852d820e0e54a069f862569b87e1d90",
            "6d5289b2e01240ec863668087c3594e8",
            "1bcf96d2899b44d2b71ad4466227a67c",
            "f8f42b86660b4a5fb159bd0327e72b26",
            "df7b07cb8d62470db6811b9261a0448b",
            "8155a4ec002b487b8e87bbb2c077a270",
            "763142b4d1714564a3deebb169cd2013",
            "7bf23dec540948f593c252841bca383a",
            "48caf6742ffe431bbf329a6c3cac9958",
            "a67b78dba3c844d797e084be7946fa96"
          ]
        },
        "id": "hGF799Yl3VUb",
        "outputId": "c4c89d05-1a72-4687-9372-5bf9558faa06"
      },
      "source": [
        "\n",
        "# model\n",
        "from pytorch_lightning import Trainer\n",
        "\n",
        "model = CoolSystem()\n",
        "\n",
        "# most basic trainer, uses good defaults]\n",
        "#num_tpu_cores=8,\n",
        "trainer = Trainer( progress_bar_refresh_rate=20, max_epochs=14)\n",
        "trainer.fit(model,train_dataldr,val_dataldr)\n",
        "# Testing the model\n",
        "trainer.test()\n"
      ],
      "execution_count": 102,
      "outputs": [
        {
          "output_type": "stream",
          "text": [
            "GPU available: False, used: False\n",
            "TPU available: None, using: 0 TPU cores\n",
            "\n",
            "  | Name   | Type   | Params\n",
            "----------------------------------\n",
            "0 | layer1 | Linear | 56    \n",
            "1 | layer2 | Linear | 420   \n",
            "2 | layer3 | Linear | 812   \n",
            "3 | layer4 | Linear | 58    \n",
            "----------------------------------\n",
            "1.3 K     Trainable params\n",
            "0         Non-trainable params\n",
            "1.3 K     Total params\n",
            "0.005     Total estimated model params size (MB)\n"
          ],
          "name": "stderr"
        },
        {
          "output_type": "display_data",
          "data": {
            "application/vnd.jupyter.widget-view+json": {
              "model_id": "dcca9407483c4b6897a82271fe7ad3d5",
              "version_minor": 0,
              "version_major": 2
            },
            "text/plain": [
              "HBox(children=(FloatProgress(value=1.0, bar_style='info', description='Validation sanity check', layout=Layout…"
            ]
          },
          "metadata": {
            "tags": []
          }
        },
        {
          "output_type": "stream",
          "text": [
            "\r"
          ],
          "name": "stdout"
        },
        {
          "output_type": "stream",
          "text": [
            "/usr/local/lib/python3.7/dist-packages/pytorch_lightning/utilities/distributed.py:52: UserWarning: The validation_epoch_end should not return anything as of 9.1. To log, use self.log(...) or self.write(...) directly in the LightningModule\n",
            "  warnings.warn(*args, **kwargs)\n"
          ],
          "name": "stderr"
        },
        {
          "output_type": "display_data",
          "data": {
            "application/vnd.jupyter.widget-view+json": {
              "model_id": "990ac6c8d573487bad2e713204c2a214",
              "version_minor": 0,
              "version_major": 2
            },
            "text/plain": [
              "HBox(children=(FloatProgress(value=1.0, bar_style='info', description='Training', layout=Layout(flex='2'), max…"
            ]
          },
          "metadata": {
            "tags": []
          }
        },
        {
          "output_type": "stream",
          "text": [
            "/usr/local/lib/python3.7/dist-packages/pytorch_lightning/utilities/distributed.py:52: UserWarning: The {log:dict keyword} was deprecated in 0.9.1 and will be removed in 1.0.0\n",
            "Please use self.log(...) inside the lightningModule instead.\n",
            "# log on a step or aggregate epoch metric to the logger and/or progress bar (inside LightningModule)\n",
            "self.log('train_loss', loss, on_step=True, on_epoch=True, prog_bar=True)\n",
            "  warnings.warn(*args, **kwargs)\n"
          ],
          "name": "stderr"
        },
        {
          "output_type": "display_data",
          "data": {
            "application/vnd.jupyter.widget-view+json": {
              "model_id": "42f2e7072bdd4199a86b114e632c2e81",
              "version_minor": 0,
              "version_major": 2
            },
            "text/plain": [
              "HBox(children=(FloatProgress(value=1.0, bar_style='info', description='Validating', layout=Layout(flex='2'), m…"
            ]
          },
          "metadata": {
            "tags": []
          }
        },
        {
          "output_type": "display_data",
          "data": {
            "application/vnd.jupyter.widget-view+json": {
              "model_id": "5002e6f8b55c4ae4b6a57e3de28b8950",
              "version_minor": 0,
              "version_major": 2
            },
            "text/plain": [
              "HBox(children=(FloatProgress(value=1.0, bar_style='info', description='Validating', layout=Layout(flex='2'), m…"
            ]
          },
          "metadata": {
            "tags": []
          }
        },
        {
          "output_type": "display_data",
          "data": {
            "application/vnd.jupyter.widget-view+json": {
              "model_id": "3705afdc20554aa7868b1ee0e60c0a04",
              "version_minor": 0,
              "version_major": 2
            },
            "text/plain": [
              "HBox(children=(FloatProgress(value=1.0, bar_style='info', description='Validating', layout=Layout(flex='2'), m…"
            ]
          },
          "metadata": {
            "tags": []
          }
        },
        {
          "output_type": "display_data",
          "data": {
            "application/vnd.jupyter.widget-view+json": {
              "model_id": "6c30a3db702e4f608a2755e50dd8483c",
              "version_minor": 0,
              "version_major": 2
            },
            "text/plain": [
              "HBox(children=(FloatProgress(value=1.0, bar_style='info', description='Validating', layout=Layout(flex='2'), m…"
            ]
          },
          "metadata": {
            "tags": []
          }
        },
        {
          "output_type": "display_data",
          "data": {
            "application/vnd.jupyter.widget-view+json": {
              "model_id": "d73bd73776ea46619c29e78fddd7c084",
              "version_minor": 0,
              "version_major": 2
            },
            "text/plain": [
              "HBox(children=(FloatProgress(value=1.0, bar_style='info', description='Validating', layout=Layout(flex='2'), m…"
            ]
          },
          "metadata": {
            "tags": []
          }
        },
        {
          "output_type": "display_data",
          "data": {
            "application/vnd.jupyter.widget-view+json": {
              "model_id": "6b9addef1385400189d719ea8ab64f1e",
              "version_minor": 0,
              "version_major": 2
            },
            "text/plain": [
              "HBox(children=(FloatProgress(value=1.0, bar_style='info', description='Validating', layout=Layout(flex='2'), m…"
            ]
          },
          "metadata": {
            "tags": []
          }
        },
        {
          "output_type": "display_data",
          "data": {
            "application/vnd.jupyter.widget-view+json": {
              "model_id": "0c677f26e98f4af688c039e3310a6c37",
              "version_minor": 0,
              "version_major": 2
            },
            "text/plain": [
              "HBox(children=(FloatProgress(value=1.0, bar_style='info', description='Validating', layout=Layout(flex='2'), m…"
            ]
          },
          "metadata": {
            "tags": []
          }
        },
        {
          "output_type": "display_data",
          "data": {
            "application/vnd.jupyter.widget-view+json": {
              "model_id": "97d3e89e516948998f4dcde4cab41a1e",
              "version_minor": 0,
              "version_major": 2
            },
            "text/plain": [
              "HBox(children=(FloatProgress(value=1.0, bar_style='info', description='Validating', layout=Layout(flex='2'), m…"
            ]
          },
          "metadata": {
            "tags": []
          }
        },
        {
          "output_type": "display_data",
          "data": {
            "application/vnd.jupyter.widget-view+json": {
              "model_id": "64580af7a809490aad4738a3ab4d216e",
              "version_minor": 0,
              "version_major": 2
            },
            "text/plain": [
              "HBox(children=(FloatProgress(value=1.0, bar_style='info', description='Validating', layout=Layout(flex='2'), m…"
            ]
          },
          "metadata": {
            "tags": []
          }
        },
        {
          "output_type": "display_data",
          "data": {
            "application/vnd.jupyter.widget-view+json": {
              "model_id": "15a6267c57ec4612afce35dc15f93c70",
              "version_minor": 0,
              "version_major": 2
            },
            "text/plain": [
              "HBox(children=(FloatProgress(value=1.0, bar_style='info', description='Validating', layout=Layout(flex='2'), m…"
            ]
          },
          "metadata": {
            "tags": []
          }
        },
        {
          "output_type": "display_data",
          "data": {
            "application/vnd.jupyter.widget-view+json": {
              "model_id": "d6c9e475894443b0a371f1bd0e305748",
              "version_minor": 0,
              "version_major": 2
            },
            "text/plain": [
              "HBox(children=(FloatProgress(value=1.0, bar_style='info', description='Validating', layout=Layout(flex='2'), m…"
            ]
          },
          "metadata": {
            "tags": []
          }
        },
        {
          "output_type": "display_data",
          "data": {
            "application/vnd.jupyter.widget-view+json": {
              "model_id": "b7d05eb790f446d396348698c27808de",
              "version_minor": 0,
              "version_major": 2
            },
            "text/plain": [
              "HBox(children=(FloatProgress(value=1.0, bar_style='info', description='Validating', layout=Layout(flex='2'), m…"
            ]
          },
          "metadata": {
            "tags": []
          }
        },
        {
          "output_type": "display_data",
          "data": {
            "application/vnd.jupyter.widget-view+json": {
              "model_id": "9195738aa80d4a78bd60e1eae17897bd",
              "version_minor": 0,
              "version_major": 2
            },
            "text/plain": [
              "HBox(children=(FloatProgress(value=1.0, bar_style='info', description='Validating', layout=Layout(flex='2'), m…"
            ]
          },
          "metadata": {
            "tags": []
          }
        },
        {
          "output_type": "display_data",
          "data": {
            "application/vnd.jupyter.widget-view+json": {
              "model_id": "1bcf96d2899b44d2b71ad4466227a67c",
              "version_minor": 0,
              "version_major": 2
            },
            "text/plain": [
              "HBox(children=(FloatProgress(value=1.0, bar_style='info', description='Validating', layout=Layout(flex='2'), m…"
            ]
          },
          "metadata": {
            "tags": []
          }
        },
        {
          "output_type": "stream",
          "text": [
            "\n"
          ],
          "name": "stdout"
        },
        {
          "output_type": "execute_result",
          "data": {
            "text/plain": [
              "1"
            ]
          },
          "metadata": {
            "tags": []
          },
          "execution_count": 102
        }
      ]
    },
    {
      "cell_type": "markdown",
      "metadata": {
        "id": "NRUVnIbazXgN"
      },
      "source": [
        "# **part c**\n"
      ]
    },
    {
      "cell_type": "markdown",
      "metadata": {
        "id": "qwakckIpl39x"
      },
      "source": [
        "### 1) Implementation of Keras Tensorflow from scratch - 3 layer NN"
      ]
    },
    {
      "cell_type": "code",
      "metadata": {
        "colab": {
          "base_uri": "https://localhost:8080/"
        },
        "id": "ekGZU0eLY4UY",
        "outputId": "9f7916a9-5b3b-487c-b508-7da0f6732187"
      },
      "source": [
        "import tensorflow as tf\n",
        "print(tf.__version__)"
      ],
      "execution_count": 125,
      "outputs": [
        {
          "output_type": "stream",
          "text": [
            "2.4.1\n"
          ],
          "name": "stdout"
        }
      ]
    },
    {
      "cell_type": "code",
      "metadata": {
        "id": "oHDlZi5pzVXO"
      },
      "source": [
        "from tensorflow.keras import layers\n",
        "import tensorflow as tf\n",
        "import tensorflow \n",
        "\n",
        "from tensorflow import keras\n",
        "from keras.layers import Dense\n",
        "\n",
        "class Linear(keras.layers.Layer):\n",
        "\n",
        "  def __init__(self, units=32):\n",
        "      super(Linear, self).__init__()\n",
        "      self.units = units\n",
        "\n",
        "  def build(self, input_shape):\n",
        "      self.w = self.add_weight(shape=(input_shape[-1], self.units),\n",
        "                               initializer='random_normal',\n",
        "                               trainable=True)\n",
        "      self.b = self.add_weight(shape=(self.units,),\n",
        "                               initializer='random_normal',\n",
        "                               trainable=True)\n",
        "\n",
        "  def call(self, inputs):\n",
        "      return tf.matmul(inputs, self.w) + self.b\n",
        "\n",
        "\n",
        "# Instantiate our lazy layer.\n",
        "linear_layer = Linear(3)\n",
        "\n",
        "# This will also call `build(input_shape)` and create the weights.\n",
        "y = linear_layer(tf.ones((2, 2)))\n",
        "assert len(linear_layer.weights) == 2"
      ],
      "execution_count": 126,
      "outputs": []
    },
    {
      "cell_type": "code",
      "metadata": {
        "id": "CJYKFpIQbD1j",
        "colab": {
          "base_uri": "https://localhost:8080/"
        },
        "outputId": "5a991ba9-3fd0-431f-d007-cfaa68c563fa"
      },
      "source": [
        "\n",
        "#x = tf.Variable(np.array([0.060, 0.060, 0.06, 0.040, 0.060]), trainable=True, dtype=tf.float64)\n",
        "x_train = tf.Variable(x, trainable=True, dtype=tf.float32)\n",
        "\n",
        "y = np.hstack((y_true_1, y_true_2))\n",
        "y.shape\n",
        "y_train = tf.Variable(y, trainable=True, dtype=tf.float32)\n",
        "\n",
        "\n",
        "#preparing datasets\n",
        "\n",
        "dataset = tf.data.Dataset.from_tensor_slices((x_train,y_train))\n",
        "dataset"
      ],
      "execution_count": 127,
      "outputs": [
        {
          "output_type": "execute_result",
          "data": {
            "text/plain": [
              "<TensorSliceDataset shapes: ((3,), (2,)), types: (tf.float32, tf.float32)>"
            ]
          },
          "metadata": {
            "tags": []
          },
          "execution_count": 127
        }
      ]
    },
    {
      "cell_type": "code",
      "metadata": {
        "id": "WSPZo2EJ9lYX"
      },
      "source": [
        "def custom_loss_function(y_true, y_pred):\n",
        "   squared_difference = tf.square(y_true - y_pred)\n",
        "   return tf.reduce_mean(squared_difference, axis=-1)"
      ],
      "execution_count": 128,
      "outputs": []
    },
    {
      "cell_type": "code",
      "metadata": {
        "id": "7Hzcmav-cRO1"
      },
      "source": [
        "\n",
        "# Instantiate a simple classification model\n",
        "model = tf.keras.Sequential([\n",
        "  layers.Dense(256, activation=tf.nn.relu),\n",
        "  layers.Dense(256, activation=tf.nn.relu),\n",
        "  layers.Dense(10)\n",
        "])\n",
        "\n",
        "# Instantiate a logistic loss function that expects integer targets.\n",
        "loss = tf.keras.losses.SparseCategoricalCrossentropy(from_logits=True)\n",
        "\n",
        "# Instantiate an accuracy metric.\n",
        "accuracy = tf.keras.metrics.SparseCategoricalAccuracy()\n",
        "\n",
        "# Instantiate an optimizer.\n",
        "optimizer = tf.keras.optimizers.Adam()"
      ],
      "execution_count": 129,
      "outputs": []
    },
    {
      "cell_type": "code",
      "metadata": {
        "id": "M6Lyf4woclPi"
      },
      "source": [
        "\n",
        "class MLP(keras.layers.Layer):\n",
        "\n",
        "  def __init__(self):\n",
        "    super(MLP ,self).__init__()\n",
        "    self.linear_1 = Linear(3)\n",
        "    self.linear_2 = Linear(10)\n",
        "    self.linear_3 = Linear(2)\n",
        "    \n",
        "\n",
        "  def call(self,inputs):\n",
        "    l1=self.linear_1(inputs)\n",
        "    r=tf.nn.relu(l1)\n",
        "\n",
        "    l2=self.linear_2(r)\n",
        "    r=tf.nn.relu(l2) \n",
        "    \n",
        "    l3=self.linear_3(r)\n",
        "\n",
        "    return l3\n"
      ],
      "execution_count": 130,
      "outputs": []
    },
    {
      "cell_type": "code",
      "metadata": {
        "id": "jh8G1sXQcz1h"
      },
      "source": [
        "mlp = MLP()\n",
        "loss = tf.keras.losses.SparseCategoricalCrossentropy(from_logits=True)\n",
        "accuracy = tf.keras.metrics.SparseCategoricalAccuracy()\n",
        "optimizer = tf.keras.optimizers.Adam()"
      ],
      "execution_count": 131,
      "outputs": []
    },
    {
      "cell_type": "code",
      "metadata": {
        "colab": {
          "base_uri": "https://localhost:8080/"
        },
        "id": "ewKZkB5WdRw1",
        "outputId": "907aa330-afb6-496d-ed38-bb7b461913ab"
      },
      "source": [
        "#for step, (x,y) in enumerate(dataset):\n",
        "with tf.GradientTape() as tape:\n",
        "  #open a gradient tape \n",
        "\n",
        "  #forward pass\n",
        "    logits = mlp(x_train)\n",
        "  #loss value for this batch\n",
        "    loss_value = custom_loss_function(y_train , logits)\n",
        "    print(loss_value)\n",
        "\n",
        "#get the gradient of loss wrt the weights\n",
        "\n",
        "gradient = tape.gradient(loss_value , mlp.trainable_weights)\n",
        "\n",
        "\n",
        "#Update the weights of linear layer\n",
        "optimizer.apply_gradients(zip(gradient , mlp.trainable_weights))\n",
        "\n",
        "\n",
        "#loss_value"
      ],
      "execution_count": 132,
      "outputs": [
        {
          "output_type": "stream",
          "text": [
            "tf.Tensor(\n",
            "[2.71843319e+01 5.88635445e+00 9.91208744e+00 7.70652390e+00\n",
            " 4.15436125e+00 6.38686359e-01 5.69020653e+00 1.14780121e+02\n",
            " 4.42284317e+01 9.11595225e-01 1.76091118e+01 1.85615768e+01\n",
            " 2.29358959e+00 3.44980011e+01 4.85536385e+00 4.72071028e+00\n",
            " 3.86132859e-02 4.95083237e+00 2.35105095e+01 7.63704598e-01\n",
            " 5.53874195e-01 5.07213936e+01 3.89282751e+00 1.27997255e+01\n",
            " 2.43009567e+01 2.85304403e+00 7.35237551e+00 8.23772073e-01\n",
            " 1.79440987e+00 7.25888729e+00 6.37961864e-01 2.70874825e+01\n",
            " 5.10498009e+01 9.58789444e+00 1.76235180e+01 4.73864365e+01\n",
            " 5.05481184e-01 3.89318094e-02 8.95943880e-01 3.34138794e+01\n",
            " 5.50859261e+00 4.13441658e+00 2.07899880e+00 3.58938313e+00\n",
            " 2.13589249e+01 2.69825125e+00 2.40693569e+01 2.28259773e+01\n",
            " 1.57845428e+02 4.36551857e+01 2.27482529e+01 7.53056240e+00\n",
            " 6.66730804e+01 2.68648005e+00 2.18758178e+00 1.10651255e+01\n",
            " 6.27412260e-01 7.00467300e+00 8.89367390e+00 3.34983406e+01\n",
            " 1.75236535e+00 2.90007343e+01 2.34542871e+00 1.72529444e-01\n",
            " 7.85221767e+00 7.45308065e+00 1.67094505e+00 4.14062424e+01\n",
            " 2.06406479e+01 1.57475624e+01 1.32967310e+01 9.88096466e+01\n",
            " 9.95113373e+00 4.36850309e+00 7.76443291e+00 2.61350441e+00\n",
            " 1.89075661e+00 6.66496048e+01 2.82463989e+01 5.27407885e+00\n",
            " 6.88891029e+00 9.52903366e+00 3.09226561e+00 4.34626465e+01\n",
            " 2.76867032e+00 1.90099812e+01 5.41909180e+01 1.84344721e+00\n",
            " 1.12766838e+01 1.87944965e+01 4.41023560e+01 1.70531368e+00\n",
            " 3.58846164e+00 2.47224026e+01 1.55521927e+01 4.64065981e+00\n",
            " 6.54287481e+00 4.42769527e+00 2.16730804e+01 5.28030205e+01\n",
            " 3.28668714e+00 6.72924232e+00 8.45115757e+00 1.64067200e+02\n",
            " 6.16759796e+01 1.22290649e+01 1.04361248e+01 3.39842945e-01\n",
            " 5.37296486e+00 2.60288119e-02 2.47933531e+00 2.38049564e+01\n",
            " 8.26477966e+01 1.41605873e+01 1.27672386e+00 1.20870752e+01\n",
            " 7.34884644e+01 5.98989296e+00 2.38517976e+00 8.56380558e+00\n",
            " 1.56359449e-01 6.46682644e+00 1.70297108e+01 4.18788958e+00\n",
            " 2.57009920e-02 6.24356508e+00 9.29125061e+01 7.66720867e+00\n",
            " 5.70136845e-01 1.17312241e+00 1.14476566e+01 2.15316594e-01\n",
            " 1.06883755e+01 9.45518255e-01 1.45484133e+01 2.79443949e-01\n",
            " 1.05864096e+00 2.19178543e+01 1.83113587e+00 5.16480637e+00\n",
            " 6.51566744e+00 1.90931244e+01 8.32444992e+01 6.97492523e+01\n",
            " 9.96714497e+00 5.66228199e+00 9.09624329e+01 1.19776335e+01\n",
            " 8.79855251e+00 2.04100668e-01 6.44299090e-02 4.50294137e-01\n",
            " 5.72797165e+01 1.17937982e+00 4.86770535e+00 4.00744019e+01\n",
            " 1.15401039e+01 1.13728943e+01 8.26009560e+00 1.20291500e+01\n",
            " 1.86401539e+01 1.41997945e+00 6.69441223e+01 1.07377644e+01\n",
            " 5.00040340e+00 4.17537785e+00 4.00626230e+00 5.61740875e+00\n",
            " 1.14007273e+01 7.97868061e+00 3.03984680e+01 8.86682928e-01\n",
            " 2.11677284e+01 1.87473106e+01 3.25137091e+00 3.27098250e+00\n",
            " 2.26752014e+01 5.25733328e+00 7.90387988e-01 3.71070404e+01\n",
            " 1.33794769e+02 2.18350811e+01 6.35963821e+01 4.74312363e+01\n",
            " 7.48668718e+00 9.67767334e+00 3.91291261e+00 8.45402050e+00\n",
            " 3.39487457e+01 2.78224297e+01 6.06462173e+01 3.75609703e+01\n",
            " 9.12955666e+00 1.07497520e+01 5.80892849e+00 1.76423759e+01\n",
            " 2.82937813e+01 1.74014246e+00 1.00672750e+01 2.44912415e+01\n",
            " 1.99322677e+00 4.13929329e+01 3.37348862e+01 6.09779625e+01\n",
            " 3.33872986e+01 1.18004918e-01 9.59619617e+00 6.06502008e+00\n",
            " 4.64949131e+00 3.61280322e+00 2.53961983e+01 2.81089187e+00\n",
            " 1.13739729e+01 5.14855423e+01 3.48673820e+00 2.67735443e+01\n",
            " 1.46600410e-01 1.03001480e+01 4.65243816e-01 8.32022381e+00\n",
            " 2.12968502e+01 2.94521451e+00 2.18155136e+01 1.27597034e-01\n",
            " 4.43022680e+00 1.90692635e+01 7.60527849e+00 1.63345833e+01\n",
            " 6.15336227e+00 7.81619132e-01 2.83022356e+00 2.56176114e-01\n",
            " 1.92061310e+01 1.13594971e+02 1.03050280e+01 8.10570717e-01\n",
            " 1.91272678e+01 4.89089108e+00 1.41449630e+00 4.08892393e+00\n",
            " 1.11141548e+01 2.92330589e+01 3.64258308e+01 3.39020691e+01\n",
            " 1.27995987e+01 2.28758049e+01 4.96539783e+00 3.22150879e+01\n",
            " 6.90816975e+00 3.34809971e+00 1.49144306e+01 6.61951904e+01\n",
            " 3.26169701e+01 6.64177001e-01 4.57264481e+01 2.23542452e+00\n",
            " 4.99322777e+01 3.29573226e+00 1.31080475e+01 1.99394341e+01\n",
            " 5.80868340e+00 4.13704910e+01 1.03133602e+01 2.94404869e+01\n",
            " 3.28379124e-01 4.91679287e+00 1.15584087e+01 5.45309591e+00\n",
            " 4.58127365e+01 1.12455902e+01 8.51240084e-02 1.24292099e+00\n",
            " 3.76616402e+01 7.41311264e+00 2.16828203e+00 1.56412172e+00\n",
            " 3.83361030e+00 1.04381332e+01 3.95100594e+01 4.66750085e-01\n",
            " 1.53748150e+01 3.66422882e+01 4.62594070e+01 1.14536381e+00\n",
            " 6.91234398e+00 6.62719879e+01 4.51051617e+00 1.32903500e+01\n",
            " 5.51026687e-02 1.46592808e+01 2.93659058e+01 1.90617418e+00\n",
            " 4.05296288e+01 7.42908783e+01 7.65318775e+00 1.71141167e+01\n",
            " 1.03977770e-01 4.14708214e+01 4.29887695e+01 5.83610382e+01\n",
            " 9.75718784e+00 1.38127728e+01 3.01580572e+00 1.45169377e+00\n",
            " 1.11697006e+00 1.63385410e+01 3.77611923e+01 6.19520264e+01\n",
            " 1.46527267e+02 1.26638532e+00 2.72771811e+00 7.31312256e+01\n",
            " 1.73001747e+01 1.28649960e+01 1.96117897e+01 1.47400713e+00\n",
            " 8.00632572e+00 8.11937904e+00 2.47918987e+01 9.13314056e+00\n",
            " 2.87721419e+00 8.86597900e+01 1.45177813e+01 3.20105171e+00\n",
            " 7.74106169e+00 9.01146698e+00 3.21877823e+01 8.54347610e+00\n",
            " 1.90006793e+00 1.66277254e+00 3.96029758e+00 7.09246111e+00\n",
            " 1.35051126e+01 2.28824692e+01 9.65781689e+00 5.80375910e-01\n",
            " 3.88619118e+01 3.37496071e+01 1.93953781e+01 3.33979130e+00\n",
            " 1.49161282e+01 3.47491989e+01 3.01704049e+00 2.40203381e+01\n",
            " 1.25043344e+01 1.69652557e+00 5.93874931e-01 8.04518890e+00\n",
            " 2.49033356e+01 5.96585159e+01 1.27980976e+01 8.17819824e+01\n",
            " 2.59579211e-01 4.55705553e-01 1.78269744e-01 1.01700163e+01\n",
            " 1.36744909e+01 6.49216843e+01 5.12403917e+00 6.53970146e+00\n",
            " 3.06742897e+01 5.11733780e+01 3.49651188e-01 1.19455595e+01\n",
            " 1.97549858e+01 2.71740913e+01 2.22277260e+01 1.20278730e+01\n",
            " 8.62959290e+00 4.85554047e+01 6.07128978e-01 9.59877205e+00\n",
            " 6.68502271e-01 1.87101364e+01 1.68268814e+01 1.06542749e+01\n",
            " 2.61998749e+01 7.97225535e-02 3.31307292e-01 1.39940187e-01\n",
            " 5.88564968e+00 6.31830311e+00 1.33506477e+00 2.81230888e+01\n",
            " 2.47140121e+00 4.06283379e+00 2.38671994e+00 1.82299340e+00\n",
            " 2.85184250e+01 2.52122154e+01 1.11157262e+00 5.38021240e+01\n",
            " 3.97854614e+01 1.30281143e+01 6.86154842e+00 5.65430284e-01\n",
            " 1.76367035e+01 1.02693367e+01 1.98013425e+00 1.90206280e+01\n",
            " 7.37157345e+00 1.48117199e+01 9.47050571e+00 3.25523806e+00\n",
            " 8.70507777e-01 1.39897490e+00 1.39237225e-01 3.07497883e+01\n",
            " 1.15388834e+00 2.87911530e+01 1.97363834e+01 4.86442261e+01\n",
            " 5.62553825e+01 1.13199089e+02 5.02647209e+00 6.01393032e+00\n",
            " 1.70514221e+01 2.20865464e+00 1.91607261e+00 9.98365521e-01\n",
            " 1.59250394e-01 1.80224895e+01 1.92697372e+01 1.78913403e+00\n",
            " 1.40656490e+01 3.07050347e+00 4.97157049e+00 1.33156347e+01\n",
            " 2.27346973e+01 2.34378014e+01 5.41201019e+00 5.89441643e+01\n",
            " 2.50602317e+00 5.01445465e+01 2.14870472e+01 1.06713734e+01\n",
            " 1.09676590e+01 3.89760709e+00 2.93254738e+01 4.19107628e+00\n",
            " 1.51763105e+01 1.54662962e+01 5.17065954e+00 3.64930496e+01\n",
            " 1.20496404e+00 4.26404095e+00 4.18674994e+00 7.31262112e+00\n",
            " 9.12471104e+00 9.41339588e+00 3.91731828e-01 5.85309601e+00\n",
            " 5.11981547e-01 4.70948486e+01 3.91902122e+01 3.47135472e+00\n",
            " 4.02408257e+01 4.55582466e+01 1.66212215e+01 3.46700370e-01\n",
            " 5.42721748e+00 8.82367611e+00 9.46517086e+00 1.92556715e+00\n",
            " 1.37130175e+01 3.40439224e+01 1.18422909e+01 5.21632957e+01\n",
            " 9.71598816e+00 3.19918060e+01 1.60513268e+01 3.97897959e+00\n",
            " 3.66339850e+00 9.04359512e+01 3.88371162e+01 4.33237314e+00\n",
            " 1.01561092e-01 3.72309113e+01 2.55535469e+01 6.33862076e+01\n",
            " 2.88805733e+01 4.68731737e+00 8.01074371e+01 2.48845625e+00\n",
            " 2.29986057e+01 3.84660912e+01 7.81982946e+00 2.52885675e+00\n",
            " 5.27970552e+00 1.02630112e+02 1.48683023e+01 2.02288685e+01\n",
            " 2.17509359e-01 1.80088196e+01 3.88694644e+00 8.47366333e+01\n",
            " 3.54274139e+01 4.34735805e-01 2.36017399e+01 4.27740173e+01], shape=(500,), dtype=float32)\n"
          ],
          "name": "stdout"
        },
        {
          "output_type": "execute_result",
          "data": {
            "text/plain": [
              "<tf.Variable 'UnreadVariable' shape=() dtype=int64, numpy=1>"
            ]
          },
          "metadata": {
            "tags": []
          },
          "execution_count": 132
        }
      ]
    },
    {
      "cell_type": "markdown",
      "metadata": {
        "id": "JwahIe4sG6Ik"
      },
      "source": [
        "### 2) Tensorflow tensor data structure to build relu activation function - auto differentiation primitives"
      ]
    },
    {
      "cell_type": "code",
      "metadata": {
        "colab": {
          "base_uri": "https://localhost:8080/"
        },
        "id": "JbqybmJvG6ks",
        "outputId": "73f4c75b-da53-4e02-9aa9-70d70cfce70f"
      },
      "source": [
        "from tensorflow import keras\n",
        "from tensorflow.keras import layers\n",
        "from tensorflow.keras import optimizers\n",
        "\n",
        "inputs = keras.Input(shape=(3,))\n",
        "layer1 = layers.Dense(20, activation='relu', name='dense_1')(inputs)\n",
        "layer2 = layers.Dense(28, activation='relu', name='dense_2')(layer1)\n",
        "outputs = layers.Dense(2, name='regression')(layer2)\n",
        "\n",
        "model = keras.Model(inputs=inputs, outputs=outputs)\n",
        "print(model.summary())\n"
      ],
      "execution_count": 133,
      "outputs": [
        {
          "output_type": "stream",
          "text": [
            "Model: \"model_3\"\n",
            "_________________________________________________________________\n",
            "Layer (type)                 Output Shape              Param #   \n",
            "=================================================================\n",
            "input_4 (InputLayer)         [(None, 3)]               0         \n",
            "_________________________________________________________________\n",
            "dense_1 (Dense)              (None, 20)                80        \n",
            "_________________________________________________________________\n",
            "dense_2 (Dense)              (None, 28)                588       \n",
            "_________________________________________________________________\n",
            "regression (Dense)           (None, 2)                 58        \n",
            "=================================================================\n",
            "Total params: 726\n",
            "Trainable params: 726\n",
            "Non-trainable params: 0\n",
            "_________________________________________________________________\n",
            "None\n"
          ],
          "name": "stdout"
        }
      ]
    },
    {
      "cell_type": "code",
      "metadata": {
        "colab": {
          "base_uri": "https://localhost:8080/"
        },
        "id": "ExIVXfiGLdC7",
        "outputId": "9348d7c7-bb0d-4922-d0a7-142f1b24221b"
      },
      "source": [
        "model.compile(loss='mse', optimizer=optimizers.SGD(0.1))\n",
        "model.fit(x, y_true, epochs=100)\n",
        "y_pred = model.predict(x)"
      ],
      "execution_count": 134,
      "outputs": [
        {
          "output_type": "stream",
          "text": [
            "Epoch 1/100\n",
            "16/16 [==============================] - 0s 1ms/step - loss: 13.2087\n",
            "Epoch 2/100\n",
            "16/16 [==============================] - 0s 1ms/step - loss: 1.7923\n",
            "Epoch 3/100\n",
            "16/16 [==============================] - 0s 2ms/step - loss: 0.9745\n",
            "Epoch 4/100\n",
            "16/16 [==============================] - 0s 2ms/step - loss: 0.8400\n",
            "Epoch 5/100\n",
            "16/16 [==============================] - 0s 2ms/step - loss: 0.5520\n",
            "Epoch 6/100\n",
            "16/16 [==============================] - 0s 1ms/step - loss: 0.9350\n",
            "Epoch 7/100\n",
            "16/16 [==============================] - 0s 2ms/step - loss: 0.7763\n",
            "Epoch 8/100\n",
            "16/16 [==============================] - 0s 2ms/step - loss: 3.8096\n",
            "Epoch 9/100\n",
            "16/16 [==============================] - 0s 1ms/step - loss: 0.4527\n",
            "Epoch 10/100\n",
            "16/16 [==============================] - 0s 1ms/step - loss: 0.2983\n",
            "Epoch 11/100\n",
            "16/16 [==============================] - 0s 1ms/step - loss: 0.5765\n",
            "Epoch 12/100\n",
            "16/16 [==============================] - 0s 1ms/step - loss: 0.4633\n",
            "Epoch 13/100\n",
            "16/16 [==============================] - 0s 2ms/step - loss: 0.3992\n",
            "Epoch 14/100\n",
            "16/16 [==============================] - 0s 2ms/step - loss: 0.1530\n",
            "Epoch 15/100\n",
            "16/16 [==============================] - 0s 1ms/step - loss: 0.5050\n",
            "Epoch 16/100\n",
            "16/16 [==============================] - 0s 1ms/step - loss: 0.6071\n",
            "Epoch 17/100\n",
            "16/16 [==============================] - 0s 1ms/step - loss: 0.5840\n",
            "Epoch 18/100\n",
            "16/16 [==============================] - 0s 1ms/step - loss: 0.2187\n",
            "Epoch 19/100\n",
            "16/16 [==============================] - 0s 2ms/step - loss: 0.2670\n",
            "Epoch 20/100\n",
            "16/16 [==============================] - 0s 2ms/step - loss: 0.1327\n",
            "Epoch 21/100\n",
            "16/16 [==============================] - 0s 1ms/step - loss: 0.1126\n",
            "Epoch 22/100\n",
            "16/16 [==============================] - 0s 2ms/step - loss: 0.1236\n",
            "Epoch 23/100\n",
            "16/16 [==============================] - 0s 1ms/step - loss: 0.3591\n",
            "Epoch 24/100\n",
            "16/16 [==============================] - 0s 2ms/step - loss: 0.2128\n",
            "Epoch 25/100\n",
            "16/16 [==============================] - 0s 2ms/step - loss: 0.2376\n",
            "Epoch 26/100\n",
            "16/16 [==============================] - 0s 2ms/step - loss: 0.1030\n",
            "Epoch 27/100\n",
            "16/16 [==============================] - 0s 1ms/step - loss: 0.2352\n",
            "Epoch 28/100\n",
            "16/16 [==============================] - 0s 1ms/step - loss: 0.2879\n",
            "Epoch 29/100\n",
            "16/16 [==============================] - 0s 2ms/step - loss: 0.2248\n",
            "Epoch 30/100\n",
            "16/16 [==============================] - 0s 1ms/step - loss: 0.1348\n",
            "Epoch 31/100\n",
            "16/16 [==============================] - 0s 2ms/step - loss: 0.5150\n",
            "Epoch 32/100\n",
            "16/16 [==============================] - 0s 1ms/step - loss: 0.1733\n",
            "Epoch 33/100\n",
            "16/16 [==============================] - 0s 2ms/step - loss: 0.0816\n",
            "Epoch 34/100\n",
            "16/16 [==============================] - 0s 1ms/step - loss: 0.1848\n",
            "Epoch 35/100\n",
            "16/16 [==============================] - 0s 1ms/step - loss: 0.0570\n",
            "Epoch 36/100\n",
            "16/16 [==============================] - 0s 2ms/step - loss: 0.3307\n",
            "Epoch 37/100\n",
            "16/16 [==============================] - 0s 2ms/step - loss: 0.1223\n",
            "Epoch 38/100\n",
            "16/16 [==============================] - 0s 2ms/step - loss: 0.2778\n",
            "Epoch 39/100\n",
            "16/16 [==============================] - 0s 1ms/step - loss: 0.0768\n",
            "Epoch 40/100\n",
            "16/16 [==============================] - 0s 1ms/step - loss: 0.0766\n",
            "Epoch 41/100\n",
            "16/16 [==============================] - 0s 2ms/step - loss: 0.1438\n",
            "Epoch 42/100\n",
            "16/16 [==============================] - 0s 2ms/step - loss: 0.0649\n",
            "Epoch 43/100\n",
            "16/16 [==============================] - 0s 2ms/step - loss: 0.0621\n",
            "Epoch 44/100\n",
            "16/16 [==============================] - 0s 1ms/step - loss: 0.0594\n",
            "Epoch 45/100\n",
            "16/16 [==============================] - 0s 1ms/step - loss: 0.1155\n",
            "Epoch 46/100\n",
            "16/16 [==============================] - 0s 2ms/step - loss: 0.2765\n",
            "Epoch 47/100\n",
            "16/16 [==============================] - 0s 2ms/step - loss: 0.1146\n",
            "Epoch 48/100\n",
            "16/16 [==============================] - 0s 1ms/step - loss: 0.5660\n",
            "Epoch 49/100\n",
            "16/16 [==============================] - 0s 2ms/step - loss: 0.0938\n",
            "Epoch 50/100\n",
            "16/16 [==============================] - 0s 1ms/step - loss: 0.0916\n",
            "Epoch 51/100\n",
            "16/16 [==============================] - 0s 1ms/step - loss: 0.0853\n",
            "Epoch 52/100\n",
            "16/16 [==============================] - 0s 1ms/step - loss: 0.0554\n",
            "Epoch 53/100\n",
            "16/16 [==============================] - 0s 2ms/step - loss: 0.0703\n",
            "Epoch 54/100\n",
            "16/16 [==============================] - 0s 1ms/step - loss: 0.0602\n",
            "Epoch 55/100\n",
            "16/16 [==============================] - 0s 1ms/step - loss: 0.1989\n",
            "Epoch 56/100\n",
            "16/16 [==============================] - 0s 2ms/step - loss: 0.0384\n",
            "Epoch 57/100\n",
            "16/16 [==============================] - 0s 2ms/step - loss: 0.0991\n",
            "Epoch 58/100\n",
            "16/16 [==============================] - 0s 2ms/step - loss: 0.0514\n",
            "Epoch 59/100\n",
            "16/16 [==============================] - 0s 2ms/step - loss: 0.0777\n",
            "Epoch 60/100\n",
            "16/16 [==============================] - 0s 2ms/step - loss: 0.0951\n",
            "Epoch 61/100\n",
            "16/16 [==============================] - 0s 2ms/step - loss: 0.0447\n",
            "Epoch 62/100\n",
            "16/16 [==============================] - 0s 2ms/step - loss: 0.0583\n",
            "Epoch 63/100\n",
            "16/16 [==============================] - 0s 2ms/step - loss: 0.0854\n",
            "Epoch 64/100\n",
            "16/16 [==============================] - 0s 2ms/step - loss: 0.0485\n",
            "Epoch 65/100\n",
            "16/16 [==============================] - 0s 2ms/step - loss: 0.0416\n",
            "Epoch 66/100\n",
            "16/16 [==============================] - 0s 2ms/step - loss: 0.0469\n",
            "Epoch 67/100\n",
            "16/16 [==============================] - 0s 2ms/step - loss: 0.0476\n",
            "Epoch 68/100\n",
            "16/16 [==============================] - 0s 2ms/step - loss: 0.0457\n",
            "Epoch 69/100\n",
            "16/16 [==============================] - 0s 1ms/step - loss: 0.0471\n",
            "Epoch 70/100\n",
            "16/16 [==============================] - 0s 1ms/step - loss: 0.0985\n",
            "Epoch 71/100\n",
            "16/16 [==============================] - 0s 1ms/step - loss: 0.0500\n",
            "Epoch 72/100\n",
            "16/16 [==============================] - 0s 2ms/step - loss: 0.0522\n",
            "Epoch 73/100\n",
            "16/16 [==============================] - 0s 2ms/step - loss: 0.3639\n",
            "Epoch 74/100\n",
            "16/16 [==============================] - 0s 2ms/step - loss: 0.0578\n",
            "Epoch 75/100\n",
            "16/16 [==============================] - 0s 2ms/step - loss: 0.8605\n",
            "Epoch 76/100\n",
            "16/16 [==============================] - 0s 2ms/step - loss: 0.0874\n",
            "Epoch 77/100\n",
            "16/16 [==============================] - 0s 1ms/step - loss: 0.0370\n",
            "Epoch 78/100\n",
            "16/16 [==============================] - 0s 2ms/step - loss: 0.0376\n",
            "Epoch 79/100\n",
            "16/16 [==============================] - 0s 2ms/step - loss: 0.0328\n",
            "Epoch 80/100\n",
            "16/16 [==============================] - 0s 2ms/step - loss: 0.0871\n",
            "Epoch 81/100\n",
            "16/16 [==============================] - 0s 1ms/step - loss: 0.0693\n",
            "Epoch 82/100\n",
            "16/16 [==============================] - 0s 1ms/step - loss: 0.0407\n",
            "Epoch 83/100\n",
            "16/16 [==============================] - 0s 2ms/step - loss: 0.0333\n",
            "Epoch 84/100\n",
            "16/16 [==============================] - 0s 2ms/step - loss: 0.0707\n",
            "Epoch 85/100\n",
            "16/16 [==============================] - 0s 1ms/step - loss: 0.1459\n",
            "Epoch 86/100\n",
            "16/16 [==============================] - 0s 2ms/step - loss: 0.0510\n",
            "Epoch 87/100\n",
            "16/16 [==============================] - 0s 2ms/step - loss: 0.0436\n",
            "Epoch 88/100\n",
            "16/16 [==============================] - 0s 2ms/step - loss: 0.0771\n",
            "Epoch 89/100\n",
            "16/16 [==============================] - 0s 2ms/step - loss: 0.0374\n",
            "Epoch 90/100\n",
            "16/16 [==============================] - 0s 2ms/step - loss: 0.0423\n",
            "Epoch 91/100\n",
            "16/16 [==============================] - 0s 2ms/step - loss: 0.0393\n",
            "Epoch 92/100\n",
            "16/16 [==============================] - 0s 2ms/step - loss: 0.0344\n",
            "Epoch 93/100\n",
            "16/16 [==============================] - 0s 1ms/step - loss: 0.0316\n",
            "Epoch 94/100\n",
            "16/16 [==============================] - 0s 2ms/step - loss: 0.1438\n",
            "Epoch 95/100\n",
            "16/16 [==============================] - 0s 2ms/step - loss: 0.0890\n",
            "Epoch 96/100\n",
            "16/16 [==============================] - 0s 1ms/step - loss: 0.0518\n",
            "Epoch 97/100\n",
            "16/16 [==============================] - 0s 1ms/step - loss: 0.0390\n",
            "Epoch 98/100\n",
            "16/16 [==============================] - 0s 1ms/step - loss: 0.0716\n",
            "Epoch 99/100\n",
            "16/16 [==============================] - 0s 2ms/step - loss: 0.0864\n",
            "Epoch 100/100\n",
            "16/16 [==============================] - 0s 2ms/step - loss: 0.0701\n"
          ],
          "name": "stdout"
        }
      ]
    },
    {
      "cell_type": "code",
      "metadata": {
        "colab": {
          "base_uri": "https://localhost:8080/",
          "height": 370
        },
        "id": "-BRB5Q5pLtML",
        "outputId": "92acfa92-30c8-4f49-c2c2-5e2eabc666f5"
      },
      "source": [
        "plot_3d(x, y_true, y_pred)"
      ],
      "execution_count": 135,
      "outputs": [
        {
          "output_type": "stream",
          "text": [
            "/usr/local/lib/python3.7/dist-packages/mpl_toolkits/mplot3d/art3d.py:794: FutureWarning: elementwise comparison failed; returning scalar instead, but in the future will perform elementwise comparison\n",
            "  if zdir == 'x':\n",
            "/usr/local/lib/python3.7/dist-packages/mpl_toolkits/mplot3d/art3d.py:796: FutureWarning: elementwise comparison failed; returning scalar instead, but in the future will perform elementwise comparison\n",
            "  elif zdir == 'y':\n",
            "/usr/local/lib/python3.7/dist-packages/mpl_toolkits/mplot3d/art3d.py:798: FutureWarning: elementwise comparison failed; returning scalar instead, but in the future will perform elementwise comparison\n",
            "  elif zdir[0] == '-':\n"
          ],
          "name": "stderr"
        },
        {
          "output_type": "display_data",
          "data": {
            "image/png": "[encoded data removed]",
            "text/plain": [
              "<Figure size 432x288 with 1 Axes>"
            ]
          },
          "metadata": {
            "tags": [],
            "needs_background": "light"
          }
        }
      ]
    },
    {
      "cell_type": "markdown",
      "metadata": {
        "id": "jdiO1eYJOqk0"
      },
      "source": [
        "### 3) Tensorflow keras linear modules etc.,. - high level primitives and build neural network - Model subclassing\n"
      ]
    },
    {
      "cell_type": "code",
      "metadata": {
        "id": "YhvdNANoO6xk"
      },
      "source": [
        "# Prepare a dataset.\n",
        "(x_train, y_train), (x_test, y_test) = tf.keras.datasets.mnist.load_data()\n",
        "x_train = x_train.reshape(60000, 784).astype('float32') / 255\n",
        "dataset = tf.data.Dataset.from_tensor_slices((x_train, y_train))\n",
        "dataset = dataset.shuffle(buffer_size=1024).batch(64)\n",
        "\n",
        "# Instantiate a simple classification model\n",
        "model = tf.keras.Sequential([\n",
        "  layers.Dense(256, activation=tf.nn.relu),\n",
        "  layers.Dense(256, activation=tf.nn.relu),\n",
        "  layers.Dense(10)\n",
        "])\n",
        "\n",
        "# Instantiate a logistic loss function that expects integer targets.\n",
        "loss = tf.keras.losses.SparseCategoricalCrossentropy(from_logits=True)\n",
        "\n",
        "# Instantiate an accuracy metric.\n",
        "accuracy = tf.keras.metrics.SparseCategoricalAccuracy()\n",
        "\n",
        "# Instantiate an optimizer.\n",
        "optimizer = tf.keras.optimizers.Adam()"
      ],
      "execution_count": 136,
      "outputs": []
    },
    {
      "cell_type": "code",
      "metadata": {
        "id": "jGShM4i4gQAr"
      },
      "source": [
        "model.compile(optimizer=optimizer, loss=loss, metrics=[accuracy])"
      ],
      "execution_count": 137,
      "outputs": []
    },
    {
      "cell_type": "code",
      "metadata": {
        "colab": {
          "base_uri": "https://localhost:8080/"
        },
        "id": "eTDj6PGWgRrb",
        "outputId": "ed870377-fa72-45bd-996a-8c07706092fd"
      },
      "source": [
        "model.fit(dataset, epochs=5)"
      ],
      "execution_count": 138,
      "outputs": [
        {
          "output_type": "stream",
          "text": [
            "Epoch 1/5\n",
            "938/938 [==============================] - 6s 6ms/step - loss: 0.3791 - sparse_categorical_accuracy: 0.8937\n",
            "Epoch 2/5\n",
            "938/938 [==============================] - 5s 6ms/step - loss: 0.0965 - sparse_categorical_accuracy: 0.9706\n",
            "Epoch 3/5\n",
            "938/938 [==============================] - 5s 6ms/step - loss: 0.0609 - sparse_categorical_accuracy: 0.9811\n",
            "Epoch 4/5\n",
            "938/938 [==============================] - 5s 6ms/step - loss: 0.0439 - sparse_categorical_accuracy: 0.9860\n",
            "Epoch 5/5\n",
            "938/938 [==============================] - 5s 5ms/step - loss: 0.0338 - sparse_categorical_accuracy: 0.9890\n"
          ],
          "name": "stdout"
        },
        {
          "output_type": "execute_result",
          "data": {
            "text/plain": [
              "<tensorflow.python.keras.callbacks.History at 0x7fc435bb6290>"
            ]
          },
          "metadata": {
            "tags": []
          },
          "execution_count": 138
        }
      ]
    },
    {
      "cell_type": "code",
      "metadata": {
        "colab": {
          "base_uri": "https://localhost:8080/"
        },
        "id": "OHH20FaQgTCH",
        "outputId": "e823c467-d137-4584-cac9-3fbb14e2a844"
      },
      "source": [
        "x_test = x_test[:].reshape(10000, 784).astype('float32') / 255\n",
        "test_dataset = tf.data.Dataset.from_tensor_slices((x_test, y_test))\n",
        "test_dataset = test_dataset.batch(128)\n",
        "\n",
        "loss, acc = model.evaluate(test_dataset)\n",
        "print('loss: %.3f - acc: %.3f' % (loss, acc))"
      ],
      "execution_count": 139,
      "outputs": [
        {
          "output_type": "stream",
          "text": [
            "79/79 [==============================] - 0s 4ms/step - loss: 0.0918 - sparse_categorical_accuracy: 0.9751\n",
            "loss: 0.092 - acc: 0.975\n"
          ],
          "name": "stdout"
        }
      ]
    },
    {
      "cell_type": "code",
      "metadata": {
        "colab": {
          "base_uri": "https://localhost:8080/"
        },
        "id": "VcKc5RLFgZ_N",
        "outputId": "dd705a96-a17f-4f9d-a8ca-fa73c1c785e7"
      },
      "source": [
        "# Instantiate a simple classification model\n",
        "model = tf.keras.Sequential([\n",
        "  layers.Dense(256, activation=tf.nn.relu),\n",
        "  layers.Dense(256, activation=tf.nn.relu),\n",
        "  layers.Dense(10)\n",
        "])\n",
        "\n",
        "# Instantiate a logistic loss function that expects integer targets.\n",
        "loss = tf.keras.losses.SparseCategoricalCrossentropy(from_logits=True)\n",
        "\n",
        "# Instantiate an accuracy metric.\n",
        "accuracy = tf.keras.metrics.SparseCategoricalAccuracy()\n",
        "\n",
        "# Instantiate an optimizer.\n",
        "optimizer = tf.keras.optimizers.Adam()\n",
        "\n",
        "model.compile(optimizer=optimizer,\n",
        "              loss=loss,\n",
        "              metrics=[accuracy])\n",
        "\n",
        "# Instantiate some callbacks\n",
        "callbacks = [tf.keras.callbacks.EarlyStopping(),\n",
        "             tf.keras.callbacks.ModelCheckpoint(filepath='my_model.keras',\n",
        "                                                save_best_only=True)]\n",
        "\n",
        "model.fit(x_train, y_train,\n",
        "          validation_data=(x_test, y_test),\n",
        "          epochs=30,\n",
        "          batch_size=64,\n",
        "          callbacks=callbacks)"
      ],
      "execution_count": 140,
      "outputs": [
        {
          "output_type": "stream",
          "text": [
            "Epoch 1/30\n",
            "938/938 [==============================] - 6s 6ms/step - loss: 0.4014 - sparse_categorical_accuracy: 0.8829 - val_loss: 0.1057 - val_sparse_categorical_accuracy: 0.9665\n",
            "Epoch 2/30\n",
            "938/938 [==============================] - 5s 6ms/step - loss: 0.0863 - sparse_categorical_accuracy: 0.9732 - val_loss: 0.0991 - val_sparse_categorical_accuracy: 0.9685\n",
            "Epoch 3/30\n",
            "938/938 [==============================] - 6s 6ms/step - loss: 0.0575 - sparse_categorical_accuracy: 0.9823 - val_loss: 0.0853 - val_sparse_categorical_accuracy: 0.9733\n",
            "Epoch 4/30\n",
            "938/938 [==============================] - 5s 6ms/step - loss: 0.0381 - sparse_categorical_accuracy: 0.9874 - val_loss: 0.0849 - val_sparse_categorical_accuracy: 0.9759\n",
            "Epoch 5/30\n",
            "938/938 [==============================] - 6s 6ms/step - loss: 0.0272 - sparse_categorical_accuracy: 0.9909 - val_loss: 0.0854 - val_sparse_categorical_accuracy: 0.9772\n"
          ],
          "name": "stdout"
        },
        {
          "output_type": "execute_result",
          "data": {
            "text/plain": [
              "<tensorflow.python.keras.callbacks.History at 0x7fc4359b1150>"
            ]
          },
          "metadata": {
            "tags": []
          },
          "execution_count": 140
        }
      ]
    },
    {
      "cell_type": "code",
      "metadata": {
        "colab": {
          "base_uri": "https://localhost:8080/",
          "height": 370
        },
        "id": "8ZFf7KFCllLn",
        "outputId": "d7b453ff-2883-4366-ba8d-4f6e8305f346"
      },
      "source": [
        "plot_3d(x, y_true, y_pred)"
      ],
      "execution_count": 141,
      "outputs": [
        {
          "output_type": "stream",
          "text": [
            "/usr/local/lib/python3.7/dist-packages/mpl_toolkits/mplot3d/art3d.py:794: FutureWarning: elementwise comparison failed; returning scalar instead, but in the future will perform elementwise comparison\n",
            "  if zdir == 'x':\n",
            "/usr/local/lib/python3.7/dist-packages/mpl_toolkits/mplot3d/art3d.py:796: FutureWarning: elementwise comparison failed; returning scalar instead, but in the future will perform elementwise comparison\n",
            "  elif zdir == 'y':\n",
            "/usr/local/lib/python3.7/dist-packages/mpl_toolkits/mplot3d/art3d.py:798: FutureWarning: elementwise comparison failed; returning scalar instead, but in the future will perform elementwise comparison\n",
            "  elif zdir[0] == '-':\n"
          ],
          "name": "stderr"
        },
        {
          "output_type": "display_data",
          "data": {
            "image/png": "[encoded data removed]",
            "text/plain": [
              "<Figure size 432x288 with 1 Axes>"
            ]
          },
          "metadata": {
            "tags": [],
            "needs_background": "light"
          }
        }
      ]
    },
    {
      "cell_type": "markdown",
      "metadata": {
        "id": "bzudtnD8y80d"
      },
      "source": [
        "### References followed :\n",
        "Class PPT \n",
        "\n",
        "\n"
      ]
    }
  ]
}